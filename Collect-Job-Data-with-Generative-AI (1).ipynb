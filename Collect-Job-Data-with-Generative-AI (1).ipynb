{
 "cells": [
  {
   "cell_type": "markdown",
   "id": "5c9b462b-2760-4271-a059-26dc05f2676c",
   "metadata": {
    "tags": []
   },
   "source": [
    "# Collect Job Data with Generative AI"
   ]
  },
  {
   "cell_type": "markdown",
   "id": "ba015818-4711-4117-be78-5f1a67abacf9",
   "metadata": {},
   "source": [
    "This notebook demonstrates how to collect job posts from [USAJOBS](https://developer.usajobs.gov/). \n",
    "\n",
    "Please note:\n",
    "- If you find a data source that provides direct data download, downloading data is the easiest way.\n",
    "- Otherwise, APIs can be used with the assistance of AI to collect data.\n",
    "- Please avoid web crawling with AI, and always check the [robots.txt](https://developers.google.com/search/docs/crawling-indexing/robots/intro) file before crawling a website."
   ]
  },
  {
   "cell_type": "markdown",
   "id": "a8dcf1ab-978e-4bbc-bd91-3f205d76ef70",
   "metadata": {},
   "source": [
    "## Set up a Database and Request API Keys"
   ]
  },
  {
   "cell_type": "markdown",
   "id": "b98abb53-0b08-4762-bd0a-d86026790c8b",
   "metadata": {},
   "source": [
    "Create a [MongoDB](www.mongodb.com) cluster and store the connection string in a safe place, such as AWS Secrets Manager. \n",
    "- key name: `api_key`\n",
    "- key value: <`the connection string`>, you need to type the password\n",
    "- secret name: `mongodb`\n",
    "\n",
    "Request a [USAJOBS API key](https://developer.usajobs.gov/apirequest/) and store the key in a safe place, such as AWS Secrets Manager. \n",
    "- key name: `api_key`\n",
    "- key value: <`the API key you received in email`>\n",
    "- secret name: `usajobs`\n",
    "\n",
    "You also need to store your email in AWS Secrets Manager:\n",
    "- key name: `address`\n",
    "- key value: <`the email you used in applying the API key`>\n",
    "- secret name: `email`"
   ]
  },
  {
   "cell_type": "markdown",
   "id": "e70828b2-923a-4fd6-b2aa-85bceaff0576",
   "metadata": {},
   "source": [
    "## Install Python Packages"
   ]
  },
  {
   "cell_type": "markdown",
   "id": "51a728cd-50a4-40a7-978b-0f667e975d96",
   "metadata": {},
   "source": [
    "- jupyter-ai: the JupyterLab extension to call Generative AI models\n",
    "- langchain-openai: the LangChain package to interact with OpenAI\n",
    "- pymongo: manage the MongoDB database"
   ]
  },
  {
   "cell_type": "code",
   "execution_count": 21,
   "id": "66326769-b881-43bf-83f8-d051961e40c7",
   "metadata": {
    "scrolled": true,
    "tags": []
   },
   "outputs": [
    {
     "name": "stdout",
     "output_type": "stream",
     "text": [
      "Requirement already satisfied: jupyter-ai~=1.0 in /home/ec2-user/anaconda3/envs/python3/lib/python3.10/site-packages (1.15.0)\n",
      "Requirement already satisfied: aiosqlite>=0.18 in /home/ec2-user/anaconda3/envs/python3/lib/python3.10/site-packages (from jupyter-ai~=1.0) (0.20.0)\n",
      "Requirement already satisfied: dask[distributed] in /home/ec2-user/anaconda3/envs/python3/lib/python3.10/site-packages (from jupyter-ai~=1.0) (2024.2.1)\n",
      "Requirement already satisfied: deepmerge>=1.0 in /home/ec2-user/anaconda3/envs/python3/lib/python3.10/site-packages (from jupyter-ai~=1.0) (2.0)\n",
      "Requirement already satisfied: faiss-cpu in /home/ec2-user/anaconda3/envs/python3/lib/python3.10/site-packages (from jupyter-ai~=1.0) (1.9.0)\n",
      "Requirement already satisfied: importlib-metadata>=5.2.0 in /home/ec2-user/anaconda3/envs/python3/lib/python3.10/site-packages (from jupyter-ai~=1.0) (6.11.0)\n",
      "Requirement already satisfied: jupyter-ai-magics in /home/ec2-user/anaconda3/envs/python3/lib/python3.10/site-packages (from jupyter-ai~=1.0) (2.26.0)\n",
      "Requirement already satisfied: jupyter-server<3,>=1.6 in /home/ec2-user/anaconda3/envs/python3/lib/python3.10/site-packages (from jupyter-ai~=1.0) (2.14.2)\n",
      "Requirement already satisfied: jupyterlab<4,>=3.5 in /home/ec2-user/anaconda3/envs/python3/lib/python3.10/site-packages (from jupyter-ai~=1.0) (3.6.8)\n",
      "Requirement already satisfied: traitlets>=5.0 in /home/ec2-user/anaconda3/envs/python3/lib/python3.10/site-packages (from jupyter-ai~=1.0) (5.14.3)\n",
      "Requirement already satisfied: typing-extensions>=4.5.0 in /home/ec2-user/anaconda3/envs/python3/lib/python3.10/site-packages (from jupyter-ai~=1.0) (4.12.2)\n",
      "Requirement already satisfied: zipp>=0.5 in /home/ec2-user/anaconda3/envs/python3/lib/python3.10/site-packages (from importlib-metadata>=5.2.0->jupyter-ai~=1.0) (3.20.2)\n",
      "Requirement already satisfied: anyio>=3.1.0 in /home/ec2-user/anaconda3/envs/python3/lib/python3.10/site-packages (from jupyter-server<3,>=1.6->jupyter-ai~=1.0) (4.6.0)\n",
      "Requirement already satisfied: argon2-cffi>=21.1 in /home/ec2-user/anaconda3/envs/python3/lib/python3.10/site-packages (from jupyter-server<3,>=1.6->jupyter-ai~=1.0) (23.1.0)\n",
      "Requirement already satisfied: jinja2>=3.0.3 in /home/ec2-user/anaconda3/envs/python3/lib/python3.10/site-packages (from jupyter-server<3,>=1.6->jupyter-ai~=1.0) (3.1.4)\n",
      "Requirement already satisfied: jupyter-client>=7.4.4 in /home/ec2-user/anaconda3/envs/python3/lib/python3.10/site-packages (from jupyter-server<3,>=1.6->jupyter-ai~=1.0) (7.4.9)\n",
      "Requirement already satisfied: jupyter-core!=5.0.*,>=4.12 in /home/ec2-user/anaconda3/envs/python3/lib/python3.10/site-packages (from jupyter-server<3,>=1.6->jupyter-ai~=1.0) (5.7.2)\n",
      "Requirement already satisfied: jupyter-events>=0.9.0 in /home/ec2-user/anaconda3/envs/python3/lib/python3.10/site-packages (from jupyter-server<3,>=1.6->jupyter-ai~=1.0) (0.10.0)\n",
      "Requirement already satisfied: jupyter-server-terminals>=0.4.4 in /home/ec2-user/anaconda3/envs/python3/lib/python3.10/site-packages (from jupyter-server<3,>=1.6->jupyter-ai~=1.0) (0.5.3)\n",
      "Requirement already satisfied: nbconvert>=6.4.4 in /home/ec2-user/anaconda3/envs/python3/lib/python3.10/site-packages (from jupyter-server<3,>=1.6->jupyter-ai~=1.0) (7.16.4)\n",
      "Requirement already satisfied: nbformat>=5.3.0 in /home/ec2-user/anaconda3/envs/python3/lib/python3.10/site-packages (from jupyter-server<3,>=1.6->jupyter-ai~=1.0) (5.10.4)\n",
      "Requirement already satisfied: overrides>=5.0 in /home/ec2-user/anaconda3/envs/python3/lib/python3.10/site-packages (from jupyter-server<3,>=1.6->jupyter-ai~=1.0) (7.7.0)\n",
      "Requirement already satisfied: packaging>=22.0 in /home/ec2-user/anaconda3/envs/python3/lib/python3.10/site-packages (from jupyter-server<3,>=1.6->jupyter-ai~=1.0) (24.1)\n",
      "Requirement already satisfied: prometheus-client>=0.9 in /home/ec2-user/anaconda3/envs/python3/lib/python3.10/site-packages (from jupyter-server<3,>=1.6->jupyter-ai~=1.0) (0.21.0)\n",
      "Requirement already satisfied: pyzmq>=24 in /home/ec2-user/anaconda3/envs/python3/lib/python3.10/site-packages (from jupyter-server<3,>=1.6->jupyter-ai~=1.0) (26.2.0)\n",
      "Requirement already satisfied: send2trash>=1.8.2 in /home/ec2-user/anaconda3/envs/python3/lib/python3.10/site-packages (from jupyter-server<3,>=1.6->jupyter-ai~=1.0) (1.8.3)\n",
      "Requirement already satisfied: terminado>=0.8.3 in /home/ec2-user/anaconda3/envs/python3/lib/python3.10/site-packages (from jupyter-server<3,>=1.6->jupyter-ai~=1.0) (0.18.1)\n",
      "Requirement already satisfied: tornado>=6.2.0 in /home/ec2-user/anaconda3/envs/python3/lib/python3.10/site-packages (from jupyter-server<3,>=1.6->jupyter-ai~=1.0) (6.4.1)\n",
      "Requirement already satisfied: websocket-client>=1.7 in /home/ec2-user/anaconda3/envs/python3/lib/python3.10/site-packages (from jupyter-server<3,>=1.6->jupyter-ai~=1.0) (1.8.0)\n",
      "Requirement already satisfied: ipython in /home/ec2-user/anaconda3/envs/python3/lib/python3.10/site-packages (from jupyterlab<4,>=3.5->jupyter-ai~=1.0) (8.27.0)\n",
      "Requirement already satisfied: jupyterlab-server~=2.19 in /home/ec2-user/anaconda3/envs/python3/lib/python3.10/site-packages (from jupyterlab<4,>=3.5->jupyter-ai~=1.0) (2.27.3)\n",
      "Requirement already satisfied: jupyter-ydoc~=0.2.4 in /home/ec2-user/anaconda3/envs/python3/lib/python3.10/site-packages (from jupyterlab<4,>=3.5->jupyter-ai~=1.0) (0.2.5)\n",
      "Requirement already satisfied: jupyter-server-ydoc~=0.8.0 in /home/ec2-user/anaconda3/envs/python3/lib/python3.10/site-packages (from jupyterlab<4,>=3.5->jupyter-ai~=1.0) (0.8.0)\n",
      "Requirement already satisfied: nbclassic in /home/ec2-user/anaconda3/envs/python3/lib/python3.10/site-packages (from jupyterlab<4,>=3.5->jupyter-ai~=1.0) (1.1.0)\n",
      "Requirement already satisfied: notebook<7 in /home/ec2-user/anaconda3/envs/python3/lib/python3.10/site-packages (from jupyterlab<4,>=3.5->jupyter-ai~=1.0) (6.5.7)\n",
      "Requirement already satisfied: tomli in /home/ec2-user/anaconda3/envs/python3/lib/python3.10/site-packages (from jupyterlab<4,>=3.5->jupyter-ai~=1.0) (2.0.1)\n",
      "Requirement already satisfied: click>=8.1 in /home/ec2-user/anaconda3/envs/python3/lib/python3.10/site-packages (from dask[distributed]->jupyter-ai~=1.0) (8.1.7)\n",
      "Requirement already satisfied: cloudpickle>=1.5.0 in /home/ec2-user/anaconda3/envs/python3/lib/python3.10/site-packages (from dask[distributed]->jupyter-ai~=1.0) (2.2.1)\n",
      "Requirement already satisfied: fsspec>=2021.09.0 in /home/ec2-user/anaconda3/envs/python3/lib/python3.10/site-packages (from dask[distributed]->jupyter-ai~=1.0) (2024.9.0)\n",
      "Requirement already satisfied: partd>=1.2.0 in /home/ec2-user/anaconda3/envs/python3/lib/python3.10/site-packages (from dask[distributed]->jupyter-ai~=1.0) (1.4.2)\n",
      "Requirement already satisfied: pyyaml>=5.3.1 in /home/ec2-user/anaconda3/envs/python3/lib/python3.10/site-packages (from dask[distributed]->jupyter-ai~=1.0) (6.0.2)\n",
      "Requirement already satisfied: toolz>=0.10.0 in /home/ec2-user/anaconda3/envs/python3/lib/python3.10/site-packages (from dask[distributed]->jupyter-ai~=1.0) (0.12.1)\n",
      "Requirement already satisfied: distributed==2024.2.1 in /home/ec2-user/anaconda3/envs/python3/lib/python3.10/site-packages (from dask[distributed]->jupyter-ai~=1.0) (2024.2.1)\n",
      "Requirement already satisfied: locket>=1.0.0 in /home/ec2-user/anaconda3/envs/python3/lib/python3.10/site-packages (from distributed==2024.2.1->dask[distributed]->jupyter-ai~=1.0) (1.0.0)\n",
      "Requirement already satisfied: msgpack>=1.0.0 in /home/ec2-user/anaconda3/envs/python3/lib/python3.10/site-packages (from distributed==2024.2.1->dask[distributed]->jupyter-ai~=1.0) (1.1.0)\n",
      "Requirement already satisfied: psutil>=5.7.2 in /home/ec2-user/anaconda3/envs/python3/lib/python3.10/site-packages (from distributed==2024.2.1->dask[distributed]->jupyter-ai~=1.0) (6.0.0)\n",
      "Requirement already satisfied: sortedcontainers>=2.0.5 in /home/ec2-user/anaconda3/envs/python3/lib/python3.10/site-packages (from distributed==2024.2.1->dask[distributed]->jupyter-ai~=1.0) (2.4.0)\n",
      "Requirement already satisfied: tblib>=1.6.0 in /home/ec2-user/anaconda3/envs/python3/lib/python3.10/site-packages (from distributed==2024.2.1->dask[distributed]->jupyter-ai~=1.0) (3.0.0)\n",
      "Requirement already satisfied: urllib3>=1.24.3 in /home/ec2-user/anaconda3/envs/python3/lib/python3.10/site-packages (from distributed==2024.2.1->dask[distributed]->jupyter-ai~=1.0) (2.2.3)\n",
      "Requirement already satisfied: zict>=3.0.0 in /home/ec2-user/anaconda3/envs/python3/lib/python3.10/site-packages (from distributed==2024.2.1->dask[distributed]->jupyter-ai~=1.0) (3.0.0)\n",
      "Requirement already satisfied: numpy<3.0,>=1.25.0 in /home/ec2-user/anaconda3/envs/python3/lib/python3.10/site-packages (from faiss-cpu->jupyter-ai~=1.0) (1.26.4)\n",
      "Requirement already satisfied: jsonpath-ng<2,>=1.5.3 in /home/ec2-user/anaconda3/envs/python3/lib/python3.10/site-packages (from jupyter-ai-magics->jupyter-ai~=1.0) (1.7.0)\n",
      "Requirement already satisfied: langchain-community<0.3.0,>=0.1.0 in /home/ec2-user/anaconda3/envs/python3/lib/python3.10/site-packages (from jupyter-ai-magics->jupyter-ai~=1.0) (0.2.17)\n",
      "Requirement already satisfied: langchain<0.3.0,>=0.1.0 in /home/ec2-user/anaconda3/envs/python3/lib/python3.10/site-packages (from jupyter-ai-magics->jupyter-ai~=1.0) (0.2.16)\n",
      "Requirement already satisfied: idna>=2.8 in /home/ec2-user/anaconda3/envs/python3/lib/python3.10/site-packages (from anyio>=3.1.0->jupyter-server<3,>=1.6->jupyter-ai~=1.0) (3.10)\n",
      "Requirement already satisfied: sniffio>=1.1 in /home/ec2-user/anaconda3/envs/python3/lib/python3.10/site-packages (from anyio>=3.1.0->jupyter-server<3,>=1.6->jupyter-ai~=1.0) (1.3.1)\n",
      "Requirement already satisfied: exceptiongroup>=1.0.2 in /home/ec2-user/anaconda3/envs/python3/lib/python3.10/site-packages (from anyio>=3.1.0->jupyter-server<3,>=1.6->jupyter-ai~=1.0) (1.2.2)\n",
      "Requirement already satisfied: argon2-cffi-bindings in /home/ec2-user/anaconda3/envs/python3/lib/python3.10/site-packages (from argon2-cffi>=21.1->jupyter-server<3,>=1.6->jupyter-ai~=1.0) (21.2.0)\n",
      "Requirement already satisfied: MarkupSafe>=2.0 in /home/ec2-user/anaconda3/envs/python3/lib/python3.10/site-packages (from jinja2>=3.0.3->jupyter-server<3,>=1.6->jupyter-ai~=1.0) (2.1.5)\n",
      "Requirement already satisfied: ply in /home/ec2-user/anaconda3/envs/python3/lib/python3.10/site-packages (from jsonpath-ng<2,>=1.5.3->jupyter-ai-magics->jupyter-ai~=1.0) (3.11)\n",
      "Requirement already satisfied: entrypoints in /home/ec2-user/anaconda3/envs/python3/lib/python3.10/site-packages (from jupyter-client>=7.4.4->jupyter-server<3,>=1.6->jupyter-ai~=1.0) (0.4)\n",
      "Requirement already satisfied: nest-asyncio>=1.5.4 in /home/ec2-user/anaconda3/envs/python3/lib/python3.10/site-packages (from jupyter-client>=7.4.4->jupyter-server<3,>=1.6->jupyter-ai~=1.0) (1.6.0)\n",
      "Requirement already satisfied: python-dateutil>=2.8.2 in /home/ec2-user/anaconda3/envs/python3/lib/python3.10/site-packages (from jupyter-client>=7.4.4->jupyter-server<3,>=1.6->jupyter-ai~=1.0) (2.9.0)\n",
      "Requirement already satisfied: platformdirs>=2.5 in /home/ec2-user/anaconda3/envs/python3/lib/python3.10/site-packages (from jupyter-core!=5.0.*,>=4.12->jupyter-server<3,>=1.6->jupyter-ai~=1.0) (4.3.6)\n",
      "Requirement already satisfied: jsonschema>=4.18.0 in /home/ec2-user/anaconda3/envs/python3/lib/python3.10/site-packages (from jsonschema[format-nongpl]>=4.18.0->jupyter-events>=0.9.0->jupyter-server<3,>=1.6->jupyter-ai~=1.0) (4.23.0)\n",
      "Requirement already satisfied: python-json-logger>=2.0.4 in /home/ec2-user/anaconda3/envs/python3/lib/python3.10/site-packages (from jupyter-events>=0.9.0->jupyter-server<3,>=1.6->jupyter-ai~=1.0) (2.0.7)\n",
      "Requirement already satisfied: referencing in /home/ec2-user/anaconda3/envs/python3/lib/python3.10/site-packages (from jupyter-events>=0.9.0->jupyter-server<3,>=1.6->jupyter-ai~=1.0) (0.35.1)\n",
      "Requirement already satisfied: rfc3339-validator in /home/ec2-user/anaconda3/envs/python3/lib/python3.10/site-packages (from jupyter-events>=0.9.0->jupyter-server<3,>=1.6->jupyter-ai~=1.0) (0.1.4)\n",
      "Requirement already satisfied: rfc3986-validator>=0.1.1 in /home/ec2-user/anaconda3/envs/python3/lib/python3.10/site-packages (from jupyter-events>=0.9.0->jupyter-server<3,>=1.6->jupyter-ai~=1.0) (0.1.1)\n",
      "Requirement already satisfied: jupyter-server-fileid<1,>=0.6.0 in /home/ec2-user/anaconda3/envs/python3/lib/python3.10/site-packages (from jupyter-server-ydoc~=0.8.0->jupyterlab<4,>=3.5->jupyter-ai~=1.0) (0.9.3)\n",
      "Requirement already satisfied: ypy-websocket<0.9.0,>=0.8.2 in /home/ec2-user/anaconda3/envs/python3/lib/python3.10/site-packages (from jupyter-server-ydoc~=0.8.0->jupyterlab<4,>=3.5->jupyter-ai~=1.0) (0.8.4)\n",
      "Requirement already satisfied: y-py<0.7.0,>=0.6.0 in /home/ec2-user/anaconda3/envs/python3/lib/python3.10/site-packages (from jupyter-ydoc~=0.2.4->jupyterlab<4,>=3.5->jupyter-ai~=1.0) (0.6.2)\n",
      "Requirement already satisfied: babel>=2.10 in /home/ec2-user/anaconda3/envs/python3/lib/python3.10/site-packages (from jupyterlab-server~=2.19->jupyterlab<4,>=3.5->jupyter-ai~=1.0) (2.14.0)\n",
      "Requirement already satisfied: json5>=0.9.0 in /home/ec2-user/anaconda3/envs/python3/lib/python3.10/site-packages (from jupyterlab-server~=2.19->jupyterlab<4,>=3.5->jupyter-ai~=1.0) (0.9.25)\n",
      "Requirement already satisfied: requests>=2.31 in /home/ec2-user/anaconda3/envs/python3/lib/python3.10/site-packages (from jupyterlab-server~=2.19->jupyterlab<4,>=3.5->jupyter-ai~=1.0) (2.32.3)\n",
      "Requirement already satisfied: SQLAlchemy<3,>=1.4 in /home/ec2-user/anaconda3/envs/python3/lib/python3.10/site-packages (from langchain<0.3.0,>=0.1.0->jupyter-ai-magics->jupyter-ai~=1.0) (2.0.35)\n",
      "Requirement already satisfied: aiohttp<4.0.0,>=3.8.3 in /home/ec2-user/anaconda3/envs/python3/lib/python3.10/site-packages (from langchain<0.3.0,>=0.1.0->jupyter-ai-magics->jupyter-ai~=1.0) (3.10.6)\n",
      "Requirement already satisfied: async-timeout<5.0.0,>=4.0.0 in /home/ec2-user/anaconda3/envs/python3/lib/python3.10/site-packages (from langchain<0.3.0,>=0.1.0->jupyter-ai-magics->jupyter-ai~=1.0) (4.0.3)\n",
      "Requirement already satisfied: langchain-core<0.3.0,>=0.2.38 in /home/ec2-user/anaconda3/envs/python3/lib/python3.10/site-packages (from langchain<0.3.0,>=0.1.0->jupyter-ai-magics->jupyter-ai~=1.0) (0.2.41)\n",
      "Requirement already satisfied: langchain-text-splitters<0.3.0,>=0.2.0 in /home/ec2-user/anaconda3/envs/python3/lib/python3.10/site-packages (from langchain<0.3.0,>=0.1.0->jupyter-ai-magics->jupyter-ai~=1.0) (0.2.4)\n",
      "Requirement already satisfied: langsmith<0.2.0,>=0.1.17 in /home/ec2-user/anaconda3/envs/python3/lib/python3.10/site-packages (from langchain<0.3.0,>=0.1.0->jupyter-ai-magics->jupyter-ai~=1.0) (0.1.137)\n",
      "Requirement already satisfied: pydantic<3,>=1 in /home/ec2-user/anaconda3/envs/python3/lib/python3.10/site-packages (from langchain<0.3.0,>=0.1.0->jupyter-ai-magics->jupyter-ai~=1.0) (2.9.2)\n",
      "Requirement already satisfied: tenacity!=8.4.0,<9.0.0,>=8.1.0 in /home/ec2-user/anaconda3/envs/python3/lib/python3.10/site-packages (from langchain<0.3.0,>=0.1.0->jupyter-ai-magics->jupyter-ai~=1.0) (8.5.0)\n",
      "Requirement already satisfied: dataclasses-json<0.7,>=0.5.7 in /home/ec2-user/anaconda3/envs/python3/lib/python3.10/site-packages (from langchain-community<0.3.0,>=0.1.0->jupyter-ai-magics->jupyter-ai~=1.0) (0.6.7)\n",
      "Requirement already satisfied: beautifulsoup4 in /home/ec2-user/anaconda3/envs/python3/lib/python3.10/site-packages (from nbconvert>=6.4.4->jupyter-server<3,>=1.6->jupyter-ai~=1.0) (4.12.3)\n",
      "Requirement already satisfied: bleach!=5.0.0 in /home/ec2-user/anaconda3/envs/python3/lib/python3.10/site-packages (from nbconvert>=6.4.4->jupyter-server<3,>=1.6->jupyter-ai~=1.0) (6.1.0)\n",
      "Requirement already satisfied: defusedxml in /home/ec2-user/anaconda3/envs/python3/lib/python3.10/site-packages (from nbconvert>=6.4.4->jupyter-server<3,>=1.6->jupyter-ai~=1.0) (0.7.1)\n",
      "Requirement already satisfied: jupyterlab-pygments in /home/ec2-user/anaconda3/envs/python3/lib/python3.10/site-packages (from nbconvert>=6.4.4->jupyter-server<3,>=1.6->jupyter-ai~=1.0) (0.3.0)\n",
      "Requirement already satisfied: mistune<4,>=2.0.3 in /home/ec2-user/anaconda3/envs/python3/lib/python3.10/site-packages (from nbconvert>=6.4.4->jupyter-server<3,>=1.6->jupyter-ai~=1.0) (3.0.2)\n",
      "Requirement already satisfied: nbclient>=0.5.0 in /home/ec2-user/anaconda3/envs/python3/lib/python3.10/site-packages (from nbconvert>=6.4.4->jupyter-server<3,>=1.6->jupyter-ai~=1.0) (0.10.0)\n",
      "Requirement already satisfied: pandocfilters>=1.4.1 in /home/ec2-user/anaconda3/envs/python3/lib/python3.10/site-packages (from nbconvert>=6.4.4->jupyter-server<3,>=1.6->jupyter-ai~=1.0) (1.5.0)\n",
      "Requirement already satisfied: pygments>=2.4.1 in /home/ec2-user/anaconda3/envs/python3/lib/python3.10/site-packages (from nbconvert>=6.4.4->jupyter-server<3,>=1.6->jupyter-ai~=1.0) (2.18.0)\n",
      "Requirement already satisfied: tinycss2 in /home/ec2-user/anaconda3/envs/python3/lib/python3.10/site-packages (from nbconvert>=6.4.4->jupyter-server<3,>=1.6->jupyter-ai~=1.0) (1.3.0)\n",
      "Requirement already satisfied: fastjsonschema>=2.15 in /home/ec2-user/anaconda3/envs/python3/lib/python3.10/site-packages (from nbformat>=5.3.0->jupyter-server<3,>=1.6->jupyter-ai~=1.0) (2.20.0)\n",
      "Requirement already satisfied: ipython-genutils in /home/ec2-user/anaconda3/envs/python3/lib/python3.10/site-packages (from notebook<7->jupyterlab<4,>=3.5->jupyter-ai~=1.0) (0.2.0)\n",
      "Requirement already satisfied: ipykernel in /home/ec2-user/anaconda3/envs/python3/lib/python3.10/site-packages (from notebook<7->jupyterlab<4,>=3.5->jupyter-ai~=1.0) (6.29.5)\n",
      "Requirement already satisfied: notebook-shim>=0.2.3 in /home/ec2-user/anaconda3/envs/python3/lib/python3.10/site-packages (from nbclassic->jupyterlab<4,>=3.5->jupyter-ai~=1.0) (0.2.4)\n",
      "Requirement already satisfied: ptyprocess in /home/ec2-user/anaconda3/envs/python3/lib/python3.10/site-packages (from terminado>=0.8.3->jupyter-server<3,>=1.6->jupyter-ai~=1.0) (0.7.0)\n",
      "Requirement already satisfied: decorator in /home/ec2-user/anaconda3/envs/python3/lib/python3.10/site-packages (from ipython->jupyterlab<4,>=3.5->jupyter-ai~=1.0) (5.1.1)\n",
      "Requirement already satisfied: jedi>=0.16 in /home/ec2-user/anaconda3/envs/python3/lib/python3.10/site-packages (from ipython->jupyterlab<4,>=3.5->jupyter-ai~=1.0) (0.19.1)\n",
      "Requirement already satisfied: matplotlib-inline in /home/ec2-user/anaconda3/envs/python3/lib/python3.10/site-packages (from ipython->jupyterlab<4,>=3.5->jupyter-ai~=1.0) (0.1.7)\n",
      "Requirement already satisfied: prompt-toolkit<3.1.0,>=3.0.41 in /home/ec2-user/anaconda3/envs/python3/lib/python3.10/site-packages (from ipython->jupyterlab<4,>=3.5->jupyter-ai~=1.0) (3.0.48)\n",
      "Requirement already satisfied: stack-data in /home/ec2-user/anaconda3/envs/python3/lib/python3.10/site-packages (from ipython->jupyterlab<4,>=3.5->jupyter-ai~=1.0) (0.6.2)\n",
      "Requirement already satisfied: pexpect>4.3 in /home/ec2-user/anaconda3/envs/python3/lib/python3.10/site-packages (from ipython->jupyterlab<4,>=3.5->jupyter-ai~=1.0) (4.9.0)\n",
      "Requirement already satisfied: aiohappyeyeballs>=2.3.0 in /home/ec2-user/anaconda3/envs/python3/lib/python3.10/site-packages (from aiohttp<4.0.0,>=3.8.3->langchain<0.3.0,>=0.1.0->jupyter-ai-magics->jupyter-ai~=1.0) (2.4.2)\n",
      "Requirement already satisfied: aiosignal>=1.1.2 in /home/ec2-user/anaconda3/envs/python3/lib/python3.10/site-packages (from aiohttp<4.0.0,>=3.8.3->langchain<0.3.0,>=0.1.0->jupyter-ai-magics->jupyter-ai~=1.0) (1.3.1)\n",
      "Requirement already satisfied: attrs>=17.3.0 in /home/ec2-user/anaconda3/envs/python3/lib/python3.10/site-packages (from aiohttp<4.0.0,>=3.8.3->langchain<0.3.0,>=0.1.0->jupyter-ai-magics->jupyter-ai~=1.0) (23.2.0)\n",
      "Requirement already satisfied: frozenlist>=1.1.1 in /home/ec2-user/anaconda3/envs/python3/lib/python3.10/site-packages (from aiohttp<4.0.0,>=3.8.3->langchain<0.3.0,>=0.1.0->jupyter-ai-magics->jupyter-ai~=1.0) (1.4.1)\n",
      "Requirement already satisfied: multidict<7.0,>=4.5 in /home/ec2-user/anaconda3/envs/python3/lib/python3.10/site-packages (from aiohttp<4.0.0,>=3.8.3->langchain<0.3.0,>=0.1.0->jupyter-ai-magics->jupyter-ai~=1.0) (6.1.0)\n",
      "Requirement already satisfied: yarl<2.0,>=1.12.0 in /home/ec2-user/anaconda3/envs/python3/lib/python3.10/site-packages (from aiohttp<4.0.0,>=3.8.3->langchain<0.3.0,>=0.1.0->jupyter-ai-magics->jupyter-ai~=1.0) (1.13.0)\n",
      "Requirement already satisfied: six>=1.9.0 in /home/ec2-user/anaconda3/envs/python3/lib/python3.10/site-packages (from bleach!=5.0.0->nbconvert>=6.4.4->jupyter-server<3,>=1.6->jupyter-ai~=1.0) (1.16.0)\n",
      "Requirement already satisfied: webencodings in /home/ec2-user/anaconda3/envs/python3/lib/python3.10/site-packages (from bleach!=5.0.0->nbconvert>=6.4.4->jupyter-server<3,>=1.6->jupyter-ai~=1.0) (0.5.1)\n",
      "Requirement already satisfied: marshmallow<4.0.0,>=3.18.0 in /home/ec2-user/anaconda3/envs/python3/lib/python3.10/site-packages (from dataclasses-json<0.7,>=0.5.7->langchain-community<0.3.0,>=0.1.0->jupyter-ai-magics->jupyter-ai~=1.0) (3.23.0)\n",
      "Requirement already satisfied: typing-inspect<1,>=0.4.0 in /home/ec2-user/anaconda3/envs/python3/lib/python3.10/site-packages (from dataclasses-json<0.7,>=0.5.7->langchain-community<0.3.0,>=0.1.0->jupyter-ai-magics->jupyter-ai~=1.0) (0.9.0)\n",
      "Requirement already satisfied: parso<0.9.0,>=0.8.3 in /home/ec2-user/anaconda3/envs/python3/lib/python3.10/site-packages (from jedi>=0.16->ipython->jupyterlab<4,>=3.5->jupyter-ai~=1.0) (0.8.4)\n",
      "Requirement already satisfied: jsonschema-specifications>=2023.03.6 in /home/ec2-user/anaconda3/envs/python3/lib/python3.10/site-packages (from jsonschema>=4.18.0->jsonschema[format-nongpl]>=4.18.0->jupyter-events>=0.9.0->jupyter-server<3,>=1.6->jupyter-ai~=1.0) (2023.12.1)\n",
      "Requirement already satisfied: rpds-py>=0.7.1 in /home/ec2-user/anaconda3/envs/python3/lib/python3.10/site-packages (from jsonschema>=4.18.0->jsonschema[format-nongpl]>=4.18.0->jupyter-events>=0.9.0->jupyter-server<3,>=1.6->jupyter-ai~=1.0) (0.20.0)\n",
      "Requirement already satisfied: fqdn in /home/ec2-user/anaconda3/envs/python3/lib/python3.10/site-packages (from jsonschema[format-nongpl]>=4.18.0->jupyter-events>=0.9.0->jupyter-server<3,>=1.6->jupyter-ai~=1.0) (1.5.1)\n",
      "Requirement already satisfied: isoduration in /home/ec2-user/anaconda3/envs/python3/lib/python3.10/site-packages (from jsonschema[format-nongpl]>=4.18.0->jupyter-events>=0.9.0->jupyter-server<3,>=1.6->jupyter-ai~=1.0) (20.11.0)\n",
      "Requirement already satisfied: jsonpointer>1.13 in /home/ec2-user/anaconda3/envs/python3/lib/python3.10/site-packages (from jsonschema[format-nongpl]>=4.18.0->jupyter-events>=0.9.0->jupyter-server<3,>=1.6->jupyter-ai~=1.0) (3.0.0)\n",
      "Requirement already satisfied: uri-template in /home/ec2-user/anaconda3/envs/python3/lib/python3.10/site-packages (from jsonschema[format-nongpl]>=4.18.0->jupyter-events>=0.9.0->jupyter-server<3,>=1.6->jupyter-ai~=1.0) (1.3.0)\n",
      "Requirement already satisfied: webcolors>=24.6.0 in /home/ec2-user/anaconda3/envs/python3/lib/python3.10/site-packages (from jsonschema[format-nongpl]>=4.18.0->jupyter-events>=0.9.0->jupyter-server<3,>=1.6->jupyter-ai~=1.0) (24.8.0)\n",
      "Requirement already satisfied: jsonpatch<2.0,>=1.33 in /home/ec2-user/anaconda3/envs/python3/lib/python3.10/site-packages (from langchain-core<0.3.0,>=0.2.38->langchain<0.3.0,>=0.1.0->jupyter-ai-magics->jupyter-ai~=1.0) (1.33)\n",
      "Requirement already satisfied: httpx<1,>=0.23.0 in /home/ec2-user/anaconda3/envs/python3/lib/python3.10/site-packages (from langsmith<0.2.0,>=0.1.17->langchain<0.3.0,>=0.1.0->jupyter-ai-magics->jupyter-ai~=1.0) (0.27.2)\n",
      "Requirement already satisfied: orjson<4.0.0,>=3.9.14 in /home/ec2-user/anaconda3/envs/python3/lib/python3.10/site-packages (from langsmith<0.2.0,>=0.1.17->langchain<0.3.0,>=0.1.0->jupyter-ai-magics->jupyter-ai~=1.0) (3.10.10)\n",
      "Requirement already satisfied: requests-toolbelt<2.0.0,>=1.0.0 in /home/ec2-user/anaconda3/envs/python3/lib/python3.10/site-packages (from langsmith<0.2.0,>=0.1.17->langchain<0.3.0,>=0.1.0->jupyter-ai-magics->jupyter-ai~=1.0) (1.0.0)\n",
      "Requirement already satisfied: wcwidth in /home/ec2-user/anaconda3/envs/python3/lib/python3.10/site-packages (from prompt-toolkit<3.1.0,>=3.0.41->ipython->jupyterlab<4,>=3.5->jupyter-ai~=1.0) (0.2.13)\n",
      "Requirement already satisfied: annotated-types>=0.6.0 in /home/ec2-user/anaconda3/envs/python3/lib/python3.10/site-packages (from pydantic<3,>=1->langchain<0.3.0,>=0.1.0->jupyter-ai-magics->jupyter-ai~=1.0) (0.7.0)\n",
      "Requirement already satisfied: pydantic-core==2.23.4 in /home/ec2-user/anaconda3/envs/python3/lib/python3.10/site-packages (from pydantic<3,>=1->langchain<0.3.0,>=0.1.0->jupyter-ai-magics->jupyter-ai~=1.0) (2.23.4)\n",
      "Requirement already satisfied: charset-normalizer<4,>=2 in /home/ec2-user/anaconda3/envs/python3/lib/python3.10/site-packages (from requests>=2.31->jupyterlab-server~=2.19->jupyterlab<4,>=3.5->jupyter-ai~=1.0) (3.3.2)\n",
      "Requirement already satisfied: certifi>=2017.4.17 in /home/ec2-user/anaconda3/envs/python3/lib/python3.10/site-packages (from requests>=2.31->jupyterlab-server~=2.19->jupyterlab<4,>=3.5->jupyter-ai~=1.0) (2024.8.30)\n",
      "Requirement already satisfied: greenlet!=0.4.17 in /home/ec2-user/anaconda3/envs/python3/lib/python3.10/site-packages (from SQLAlchemy<3,>=1.4->langchain<0.3.0,>=0.1.0->jupyter-ai-magics->jupyter-ai~=1.0) (3.1.1)\n",
      "Requirement already satisfied: aiofiles<23,>=22.1.0 in /home/ec2-user/anaconda3/envs/python3/lib/python3.10/site-packages (from ypy-websocket<0.9.0,>=0.8.2->jupyter-server-ydoc~=0.8.0->jupyterlab<4,>=3.5->jupyter-ai~=1.0) (22.1.0)\n",
      "Requirement already satisfied: cffi>=1.0.1 in /home/ec2-user/anaconda3/envs/python3/lib/python3.10/site-packages (from argon2-cffi-bindings->argon2-cffi>=21.1->jupyter-server<3,>=1.6->jupyter-ai~=1.0) (1.17.1)\n",
      "Requirement already satisfied: soupsieve>1.2 in /home/ec2-user/anaconda3/envs/python3/lib/python3.10/site-packages (from beautifulsoup4->nbconvert>=6.4.4->jupyter-server<3,>=1.6->jupyter-ai~=1.0) (2.5)\n",
      "Requirement already satisfied: comm>=0.1.1 in /home/ec2-user/anaconda3/envs/python3/lib/python3.10/site-packages (from ipykernel->notebook<7->jupyterlab<4,>=3.5->jupyter-ai~=1.0) (0.2.2)\n",
      "Requirement already satisfied: debugpy>=1.6.5 in /home/ec2-user/anaconda3/envs/python3/lib/python3.10/site-packages (from ipykernel->notebook<7->jupyterlab<4,>=3.5->jupyter-ai~=1.0) (1.8.6)\n",
      "Requirement already satisfied: executing>=1.2.0 in /home/ec2-user/anaconda3/envs/python3/lib/python3.10/site-packages (from stack-data->ipython->jupyterlab<4,>=3.5->jupyter-ai~=1.0) (2.1.0)\n",
      "Requirement already satisfied: asttokens>=2.1.0 in /home/ec2-user/anaconda3/envs/python3/lib/python3.10/site-packages (from stack-data->ipython->jupyterlab<4,>=3.5->jupyter-ai~=1.0) (2.4.1)\n",
      "Requirement already satisfied: pure-eval in /home/ec2-user/anaconda3/envs/python3/lib/python3.10/site-packages (from stack-data->ipython->jupyterlab<4,>=3.5->jupyter-ai~=1.0) (0.2.3)\n",
      "Requirement already satisfied: pycparser in /home/ec2-user/anaconda3/envs/python3/lib/python3.10/site-packages (from cffi>=1.0.1->argon2-cffi-bindings->argon2-cffi>=21.1->jupyter-server<3,>=1.6->jupyter-ai~=1.0) (2.22)\n",
      "Requirement already satisfied: httpcore==1.* in /home/ec2-user/anaconda3/envs/python3/lib/python3.10/site-packages (from httpx<1,>=0.23.0->langsmith<0.2.0,>=0.1.17->langchain<0.3.0,>=0.1.0->jupyter-ai-magics->jupyter-ai~=1.0) (1.0.5)\n",
      "Requirement already satisfied: h11<0.15,>=0.13 in /home/ec2-user/anaconda3/envs/python3/lib/python3.10/site-packages (from httpcore==1.*->httpx<1,>=0.23.0->langsmith<0.2.0,>=0.1.17->langchain<0.3.0,>=0.1.0->jupyter-ai-magics->jupyter-ai~=1.0) (0.14.0)\n",
      "Requirement already satisfied: mypy-extensions>=0.3.0 in /home/ec2-user/anaconda3/envs/python3/lib/python3.10/site-packages (from typing-inspect<1,>=0.4.0->dataclasses-json<0.7,>=0.5.7->langchain-community<0.3.0,>=0.1.0->jupyter-ai-magics->jupyter-ai~=1.0) (1.0.0)\n",
      "Requirement already satisfied: arrow>=0.15.0 in /home/ec2-user/anaconda3/envs/python3/lib/python3.10/site-packages (from isoduration->jsonschema[format-nongpl]>=4.18.0->jupyter-events>=0.9.0->jupyter-server<3,>=1.6->jupyter-ai~=1.0) (1.3.0)\n",
      "Requirement already satisfied: types-python-dateutil>=2.8.10 in /home/ec2-user/anaconda3/envs/python3/lib/python3.10/site-packages (from arrow>=0.15.0->isoduration->jsonschema[format-nongpl]>=4.18.0->jupyter-events>=0.9.0->jupyter-server<3,>=1.6->jupyter-ai~=1.0) (2.9.0.20240906)\n",
      "Note: you may need to restart the kernel to use updated packages.\n"
     ]
    }
   ],
   "source": [
    "pip install jupyter-ai~=1.0 # Because I am using JupyterLab V3, I need to use Jupyter-ai V1.0"
   ]
  },
  {
   "cell_type": "code",
   "execution_count": 22,
   "id": "0ff686ae-4c87-41fb-882d-5e6759e6a27d",
   "metadata": {
    "scrolled": true,
    "tags": []
   },
   "outputs": [
    {
     "name": "stdout",
     "output_type": "stream",
     "text": [
      "Requirement already satisfied: jupyter-ai[all] in /home/ec2-user/anaconda3/envs/python3/lib/python3.10/site-packages (1.15.0)\n",
      "Requirement already satisfied: aiosqlite>=0.18 in /home/ec2-user/anaconda3/envs/python3/lib/python3.10/site-packages (from jupyter-ai[all]) (0.20.0)\n",
      "Requirement already satisfied: dask[distributed] in /home/ec2-user/anaconda3/envs/python3/lib/python3.10/site-packages (from jupyter-ai[all]) (2024.2.1)\n",
      "Requirement already satisfied: deepmerge>=1.0 in /home/ec2-user/anaconda3/envs/python3/lib/python3.10/site-packages (from jupyter-ai[all]) (2.0)\n",
      "Requirement already satisfied: faiss-cpu in /home/ec2-user/anaconda3/envs/python3/lib/python3.10/site-packages (from jupyter-ai[all]) (1.9.0)\n",
      "Requirement already satisfied: importlib-metadata>=5.2.0 in /home/ec2-user/anaconda3/envs/python3/lib/python3.10/site-packages (from jupyter-ai[all]) (6.11.0)\n",
      "Requirement already satisfied: jupyter-ai-magics in /home/ec2-user/anaconda3/envs/python3/lib/python3.10/site-packages (from jupyter-ai[all]) (2.26.0)\n",
      "Requirement already satisfied: jupyter-server<3,>=1.6 in /home/ec2-user/anaconda3/envs/python3/lib/python3.10/site-packages (from jupyter-ai[all]) (2.14.2)\n",
      "Requirement already satisfied: jupyterlab<4,>=3.5 in /home/ec2-user/anaconda3/envs/python3/lib/python3.10/site-packages (from jupyter-ai[all]) (3.6.8)\n",
      "Requirement already satisfied: traitlets>=5.0 in /home/ec2-user/anaconda3/envs/python3/lib/python3.10/site-packages (from jupyter-ai[all]) (5.14.3)\n",
      "Requirement already satisfied: typing-extensions>=4.5.0 in /home/ec2-user/anaconda3/envs/python3/lib/python3.10/site-packages (from jupyter-ai[all]) (4.12.2)\n",
      "Requirement already satisfied: pypdf in /home/ec2-user/anaconda3/envs/python3/lib/python3.10/site-packages (from jupyter-ai[all]) (5.1.0)\n",
      "Requirement already satisfied: zipp>=0.5 in /home/ec2-user/anaconda3/envs/python3/lib/python3.10/site-packages (from importlib-metadata>=5.2.0->jupyter-ai[all]) (3.20.2)\n",
      "Requirement already satisfied: anyio>=3.1.0 in /home/ec2-user/anaconda3/envs/python3/lib/python3.10/site-packages (from jupyter-server<3,>=1.6->jupyter-ai[all]) (4.6.0)\n",
      "Requirement already satisfied: argon2-cffi>=21.1 in /home/ec2-user/anaconda3/envs/python3/lib/python3.10/site-packages (from jupyter-server<3,>=1.6->jupyter-ai[all]) (23.1.0)\n",
      "Requirement already satisfied: jinja2>=3.0.3 in /home/ec2-user/anaconda3/envs/python3/lib/python3.10/site-packages (from jupyter-server<3,>=1.6->jupyter-ai[all]) (3.1.4)\n",
      "Requirement already satisfied: jupyter-client>=7.4.4 in /home/ec2-user/anaconda3/envs/python3/lib/python3.10/site-packages (from jupyter-server<3,>=1.6->jupyter-ai[all]) (7.4.9)\n",
      "Requirement already satisfied: jupyter-core!=5.0.*,>=4.12 in /home/ec2-user/anaconda3/envs/python3/lib/python3.10/site-packages (from jupyter-server<3,>=1.6->jupyter-ai[all]) (5.7.2)\n",
      "Requirement already satisfied: jupyter-events>=0.9.0 in /home/ec2-user/anaconda3/envs/python3/lib/python3.10/site-packages (from jupyter-server<3,>=1.6->jupyter-ai[all]) (0.10.0)\n",
      "Requirement already satisfied: jupyter-server-terminals>=0.4.4 in /home/ec2-user/anaconda3/envs/python3/lib/python3.10/site-packages (from jupyter-server<3,>=1.6->jupyter-ai[all]) (0.5.3)\n",
      "Requirement already satisfied: nbconvert>=6.4.4 in /home/ec2-user/anaconda3/envs/python3/lib/python3.10/site-packages (from jupyter-server<3,>=1.6->jupyter-ai[all]) (7.16.4)\n",
      "Requirement already satisfied: nbformat>=5.3.0 in /home/ec2-user/anaconda3/envs/python3/lib/python3.10/site-packages (from jupyter-server<3,>=1.6->jupyter-ai[all]) (5.10.4)\n",
      "Requirement already satisfied: overrides>=5.0 in /home/ec2-user/anaconda3/envs/python3/lib/python3.10/site-packages (from jupyter-server<3,>=1.6->jupyter-ai[all]) (7.7.0)\n",
      "Requirement already satisfied: packaging>=22.0 in /home/ec2-user/anaconda3/envs/python3/lib/python3.10/site-packages (from jupyter-server<3,>=1.6->jupyter-ai[all]) (24.1)\n",
      "Requirement already satisfied: prometheus-client>=0.9 in /home/ec2-user/anaconda3/envs/python3/lib/python3.10/site-packages (from jupyter-server<3,>=1.6->jupyter-ai[all]) (0.21.0)\n",
      "Requirement already satisfied: pyzmq>=24 in /home/ec2-user/anaconda3/envs/python3/lib/python3.10/site-packages (from jupyter-server<3,>=1.6->jupyter-ai[all]) (26.2.0)\n",
      "Requirement already satisfied: send2trash>=1.8.2 in /home/ec2-user/anaconda3/envs/python3/lib/python3.10/site-packages (from jupyter-server<3,>=1.6->jupyter-ai[all]) (1.8.3)\n",
      "Requirement already satisfied: terminado>=0.8.3 in /home/ec2-user/anaconda3/envs/python3/lib/python3.10/site-packages (from jupyter-server<3,>=1.6->jupyter-ai[all]) (0.18.1)\n",
      "Requirement already satisfied: tornado>=6.2.0 in /home/ec2-user/anaconda3/envs/python3/lib/python3.10/site-packages (from jupyter-server<3,>=1.6->jupyter-ai[all]) (6.4.1)\n",
      "Requirement already satisfied: websocket-client>=1.7 in /home/ec2-user/anaconda3/envs/python3/lib/python3.10/site-packages (from jupyter-server<3,>=1.6->jupyter-ai[all]) (1.8.0)\n",
      "Requirement already satisfied: ipython in /home/ec2-user/anaconda3/envs/python3/lib/python3.10/site-packages (from jupyterlab<4,>=3.5->jupyter-ai[all]) (8.27.0)\n",
      "Requirement already satisfied: jupyterlab-server~=2.19 in /home/ec2-user/anaconda3/envs/python3/lib/python3.10/site-packages (from jupyterlab<4,>=3.5->jupyter-ai[all]) (2.27.3)\n",
      "Requirement already satisfied: jupyter-ydoc~=0.2.4 in /home/ec2-user/anaconda3/envs/python3/lib/python3.10/site-packages (from jupyterlab<4,>=3.5->jupyter-ai[all]) (0.2.5)\n",
      "Requirement already satisfied: jupyter-server-ydoc~=0.8.0 in /home/ec2-user/anaconda3/envs/python3/lib/python3.10/site-packages (from jupyterlab<4,>=3.5->jupyter-ai[all]) (0.8.0)\n",
      "Requirement already satisfied: nbclassic in /home/ec2-user/anaconda3/envs/python3/lib/python3.10/site-packages (from jupyterlab<4,>=3.5->jupyter-ai[all]) (1.1.0)\n",
      "Requirement already satisfied: notebook<7 in /home/ec2-user/anaconda3/envs/python3/lib/python3.10/site-packages (from jupyterlab<4,>=3.5->jupyter-ai[all]) (6.5.7)\n",
      "Requirement already satisfied: tomli in /home/ec2-user/anaconda3/envs/python3/lib/python3.10/site-packages (from jupyterlab<4,>=3.5->jupyter-ai[all]) (2.0.1)\n",
      "Requirement already satisfied: click>=8.1 in /home/ec2-user/anaconda3/envs/python3/lib/python3.10/site-packages (from dask[distributed]->jupyter-ai[all]) (8.1.7)\n",
      "Requirement already satisfied: cloudpickle>=1.5.0 in /home/ec2-user/anaconda3/envs/python3/lib/python3.10/site-packages (from dask[distributed]->jupyter-ai[all]) (2.2.1)\n",
      "Requirement already satisfied: fsspec>=2021.09.0 in /home/ec2-user/anaconda3/envs/python3/lib/python3.10/site-packages (from dask[distributed]->jupyter-ai[all]) (2024.9.0)\n",
      "Requirement already satisfied: partd>=1.2.0 in /home/ec2-user/anaconda3/envs/python3/lib/python3.10/site-packages (from dask[distributed]->jupyter-ai[all]) (1.4.2)\n",
      "Requirement already satisfied: pyyaml>=5.3.1 in /home/ec2-user/anaconda3/envs/python3/lib/python3.10/site-packages (from dask[distributed]->jupyter-ai[all]) (6.0.2)\n",
      "Requirement already satisfied: toolz>=0.10.0 in /home/ec2-user/anaconda3/envs/python3/lib/python3.10/site-packages (from dask[distributed]->jupyter-ai[all]) (0.12.1)\n",
      "Requirement already satisfied: distributed==2024.2.1 in /home/ec2-user/anaconda3/envs/python3/lib/python3.10/site-packages (from dask[distributed]->jupyter-ai[all]) (2024.2.1)\n",
      "Requirement already satisfied: locket>=1.0.0 in /home/ec2-user/anaconda3/envs/python3/lib/python3.10/site-packages (from distributed==2024.2.1->dask[distributed]->jupyter-ai[all]) (1.0.0)\n",
      "Requirement already satisfied: msgpack>=1.0.0 in /home/ec2-user/anaconda3/envs/python3/lib/python3.10/site-packages (from distributed==2024.2.1->dask[distributed]->jupyter-ai[all]) (1.1.0)\n",
      "Requirement already satisfied: psutil>=5.7.2 in /home/ec2-user/anaconda3/envs/python3/lib/python3.10/site-packages (from distributed==2024.2.1->dask[distributed]->jupyter-ai[all]) (6.0.0)\n",
      "Requirement already satisfied: sortedcontainers>=2.0.5 in /home/ec2-user/anaconda3/envs/python3/lib/python3.10/site-packages (from distributed==2024.2.1->dask[distributed]->jupyter-ai[all]) (2.4.0)\n",
      "Requirement already satisfied: tblib>=1.6.0 in /home/ec2-user/anaconda3/envs/python3/lib/python3.10/site-packages (from distributed==2024.2.1->dask[distributed]->jupyter-ai[all]) (3.0.0)\n",
      "Requirement already satisfied: urllib3>=1.24.3 in /home/ec2-user/anaconda3/envs/python3/lib/python3.10/site-packages (from distributed==2024.2.1->dask[distributed]->jupyter-ai[all]) (2.2.3)\n",
      "Requirement already satisfied: zict>=3.0.0 in /home/ec2-user/anaconda3/envs/python3/lib/python3.10/site-packages (from distributed==2024.2.1->dask[distributed]->jupyter-ai[all]) (3.0.0)\n",
      "Requirement already satisfied: numpy<3.0,>=1.25.0 in /home/ec2-user/anaconda3/envs/python3/lib/python3.10/site-packages (from faiss-cpu->jupyter-ai[all]) (1.26.4)\n",
      "Requirement already satisfied: jsonpath-ng<2,>=1.5.3 in /home/ec2-user/anaconda3/envs/python3/lib/python3.10/site-packages (from jupyter-ai-magics->jupyter-ai[all]) (1.7.0)\n",
      "Requirement already satisfied: langchain-community<0.3.0,>=0.1.0 in /home/ec2-user/anaconda3/envs/python3/lib/python3.10/site-packages (from jupyter-ai-magics->jupyter-ai[all]) (0.2.17)\n",
      "Requirement already satisfied: langchain<0.3.0,>=0.1.0 in /home/ec2-user/anaconda3/envs/python3/lib/python3.10/site-packages (from jupyter-ai-magics->jupyter-ai[all]) (0.2.16)\n",
      "Requirement already satisfied: ai21 in /home/ec2-user/anaconda3/envs/python3/lib/python3.10/site-packages (from jupyter-ai-magics[all]; extra == \"all\"->jupyter-ai[all]) (2.15.1)\n",
      "Requirement already satisfied: boto3 in /home/ec2-user/anaconda3/envs/python3/lib/python3.10/site-packages (from jupyter-ai-magics[all]; extra == \"all\"->jupyter-ai[all]) (1.34.162)\n",
      "Requirement already satisfied: gpt4all in /home/ec2-user/anaconda3/envs/python3/lib/python3.10/site-packages (from jupyter-ai-magics[all]; extra == \"all\"->jupyter-ai[all]) (2.8.2)\n",
      "Requirement already satisfied: huggingface-hub in /home/ec2-user/anaconda3/envs/python3/lib/python3.10/site-packages (from jupyter-ai-magics[all]; extra == \"all\"->jupyter-ai[all]) (0.26.2)\n",
      "Requirement already satisfied: ipywidgets in /home/ec2-user/anaconda3/envs/python3/lib/python3.10/site-packages (from jupyter-ai-magics[all]; extra == \"all\"->jupyter-ai[all]) (8.1.5)\n",
      "Requirement already satisfied: langchain-anthropic in /home/ec2-user/anaconda3/envs/python3/lib/python3.10/site-packages (from jupyter-ai-magics[all]; extra == \"all\"->jupyter-ai[all]) (0.1.23)\n",
      "Requirement already satisfied: langchain-aws in /home/ec2-user/anaconda3/envs/python3/lib/python3.10/site-packages (from jupyter-ai-magics[all]; extra == \"all\"->jupyter-ai[all]) (0.1.18)\n",
      "Requirement already satisfied: langchain-cohere in /home/ec2-user/anaconda3/envs/python3/lib/python3.10/site-packages (from jupyter-ai-magics[all]; extra == \"all\"->jupyter-ai[all]) (0.2.4)\n",
      "Requirement already satisfied: langchain-google-genai in /home/ec2-user/anaconda3/envs/python3/lib/python3.10/site-packages (from jupyter-ai-magics[all]; extra == \"all\"->jupyter-ai[all]) (1.0.10)\n",
      "Requirement already satisfied: langchain-mistralai in /home/ec2-user/anaconda3/envs/python3/lib/python3.10/site-packages (from jupyter-ai-magics[all]; extra == \"all\"->jupyter-ai[all]) (0.1.13)\n",
      "Requirement already satisfied: langchain-nvidia-ai-endpoints in /home/ec2-user/anaconda3/envs/python3/lib/python3.10/site-packages (from jupyter-ai-magics[all]; extra == \"all\"->jupyter-ai[all]) (0.2.2)\n",
      "Requirement already satisfied: langchain-ollama in /home/ec2-user/anaconda3/envs/python3/lib/python3.10/site-packages (from jupyter-ai-magics[all]; extra == \"all\"->jupyter-ai[all]) (0.1.3)\n",
      "Requirement already satisfied: langchain-openai in /home/ec2-user/anaconda3/envs/python3/lib/python3.10/site-packages (from jupyter-ai-magics[all]; extra == \"all\"->jupyter-ai[all]) (0.1.25)\n",
      "Requirement already satisfied: pillow in /home/ec2-user/anaconda3/envs/python3/lib/python3.10/site-packages (from jupyter-ai-magics[all]; extra == \"all\"->jupyter-ai[all]) (10.4.0)\n",
      "Requirement already satisfied: qianfan in /home/ec2-user/anaconda3/envs/python3/lib/python3.10/site-packages (from jupyter-ai-magics[all]; extra == \"all\"->jupyter-ai[all]) (0.4.10.1)\n",
      "Requirement already satisfied: together in /home/ec2-user/anaconda3/envs/python3/lib/python3.10/site-packages (from jupyter-ai-magics[all]; extra == \"all\"->jupyter-ai[all]) (1.3.3)\n",
      "Requirement already satisfied: idna>=2.8 in /home/ec2-user/anaconda3/envs/python3/lib/python3.10/site-packages (from anyio>=3.1.0->jupyter-server<3,>=1.6->jupyter-ai[all]) (3.10)\n",
      "Requirement already satisfied: sniffio>=1.1 in /home/ec2-user/anaconda3/envs/python3/lib/python3.10/site-packages (from anyio>=3.1.0->jupyter-server<3,>=1.6->jupyter-ai[all]) (1.3.1)\n",
      "Requirement already satisfied: exceptiongroup>=1.0.2 in /home/ec2-user/anaconda3/envs/python3/lib/python3.10/site-packages (from anyio>=3.1.0->jupyter-server<3,>=1.6->jupyter-ai[all]) (1.2.2)\n",
      "Requirement already satisfied: argon2-cffi-bindings in /home/ec2-user/anaconda3/envs/python3/lib/python3.10/site-packages (from argon2-cffi>=21.1->jupyter-server<3,>=1.6->jupyter-ai[all]) (21.2.0)\n",
      "Requirement already satisfied: MarkupSafe>=2.0 in /home/ec2-user/anaconda3/envs/python3/lib/python3.10/site-packages (from jinja2>=3.0.3->jupyter-server<3,>=1.6->jupyter-ai[all]) (2.1.5)\n",
      "Requirement already satisfied: ply in /home/ec2-user/anaconda3/envs/python3/lib/python3.10/site-packages (from jsonpath-ng<2,>=1.5.3->jupyter-ai-magics->jupyter-ai[all]) (3.11)\n",
      "Requirement already satisfied: entrypoints in /home/ec2-user/anaconda3/envs/python3/lib/python3.10/site-packages (from jupyter-client>=7.4.4->jupyter-server<3,>=1.6->jupyter-ai[all]) (0.4)\n",
      "Requirement already satisfied: nest-asyncio>=1.5.4 in /home/ec2-user/anaconda3/envs/python3/lib/python3.10/site-packages (from jupyter-client>=7.4.4->jupyter-server<3,>=1.6->jupyter-ai[all]) (1.6.0)\n",
      "Requirement already satisfied: python-dateutil>=2.8.2 in /home/ec2-user/anaconda3/envs/python3/lib/python3.10/site-packages (from jupyter-client>=7.4.4->jupyter-server<3,>=1.6->jupyter-ai[all]) (2.9.0)\n",
      "Requirement already satisfied: platformdirs>=2.5 in /home/ec2-user/anaconda3/envs/python3/lib/python3.10/site-packages (from jupyter-core!=5.0.*,>=4.12->jupyter-server<3,>=1.6->jupyter-ai[all]) (4.3.6)\n",
      "Requirement already satisfied: jsonschema>=4.18.0 in /home/ec2-user/anaconda3/envs/python3/lib/python3.10/site-packages (from jsonschema[format-nongpl]>=4.18.0->jupyter-events>=0.9.0->jupyter-server<3,>=1.6->jupyter-ai[all]) (4.23.0)\n",
      "Requirement already satisfied: python-json-logger>=2.0.4 in /home/ec2-user/anaconda3/envs/python3/lib/python3.10/site-packages (from jupyter-events>=0.9.0->jupyter-server<3,>=1.6->jupyter-ai[all]) (2.0.7)\n",
      "Requirement already satisfied: referencing in /home/ec2-user/anaconda3/envs/python3/lib/python3.10/site-packages (from jupyter-events>=0.9.0->jupyter-server<3,>=1.6->jupyter-ai[all]) (0.35.1)\n",
      "Requirement already satisfied: rfc3339-validator in /home/ec2-user/anaconda3/envs/python3/lib/python3.10/site-packages (from jupyter-events>=0.9.0->jupyter-server<3,>=1.6->jupyter-ai[all]) (0.1.4)\n",
      "Requirement already satisfied: rfc3986-validator>=0.1.1 in /home/ec2-user/anaconda3/envs/python3/lib/python3.10/site-packages (from jupyter-events>=0.9.0->jupyter-server<3,>=1.6->jupyter-ai[all]) (0.1.1)\n",
      "Requirement already satisfied: jupyter-server-fileid<1,>=0.6.0 in /home/ec2-user/anaconda3/envs/python3/lib/python3.10/site-packages (from jupyter-server-ydoc~=0.8.0->jupyterlab<4,>=3.5->jupyter-ai[all]) (0.9.3)\n",
      "Requirement already satisfied: ypy-websocket<0.9.0,>=0.8.2 in /home/ec2-user/anaconda3/envs/python3/lib/python3.10/site-packages (from jupyter-server-ydoc~=0.8.0->jupyterlab<4,>=3.5->jupyter-ai[all]) (0.8.4)\n",
      "Requirement already satisfied: y-py<0.7.0,>=0.6.0 in /home/ec2-user/anaconda3/envs/python3/lib/python3.10/site-packages (from jupyter-ydoc~=0.2.4->jupyterlab<4,>=3.5->jupyter-ai[all]) (0.6.2)\n",
      "Requirement already satisfied: babel>=2.10 in /home/ec2-user/anaconda3/envs/python3/lib/python3.10/site-packages (from jupyterlab-server~=2.19->jupyterlab<4,>=3.5->jupyter-ai[all]) (2.14.0)\n",
      "Requirement already satisfied: json5>=0.9.0 in /home/ec2-user/anaconda3/envs/python3/lib/python3.10/site-packages (from jupyterlab-server~=2.19->jupyterlab<4,>=3.5->jupyter-ai[all]) (0.9.25)\n",
      "Requirement already satisfied: requests>=2.31 in /home/ec2-user/anaconda3/envs/python3/lib/python3.10/site-packages (from jupyterlab-server~=2.19->jupyterlab<4,>=3.5->jupyter-ai[all]) (2.32.3)\n",
      "Requirement already satisfied: SQLAlchemy<3,>=1.4 in /home/ec2-user/anaconda3/envs/python3/lib/python3.10/site-packages (from langchain<0.3.0,>=0.1.0->jupyter-ai-magics->jupyter-ai[all]) (2.0.35)\n",
      "Requirement already satisfied: aiohttp<4.0.0,>=3.8.3 in /home/ec2-user/anaconda3/envs/python3/lib/python3.10/site-packages (from langchain<0.3.0,>=0.1.0->jupyter-ai-magics->jupyter-ai[all]) (3.10.6)\n",
      "Requirement already satisfied: async-timeout<5.0.0,>=4.0.0 in /home/ec2-user/anaconda3/envs/python3/lib/python3.10/site-packages (from langchain<0.3.0,>=0.1.0->jupyter-ai-magics->jupyter-ai[all]) (4.0.3)\n",
      "Requirement already satisfied: langchain-core<0.3.0,>=0.2.38 in /home/ec2-user/anaconda3/envs/python3/lib/python3.10/site-packages (from langchain<0.3.0,>=0.1.0->jupyter-ai-magics->jupyter-ai[all]) (0.2.41)\n",
      "Requirement already satisfied: langchain-text-splitters<0.3.0,>=0.2.0 in /home/ec2-user/anaconda3/envs/python3/lib/python3.10/site-packages (from langchain<0.3.0,>=0.1.0->jupyter-ai-magics->jupyter-ai[all]) (0.2.4)\n",
      "Requirement already satisfied: langsmith<0.2.0,>=0.1.17 in /home/ec2-user/anaconda3/envs/python3/lib/python3.10/site-packages (from langchain<0.3.0,>=0.1.0->jupyter-ai-magics->jupyter-ai[all]) (0.1.137)\n",
      "Requirement already satisfied: pydantic<3,>=1 in /home/ec2-user/anaconda3/envs/python3/lib/python3.10/site-packages (from langchain<0.3.0,>=0.1.0->jupyter-ai-magics->jupyter-ai[all]) (2.9.2)\n",
      "Requirement already satisfied: tenacity!=8.4.0,<9.0.0,>=8.1.0 in /home/ec2-user/anaconda3/envs/python3/lib/python3.10/site-packages (from langchain<0.3.0,>=0.1.0->jupyter-ai-magics->jupyter-ai[all]) (8.5.0)\n",
      "Requirement already satisfied: dataclasses-json<0.7,>=0.5.7 in /home/ec2-user/anaconda3/envs/python3/lib/python3.10/site-packages (from langchain-community<0.3.0,>=0.1.0->jupyter-ai-magics->jupyter-ai[all]) (0.6.7)\n",
      "Requirement already satisfied: beautifulsoup4 in /home/ec2-user/anaconda3/envs/python3/lib/python3.10/site-packages (from nbconvert>=6.4.4->jupyter-server<3,>=1.6->jupyter-ai[all]) (4.12.3)\n",
      "Requirement already satisfied: bleach!=5.0.0 in /home/ec2-user/anaconda3/envs/python3/lib/python3.10/site-packages (from nbconvert>=6.4.4->jupyter-server<3,>=1.6->jupyter-ai[all]) (6.1.0)\n",
      "Requirement already satisfied: defusedxml in /home/ec2-user/anaconda3/envs/python3/lib/python3.10/site-packages (from nbconvert>=6.4.4->jupyter-server<3,>=1.6->jupyter-ai[all]) (0.7.1)\n",
      "Requirement already satisfied: jupyterlab-pygments in /home/ec2-user/anaconda3/envs/python3/lib/python3.10/site-packages (from nbconvert>=6.4.4->jupyter-server<3,>=1.6->jupyter-ai[all]) (0.3.0)\n",
      "Requirement already satisfied: mistune<4,>=2.0.3 in /home/ec2-user/anaconda3/envs/python3/lib/python3.10/site-packages (from nbconvert>=6.4.4->jupyter-server<3,>=1.6->jupyter-ai[all]) (3.0.2)\n",
      "Requirement already satisfied: nbclient>=0.5.0 in /home/ec2-user/anaconda3/envs/python3/lib/python3.10/site-packages (from nbconvert>=6.4.4->jupyter-server<3,>=1.6->jupyter-ai[all]) (0.10.0)\n",
      "Requirement already satisfied: pandocfilters>=1.4.1 in /home/ec2-user/anaconda3/envs/python3/lib/python3.10/site-packages (from nbconvert>=6.4.4->jupyter-server<3,>=1.6->jupyter-ai[all]) (1.5.0)\n",
      "Requirement already satisfied: pygments>=2.4.1 in /home/ec2-user/anaconda3/envs/python3/lib/python3.10/site-packages (from nbconvert>=6.4.4->jupyter-server<3,>=1.6->jupyter-ai[all]) (2.18.0)\n",
      "Requirement already satisfied: tinycss2 in /home/ec2-user/anaconda3/envs/python3/lib/python3.10/site-packages (from nbconvert>=6.4.4->jupyter-server<3,>=1.6->jupyter-ai[all]) (1.3.0)\n",
      "Requirement already satisfied: fastjsonschema>=2.15 in /home/ec2-user/anaconda3/envs/python3/lib/python3.10/site-packages (from nbformat>=5.3.0->jupyter-server<3,>=1.6->jupyter-ai[all]) (2.20.0)\n",
      "Requirement already satisfied: ipython-genutils in /home/ec2-user/anaconda3/envs/python3/lib/python3.10/site-packages (from notebook<7->jupyterlab<4,>=3.5->jupyter-ai[all]) (0.2.0)\n",
      "Requirement already satisfied: ipykernel in /home/ec2-user/anaconda3/envs/python3/lib/python3.10/site-packages (from notebook<7->jupyterlab<4,>=3.5->jupyter-ai[all]) (6.29.5)\n",
      "Requirement already satisfied: notebook-shim>=0.2.3 in /home/ec2-user/anaconda3/envs/python3/lib/python3.10/site-packages (from nbclassic->jupyterlab<4,>=3.5->jupyter-ai[all]) (0.2.4)\n",
      "Requirement already satisfied: ptyprocess in /home/ec2-user/anaconda3/envs/python3/lib/python3.10/site-packages (from terminado>=0.8.3->jupyter-server<3,>=1.6->jupyter-ai[all]) (0.7.0)\n",
      "Requirement already satisfied: ai21-tokenizer<1.0.0,>=0.12.0 in /home/ec2-user/anaconda3/envs/python3/lib/python3.10/site-packages (from ai21->jupyter-ai-magics[all]; extra == \"all\"->jupyter-ai[all]) (0.12.0)\n",
      "Requirement already satisfied: httpx<0.28.0,>=0.27.0 in /home/ec2-user/anaconda3/envs/python3/lib/python3.10/site-packages (from ai21->jupyter-ai-magics[all]; extra == \"all\"->jupyter-ai[all]) (0.27.2)\n",
      "Requirement already satisfied: botocore<1.35.0,>=1.34.162 in /home/ec2-user/anaconda3/envs/python3/lib/python3.10/site-packages (from boto3->jupyter-ai-magics[all]; extra == \"all\"->jupyter-ai[all]) (1.34.162)\n",
      "Requirement already satisfied: jmespath<2.0.0,>=0.7.1 in /home/ec2-user/anaconda3/envs/python3/lib/python3.10/site-packages (from boto3->jupyter-ai-magics[all]; extra == \"all\"->jupyter-ai[all]) (1.0.1)\n",
      "Requirement already satisfied: s3transfer<0.11.0,>=0.10.0 in /home/ec2-user/anaconda3/envs/python3/lib/python3.10/site-packages (from boto3->jupyter-ai-magics[all]; extra == \"all\"->jupyter-ai[all]) (0.10.2)\n",
      "Requirement already satisfied: tqdm in /home/ec2-user/anaconda3/envs/python3/lib/python3.10/site-packages (from gpt4all->jupyter-ai-magics[all]; extra == \"all\"->jupyter-ai[all]) (4.66.5)\n",
      "Requirement already satisfied: filelock in /home/ec2-user/anaconda3/envs/python3/lib/python3.10/site-packages (from huggingface-hub->jupyter-ai-magics[all]; extra == \"all\"->jupyter-ai[all]) (3.16.1)\n",
      "Requirement already satisfied: decorator in /home/ec2-user/anaconda3/envs/python3/lib/python3.10/site-packages (from ipython->jupyterlab<4,>=3.5->jupyter-ai[all]) (5.1.1)\n",
      "Requirement already satisfied: jedi>=0.16 in /home/ec2-user/anaconda3/envs/python3/lib/python3.10/site-packages (from ipython->jupyterlab<4,>=3.5->jupyter-ai[all]) (0.19.1)\n",
      "Requirement already satisfied: matplotlib-inline in /home/ec2-user/anaconda3/envs/python3/lib/python3.10/site-packages (from ipython->jupyterlab<4,>=3.5->jupyter-ai[all]) (0.1.7)\n",
      "Requirement already satisfied: prompt-toolkit<3.1.0,>=3.0.41 in /home/ec2-user/anaconda3/envs/python3/lib/python3.10/site-packages (from ipython->jupyterlab<4,>=3.5->jupyter-ai[all]) (3.0.48)\n",
      "Requirement already satisfied: stack-data in /home/ec2-user/anaconda3/envs/python3/lib/python3.10/site-packages (from ipython->jupyterlab<4,>=3.5->jupyter-ai[all]) (0.6.2)\n",
      "Requirement already satisfied: pexpect>4.3 in /home/ec2-user/anaconda3/envs/python3/lib/python3.10/site-packages (from ipython->jupyterlab<4,>=3.5->jupyter-ai[all]) (4.9.0)\n",
      "Requirement already satisfied: comm>=0.1.3 in /home/ec2-user/anaconda3/envs/python3/lib/python3.10/site-packages (from ipywidgets->jupyter-ai-magics[all]; extra == \"all\"->jupyter-ai[all]) (0.2.2)\n",
      "Requirement already satisfied: widgetsnbextension~=4.0.12 in /home/ec2-user/anaconda3/envs/python3/lib/python3.10/site-packages (from ipywidgets->jupyter-ai-magics[all]; extra == \"all\"->jupyter-ai[all]) (4.0.13)\n",
      "Requirement already satisfied: jupyterlab-widgets~=3.0.12 in /home/ec2-user/anaconda3/envs/python3/lib/python3.10/site-packages (from ipywidgets->jupyter-ai-magics[all]; extra == \"all\"->jupyter-ai[all]) (3.0.13)\n",
      "Requirement already satisfied: anthropic<1,>=0.30.0 in /home/ec2-user/anaconda3/envs/python3/lib/python3.10/site-packages (from langchain-anthropic->jupyter-ai-magics[all]; extra == \"all\"->jupyter-ai[all]) (0.37.1)\n",
      "Requirement already satisfied: cohere<6.0,>=5.5.6 in /home/ec2-user/anaconda3/envs/python3/lib/python3.10/site-packages (from langchain-cohere->jupyter-ai-magics[all]; extra == \"all\"->jupyter-ai[all]) (5.11.2)\n",
      "Requirement already satisfied: langchain-experimental>=0.0.6 in /home/ec2-user/anaconda3/envs/python3/lib/python3.10/site-packages (from langchain-cohere->jupyter-ai-magics[all]; extra == \"all\"->jupyter-ai[all]) (0.0.65)\n",
      "Requirement already satisfied: pandas>=1.4.3 in /home/ec2-user/anaconda3/envs/python3/lib/python3.10/site-packages (from langchain-cohere->jupyter-ai-magics[all]; extra == \"all\"->jupyter-ai[all]) (1.5.3)\n",
      "Requirement already satisfied: tabulate<0.10.0,>=0.9.0 in /home/ec2-user/anaconda3/envs/python3/lib/python3.10/site-packages (from langchain-cohere->jupyter-ai-magics[all]; extra == \"all\"->jupyter-ai[all]) (0.9.0)\n",
      "Requirement already satisfied: google-generativeai<0.8.0,>=0.7.0 in /home/ec2-user/anaconda3/envs/python3/lib/python3.10/site-packages (from langchain-google-genai->jupyter-ai-magics[all]; extra == \"all\"->jupyter-ai[all]) (0.7.2)\n",
      "Requirement already satisfied: httpx-sse<1,>=0.3.1 in /home/ec2-user/anaconda3/envs/python3/lib/python3.10/site-packages (from langchain-mistralai->jupyter-ai-magics[all]; extra == \"all\"->jupyter-ai[all]) (0.4.0)\n",
      "Requirement already satisfied: tokenizers<1,>=0.15.1 in /home/ec2-user/anaconda3/envs/python3/lib/python3.10/site-packages (from langchain-mistralai->jupyter-ai-magics[all]; extra == \"all\"->jupyter-ai[all]) (0.20.1)\n",
      "Requirement already satisfied: ollama<1,>=0.3.0 in /home/ec2-user/anaconda3/envs/python3/lib/python3.10/site-packages (from langchain-ollama->jupyter-ai-magics[all]; extra == \"all\"->jupyter-ai[all]) (0.3.3)\n",
      "Requirement already satisfied: openai<2.0.0,>=1.40.0 in /home/ec2-user/anaconda3/envs/python3/lib/python3.10/site-packages (from langchain-openai->jupyter-ai-magics[all]; extra == \"all\"->jupyter-ai[all]) (1.52.2)\n",
      "Requirement already satisfied: tiktoken<1,>=0.7 in /home/ec2-user/anaconda3/envs/python3/lib/python3.10/site-packages (from langchain-openai->jupyter-ai-magics[all]; extra == \"all\"->jupyter-ai[all]) (0.8.0)\n",
      "Requirement already satisfied: aiolimiter>=1.1.0 in /home/ec2-user/anaconda3/envs/python3/lib/python3.10/site-packages (from qianfan->jupyter-ai-magics[all]; extra == \"all\"->jupyter-ai[all]) (1.1.0)\n",
      "Requirement already satisfied: bce-python-sdk>=0.8.79 in /home/ec2-user/anaconda3/envs/python3/lib/python3.10/site-packages (from qianfan->jupyter-ai-magics[all]; extra == \"all\"->jupyter-ai[all]) (0.9.23)\n",
      "Requirement already satisfied: cachetools>=5.0.0 in /home/ec2-user/anaconda3/envs/python3/lib/python3.10/site-packages (from qianfan->jupyter-ai-magics[all]; extra == \"all\"->jupyter-ai[all]) (5.5.0)\n",
      "Requirement already satisfied: diskcache>=5.6.3 in /home/ec2-user/anaconda3/envs/python3/lib/python3.10/site-packages (from qianfan->jupyter-ai-magics[all]; extra == \"all\"->jupyter-ai[all]) (5.6.3)\n",
      "Requirement already satisfied: multiprocess>=0.70.12 in /home/ec2-user/anaconda3/envs/python3/lib/python3.10/site-packages (from qianfan->jupyter-ai-magics[all]; extra == \"all\"->jupyter-ai[all]) (0.70.17)\n",
      "Requirement already satisfied: python-dotenv>=1.0 in /home/ec2-user/anaconda3/envs/python3/lib/python3.10/site-packages (from qianfan->jupyter-ai-magics[all]; extra == \"all\"->jupyter-ai[all]) (1.0.1)\n",
      "Requirement already satisfied: rich>=13.0.0 in /home/ec2-user/anaconda3/envs/python3/lib/python3.10/site-packages (from qianfan->jupyter-ai-magics[all]; extra == \"all\"->jupyter-ai[all]) (13.8.1)\n",
      "Requirement already satisfied: typer>=0.9.0 in /home/ec2-user/anaconda3/envs/python3/lib/python3.10/site-packages (from qianfan->jupyter-ai-magics[all]; extra == \"all\"->jupyter-ai[all]) (0.12.5)\n",
      "Requirement already satisfied: eval-type-backport<0.3.0,>=0.1.3 in /home/ec2-user/anaconda3/envs/python3/lib/python3.10/site-packages (from together->jupyter-ai-magics[all]; extra == \"all\"->jupyter-ai[all]) (0.2.0)\n",
      "Requirement already satisfied: pyarrow>=10.0.1 in /home/ec2-user/anaconda3/envs/python3/lib/python3.10/site-packages (from together->jupyter-ai-magics[all]; extra == \"all\"->jupyter-ai[all]) (17.0.0)\n",
      "Requirement already satisfied: sentencepiece<1.0.0,>=0.2.0 in /home/ec2-user/anaconda3/envs/python3/lib/python3.10/site-packages (from ai21-tokenizer<1.0.0,>=0.12.0->ai21->jupyter-ai-magics[all]; extra == \"all\"->jupyter-ai[all]) (0.2.0)\n",
      "Requirement already satisfied: aiohappyeyeballs>=2.3.0 in /home/ec2-user/anaconda3/envs/python3/lib/python3.10/site-packages (from aiohttp<4.0.0,>=3.8.3->langchain<0.3.0,>=0.1.0->jupyter-ai-magics->jupyter-ai[all]) (2.4.2)\n",
      "Requirement already satisfied: aiosignal>=1.1.2 in /home/ec2-user/anaconda3/envs/python3/lib/python3.10/site-packages (from aiohttp<4.0.0,>=3.8.3->langchain<0.3.0,>=0.1.0->jupyter-ai-magics->jupyter-ai[all]) (1.3.1)\n",
      "Requirement already satisfied: attrs>=17.3.0 in /home/ec2-user/anaconda3/envs/python3/lib/python3.10/site-packages (from aiohttp<4.0.0,>=3.8.3->langchain<0.3.0,>=0.1.0->jupyter-ai-magics->jupyter-ai[all]) (23.2.0)\n",
      "Requirement already satisfied: frozenlist>=1.1.1 in /home/ec2-user/anaconda3/envs/python3/lib/python3.10/site-packages (from aiohttp<4.0.0,>=3.8.3->langchain<0.3.0,>=0.1.0->jupyter-ai-magics->jupyter-ai[all]) (1.4.1)\n",
      "Requirement already satisfied: multidict<7.0,>=4.5 in /home/ec2-user/anaconda3/envs/python3/lib/python3.10/site-packages (from aiohttp<4.0.0,>=3.8.3->langchain<0.3.0,>=0.1.0->jupyter-ai-magics->jupyter-ai[all]) (6.1.0)\n",
      "Requirement already satisfied: yarl<2.0,>=1.12.0 in /home/ec2-user/anaconda3/envs/python3/lib/python3.10/site-packages (from aiohttp<4.0.0,>=3.8.3->langchain<0.3.0,>=0.1.0->jupyter-ai-magics->jupyter-ai[all]) (1.13.0)\n",
      "Requirement already satisfied: distro<2,>=1.7.0 in /home/ec2-user/anaconda3/envs/python3/lib/python3.10/site-packages (from anthropic<1,>=0.30.0->langchain-anthropic->jupyter-ai-magics[all]; extra == \"all\"->jupyter-ai[all]) (1.9.0)\n",
      "Requirement already satisfied: jiter<1,>=0.4.0 in /home/ec2-user/anaconda3/envs/python3/lib/python3.10/site-packages (from anthropic<1,>=0.30.0->langchain-anthropic->jupyter-ai-magics[all]; extra == \"all\"->jupyter-ai[all]) (0.6.1)\n",
      "Requirement already satisfied: pycryptodome>=3.8.0 in /home/ec2-user/anaconda3/envs/python3/lib/python3.10/site-packages (from bce-python-sdk>=0.8.79->qianfan->jupyter-ai-magics[all]; extra == \"all\"->jupyter-ai[all]) (3.20.0)\n",
      "Requirement already satisfied: future>=0.6.0 in /home/ec2-user/anaconda3/envs/python3/lib/python3.10/site-packages (from bce-python-sdk>=0.8.79->qianfan->jupyter-ai-magics[all]; extra == \"all\"->jupyter-ai[all]) (1.0.0)\n",
      "Requirement already satisfied: six>=1.4.0 in /home/ec2-user/anaconda3/envs/python3/lib/python3.10/site-packages (from bce-python-sdk>=0.8.79->qianfan->jupyter-ai-magics[all]; extra == \"all\"->jupyter-ai[all]) (1.16.0)\n",
      "Requirement already satisfied: webencodings in /home/ec2-user/anaconda3/envs/python3/lib/python3.10/site-packages (from bleach!=5.0.0->nbconvert>=6.4.4->jupyter-server<3,>=1.6->jupyter-ai[all]) (0.5.1)\n",
      "Requirement already satisfied: fastavro<2.0.0,>=1.9.4 in /home/ec2-user/anaconda3/envs/python3/lib/python3.10/site-packages (from cohere<6.0,>=5.5.6->langchain-cohere->jupyter-ai-magics[all]; extra == \"all\"->jupyter-ai[all]) (1.9.7)\n",
      "Requirement already satisfied: parameterized<0.10.0,>=0.9.0 in /home/ec2-user/anaconda3/envs/python3/lib/python3.10/site-packages (from cohere<6.0,>=5.5.6->langchain-cohere->jupyter-ai-magics[all]; extra == \"all\"->jupyter-ai[all]) (0.9.0)\n",
      "Requirement already satisfied: pydantic-core<3.0.0,>=2.18.2 in /home/ec2-user/anaconda3/envs/python3/lib/python3.10/site-packages (from cohere<6.0,>=5.5.6->langchain-cohere->jupyter-ai-magics[all]; extra == \"all\"->jupyter-ai[all]) (2.23.4)\n",
      "Requirement already satisfied: types-requests<3.0.0,>=2.0.0 in /home/ec2-user/anaconda3/envs/python3/lib/python3.10/site-packages (from cohere<6.0,>=5.5.6->langchain-cohere->jupyter-ai-magics[all]; extra == \"all\"->jupyter-ai[all]) (2.32.0.20241016)\n",
      "Requirement already satisfied: marshmallow<4.0.0,>=3.18.0 in /home/ec2-user/anaconda3/envs/python3/lib/python3.10/site-packages (from dataclasses-json<0.7,>=0.5.7->langchain-community<0.3.0,>=0.1.0->jupyter-ai-magics->jupyter-ai[all]) (3.23.0)\n",
      "Requirement already satisfied: typing-inspect<1,>=0.4.0 in /home/ec2-user/anaconda3/envs/python3/lib/python3.10/site-packages (from dataclasses-json<0.7,>=0.5.7->langchain-community<0.3.0,>=0.1.0->jupyter-ai-magics->jupyter-ai[all]) (0.9.0)\n",
      "Requirement already satisfied: google-ai-generativelanguage==0.6.6 in /home/ec2-user/anaconda3/envs/python3/lib/python3.10/site-packages (from google-generativeai<0.8.0,>=0.7.0->langchain-google-genai->jupyter-ai-magics[all]; extra == \"all\"->jupyter-ai[all]) (0.6.6)\n",
      "Requirement already satisfied: google-api-core in /home/ec2-user/anaconda3/envs/python3/lib/python3.10/site-packages (from google-generativeai<0.8.0,>=0.7.0->langchain-google-genai->jupyter-ai-magics[all]; extra == \"all\"->jupyter-ai[all]) (2.22.0)\n",
      "Requirement already satisfied: google-api-python-client in /home/ec2-user/anaconda3/envs/python3/lib/python3.10/site-packages (from google-generativeai<0.8.0,>=0.7.0->langchain-google-genai->jupyter-ai-magics[all]; extra == \"all\"->jupyter-ai[all]) (2.149.0)\n",
      "Requirement already satisfied: google-auth>=2.15.0 in /home/ec2-user/anaconda3/envs/python3/lib/python3.10/site-packages (from google-generativeai<0.8.0,>=0.7.0->langchain-google-genai->jupyter-ai-magics[all]; extra == \"all\"->jupyter-ai[all]) (2.35.0)\n",
      "Requirement already satisfied: protobuf in /home/ec2-user/anaconda3/envs/python3/lib/python3.10/site-packages (from google-generativeai<0.8.0,>=0.7.0->langchain-google-genai->jupyter-ai-magics[all]; extra == \"all\"->jupyter-ai[all]) (4.25.5)\n",
      "Requirement already satisfied: proto-plus<2.0.0dev,>=1.22.3 in /home/ec2-user/anaconda3/envs/python3/lib/python3.10/site-packages (from google-ai-generativelanguage==0.6.6->google-generativeai<0.8.0,>=0.7.0->langchain-google-genai->jupyter-ai-magics[all]; extra == \"all\"->jupyter-ai[all]) (1.25.0)\n",
      "Requirement already satisfied: certifi in /home/ec2-user/anaconda3/envs/python3/lib/python3.10/site-packages (from httpx<0.28.0,>=0.27.0->ai21->jupyter-ai-magics[all]; extra == \"all\"->jupyter-ai[all]) (2024.8.30)\n",
      "Requirement already satisfied: httpcore==1.* in /home/ec2-user/anaconda3/envs/python3/lib/python3.10/site-packages (from httpx<0.28.0,>=0.27.0->ai21->jupyter-ai-magics[all]; extra == \"all\"->jupyter-ai[all]) (1.0.5)\n",
      "Requirement already satisfied: h11<0.15,>=0.13 in /home/ec2-user/anaconda3/envs/python3/lib/python3.10/site-packages (from httpcore==1.*->httpx<0.28.0,>=0.27.0->ai21->jupyter-ai-magics[all]; extra == \"all\"->jupyter-ai[all]) (0.14.0)\n",
      "Requirement already satisfied: parso<0.9.0,>=0.8.3 in /home/ec2-user/anaconda3/envs/python3/lib/python3.10/site-packages (from jedi>=0.16->ipython->jupyterlab<4,>=3.5->jupyter-ai[all]) (0.8.4)\n",
      "Requirement already satisfied: jsonschema-specifications>=2023.03.6 in /home/ec2-user/anaconda3/envs/python3/lib/python3.10/site-packages (from jsonschema>=4.18.0->jsonschema[format-nongpl]>=4.18.0->jupyter-events>=0.9.0->jupyter-server<3,>=1.6->jupyter-ai[all]) (2023.12.1)\n",
      "Requirement already satisfied: rpds-py>=0.7.1 in /home/ec2-user/anaconda3/envs/python3/lib/python3.10/site-packages (from jsonschema>=4.18.0->jsonschema[format-nongpl]>=4.18.0->jupyter-events>=0.9.0->jupyter-server<3,>=1.6->jupyter-ai[all]) (0.20.0)\n",
      "Requirement already satisfied: fqdn in /home/ec2-user/anaconda3/envs/python3/lib/python3.10/site-packages (from jsonschema[format-nongpl]>=4.18.0->jupyter-events>=0.9.0->jupyter-server<3,>=1.6->jupyter-ai[all]) (1.5.1)\n",
      "Requirement already satisfied: isoduration in /home/ec2-user/anaconda3/envs/python3/lib/python3.10/site-packages (from jsonschema[format-nongpl]>=4.18.0->jupyter-events>=0.9.0->jupyter-server<3,>=1.6->jupyter-ai[all]) (20.11.0)\n",
      "Requirement already satisfied: jsonpointer>1.13 in /home/ec2-user/anaconda3/envs/python3/lib/python3.10/site-packages (from jsonschema[format-nongpl]>=4.18.0->jupyter-events>=0.9.0->jupyter-server<3,>=1.6->jupyter-ai[all]) (3.0.0)\n",
      "Requirement already satisfied: uri-template in /home/ec2-user/anaconda3/envs/python3/lib/python3.10/site-packages (from jsonschema[format-nongpl]>=4.18.0->jupyter-events>=0.9.0->jupyter-server<3,>=1.6->jupyter-ai[all]) (1.3.0)\n",
      "Requirement already satisfied: webcolors>=24.6.0 in /home/ec2-user/anaconda3/envs/python3/lib/python3.10/site-packages (from jsonschema[format-nongpl]>=4.18.0->jupyter-events>=0.9.0->jupyter-server<3,>=1.6->jupyter-ai[all]) (24.8.0)\n",
      "Requirement already satisfied: jsonpatch<2.0,>=1.33 in /home/ec2-user/anaconda3/envs/python3/lib/python3.10/site-packages (from langchain-core<0.3.0,>=0.2.38->langchain<0.3.0,>=0.1.0->jupyter-ai-magics->jupyter-ai[all]) (1.33)\n",
      "Requirement already satisfied: orjson<4.0.0,>=3.9.14 in /home/ec2-user/anaconda3/envs/python3/lib/python3.10/site-packages (from langsmith<0.2.0,>=0.1.17->langchain<0.3.0,>=0.1.0->jupyter-ai-magics->jupyter-ai[all]) (3.10.10)\n",
      "Requirement already satisfied: requests-toolbelt<2.0.0,>=1.0.0 in /home/ec2-user/anaconda3/envs/python3/lib/python3.10/site-packages (from langsmith<0.2.0,>=0.1.17->langchain<0.3.0,>=0.1.0->jupyter-ai-magics->jupyter-ai[all]) (1.0.0)\n",
      "Requirement already satisfied: dill>=0.3.9 in /home/ec2-user/anaconda3/envs/python3/lib/python3.10/site-packages (from multiprocess>=0.70.12->qianfan->jupyter-ai-magics[all]; extra == \"all\"->jupyter-ai[all]) (0.3.9)\n",
      "Requirement already satisfied: pytz>=2020.1 in /home/ec2-user/anaconda3/envs/python3/lib/python3.10/site-packages (from pandas>=1.4.3->langchain-cohere->jupyter-ai-magics[all]; extra == \"all\"->jupyter-ai[all]) (2024.2)\n",
      "Requirement already satisfied: wcwidth in /home/ec2-user/anaconda3/envs/python3/lib/python3.10/site-packages (from prompt-toolkit<3.1.0,>=3.0.41->ipython->jupyterlab<4,>=3.5->jupyter-ai[all]) (0.2.13)\n",
      "Requirement already satisfied: annotated-types>=0.6.0 in /home/ec2-user/anaconda3/envs/python3/lib/python3.10/site-packages (from pydantic<3,>=1->langchain<0.3.0,>=0.1.0->jupyter-ai-magics->jupyter-ai[all]) (0.7.0)\n",
      "Requirement already satisfied: charset-normalizer<4,>=2 in /home/ec2-user/anaconda3/envs/python3/lib/python3.10/site-packages (from requests>=2.31->jupyterlab-server~=2.19->jupyterlab<4,>=3.5->jupyter-ai[all]) (3.3.2)\n",
      "Requirement already satisfied: markdown-it-py>=2.2.0 in /home/ec2-user/anaconda3/envs/python3/lib/python3.10/site-packages (from rich>=13.0.0->qianfan->jupyter-ai-magics[all]; extra == \"all\"->jupyter-ai[all]) (3.0.0)\n",
      "Requirement already satisfied: greenlet!=0.4.17 in /home/ec2-user/anaconda3/envs/python3/lib/python3.10/site-packages (from SQLAlchemy<3,>=1.4->langchain<0.3.0,>=0.1.0->jupyter-ai-magics->jupyter-ai[all]) (3.1.1)\n",
      "Requirement already satisfied: regex>=2022.1.18 in /home/ec2-user/anaconda3/envs/python3/lib/python3.10/site-packages (from tiktoken<1,>=0.7->langchain-openai->jupyter-ai-magics[all]; extra == \"all\"->jupyter-ai[all]) (2024.9.11)\n",
      "Requirement already satisfied: shellingham>=1.3.0 in /home/ec2-user/anaconda3/envs/python3/lib/python3.10/site-packages (from typer>=0.9.0->qianfan->jupyter-ai-magics[all]; extra == \"all\"->jupyter-ai[all]) (1.5.4)\n",
      "Requirement already satisfied: aiofiles<23,>=22.1.0 in /home/ec2-user/anaconda3/envs/python3/lib/python3.10/site-packages (from ypy-websocket<0.9.0,>=0.8.2->jupyter-server-ydoc~=0.8.0->jupyterlab<4,>=3.5->jupyter-ai[all]) (22.1.0)\n",
      "Requirement already satisfied: cffi>=1.0.1 in /home/ec2-user/anaconda3/envs/python3/lib/python3.10/site-packages (from argon2-cffi-bindings->argon2-cffi>=21.1->jupyter-server<3,>=1.6->jupyter-ai[all]) (1.17.1)\n",
      "Requirement already satisfied: soupsieve>1.2 in /home/ec2-user/anaconda3/envs/python3/lib/python3.10/site-packages (from beautifulsoup4->nbconvert>=6.4.4->jupyter-server<3,>=1.6->jupyter-ai[all]) (2.5)\n",
      "Requirement already satisfied: debugpy>=1.6.5 in /home/ec2-user/anaconda3/envs/python3/lib/python3.10/site-packages (from ipykernel->notebook<7->jupyterlab<4,>=3.5->jupyter-ai[all]) (1.8.6)\n",
      "Requirement already satisfied: executing>=1.2.0 in /home/ec2-user/anaconda3/envs/python3/lib/python3.10/site-packages (from stack-data->ipython->jupyterlab<4,>=3.5->jupyter-ai[all]) (2.1.0)\n",
      "Requirement already satisfied: asttokens>=2.1.0 in /home/ec2-user/anaconda3/envs/python3/lib/python3.10/site-packages (from stack-data->ipython->jupyterlab<4,>=3.5->jupyter-ai[all]) (2.4.1)\n",
      "Requirement already satisfied: pure-eval in /home/ec2-user/anaconda3/envs/python3/lib/python3.10/site-packages (from stack-data->ipython->jupyterlab<4,>=3.5->jupyter-ai[all]) (0.2.3)\n",
      "Requirement already satisfied: pycparser in /home/ec2-user/anaconda3/envs/python3/lib/python3.10/site-packages (from cffi>=1.0.1->argon2-cffi-bindings->argon2-cffi>=21.1->jupyter-server<3,>=1.6->jupyter-ai[all]) (2.22)\n",
      "Requirement already satisfied: googleapis-common-protos<2.0.dev0,>=1.56.2 in /home/ec2-user/anaconda3/envs/python3/lib/python3.10/site-packages (from google-api-core->google-generativeai<0.8.0,>=0.7.0->langchain-google-genai->jupyter-ai-magics[all]; extra == \"all\"->jupyter-ai[all]) (1.65.0)\n",
      "Requirement already satisfied: pyasn1-modules>=0.2.1 in /home/ec2-user/anaconda3/envs/python3/lib/python3.10/site-packages (from google-auth>=2.15.0->google-generativeai<0.8.0,>=0.7.0->langchain-google-genai->jupyter-ai-magics[all]; extra == \"all\"->jupyter-ai[all]) (0.4.1)\n",
      "Requirement already satisfied: rsa<5,>=3.1.4 in /home/ec2-user/anaconda3/envs/python3/lib/python3.10/site-packages (from google-auth>=2.15.0->google-generativeai<0.8.0,>=0.7.0->langchain-google-genai->jupyter-ai-magics[all]; extra == \"all\"->jupyter-ai[all]) (4.7.2)\n",
      "Requirement already satisfied: mdurl~=0.1 in /home/ec2-user/anaconda3/envs/python3/lib/python3.10/site-packages (from markdown-it-py>=2.2.0->rich>=13.0.0->qianfan->jupyter-ai-magics[all]; extra == \"all\"->jupyter-ai[all]) (0.1.2)\n",
      "Requirement already satisfied: mypy-extensions>=0.3.0 in /home/ec2-user/anaconda3/envs/python3/lib/python3.10/site-packages (from typing-inspect<1,>=0.4.0->dataclasses-json<0.7,>=0.5.7->langchain-community<0.3.0,>=0.1.0->jupyter-ai-magics->jupyter-ai[all]) (1.0.0)\n",
      "Requirement already satisfied: httplib2<1.dev0,>=0.19.0 in /home/ec2-user/anaconda3/envs/python3/lib/python3.10/site-packages (from google-api-python-client->google-generativeai<0.8.0,>=0.7.0->langchain-google-genai->jupyter-ai-magics[all]; extra == \"all\"->jupyter-ai[all]) (0.22.0)\n",
      "Requirement already satisfied: google-auth-httplib2<1.0.0,>=0.2.0 in /home/ec2-user/anaconda3/envs/python3/lib/python3.10/site-packages (from google-api-python-client->google-generativeai<0.8.0,>=0.7.0->langchain-google-genai->jupyter-ai-magics[all]; extra == \"all\"->jupyter-ai[all]) (0.2.0)\n",
      "Requirement already satisfied: uritemplate<5,>=3.0.1 in /home/ec2-user/anaconda3/envs/python3/lib/python3.10/site-packages (from google-api-python-client->google-generativeai<0.8.0,>=0.7.0->langchain-google-genai->jupyter-ai-magics[all]; extra == \"all\"->jupyter-ai[all]) (4.1.1)\n",
      "Requirement already satisfied: arrow>=0.15.0 in /home/ec2-user/anaconda3/envs/python3/lib/python3.10/site-packages (from isoduration->jsonschema[format-nongpl]>=4.18.0->jupyter-events>=0.9.0->jupyter-server<3,>=1.6->jupyter-ai[all]) (1.3.0)\n",
      "Requirement already satisfied: types-python-dateutil>=2.8.10 in /home/ec2-user/anaconda3/envs/python3/lib/python3.10/site-packages (from arrow>=0.15.0->isoduration->jsonschema[format-nongpl]>=4.18.0->jupyter-events>=0.9.0->jupyter-server<3,>=1.6->jupyter-ai[all]) (2.9.0.20240906)\n",
      "Requirement already satisfied: grpcio<2.0dev,>=1.33.2 in /home/ec2-user/anaconda3/envs/python3/lib/python3.10/site-packages (from google-api-core[grpc]!=2.0.*,!=2.1.*,!=2.10.*,!=2.2.*,!=2.3.*,!=2.4.*,!=2.5.*,!=2.6.*,!=2.7.*,!=2.8.*,!=2.9.*,<3.0.0dev,>=1.34.1->google-ai-generativelanguage==0.6.6->google-generativeai<0.8.0,>=0.7.0->langchain-google-genai->jupyter-ai-magics[all]; extra == \"all\"->jupyter-ai[all]) (1.67.0)\n",
      "Requirement already satisfied: grpcio-status<2.0.dev0,>=1.33.2 in /home/ec2-user/anaconda3/envs/python3/lib/python3.10/site-packages (from google-api-core[grpc]!=2.0.*,!=2.1.*,!=2.10.*,!=2.2.*,!=2.3.*,!=2.4.*,!=2.5.*,!=2.6.*,!=2.7.*,!=2.8.*,!=2.9.*,<3.0.0dev,>=1.34.1->google-ai-generativelanguage==0.6.6->google-generativeai<0.8.0,>=0.7.0->langchain-google-genai->jupyter-ai-magics[all]; extra == \"all\"->jupyter-ai[all]) (1.62.3)\n",
      "Requirement already satisfied: pyparsing!=3.0.0,!=3.0.1,!=3.0.2,!=3.0.3,<4,>=2.4.2 in /home/ec2-user/anaconda3/envs/python3/lib/python3.10/site-packages (from httplib2<1.dev0,>=0.19.0->google-api-python-client->google-generativeai<0.8.0,>=0.7.0->langchain-google-genai->jupyter-ai-magics[all]; extra == \"all\"->jupyter-ai[all]) (3.1.4)\n",
      "Requirement already satisfied: pyasn1<0.7.0,>=0.4.6 in /home/ec2-user/anaconda3/envs/python3/lib/python3.10/site-packages (from pyasn1-modules>=0.2.1->google-auth>=2.15.0->google-generativeai<0.8.0,>=0.7.0->langchain-google-genai->jupyter-ai-magics[all]; extra == \"all\"->jupyter-ai[all]) (0.6.1)\n",
      "Note: you may need to restart the kernel to use updated packages.\n"
     ]
    }
   ],
   "source": [
    "pip install jupyter-ai[all] # execute this cell if the AI model not in the ai list"
   ]
  },
  {
   "cell_type": "code",
   "execution_count": 23,
   "id": "bce0469e-7e3f-4c16-b91d-316adcc4c36e",
   "metadata": {
    "tags": []
   },
   "outputs": [
    {
     "name": "stdout",
     "output_type": "stream",
     "text": [
      "Requirement already satisfied: langchain-openai in /home/ec2-user/anaconda3/envs/python3/lib/python3.10/site-packages (0.1.25)\n",
      "Requirement already satisfied: langchain-core<0.3.0,>=0.2.40 in /home/ec2-user/anaconda3/envs/python3/lib/python3.10/site-packages (from langchain-openai) (0.2.41)\n",
      "Requirement already satisfied: openai<2.0.0,>=1.40.0 in /home/ec2-user/anaconda3/envs/python3/lib/python3.10/site-packages (from langchain-openai) (1.52.2)\n",
      "Requirement already satisfied: tiktoken<1,>=0.7 in /home/ec2-user/anaconda3/envs/python3/lib/python3.10/site-packages (from langchain-openai) (0.8.0)\n",
      "Requirement already satisfied: PyYAML>=5.3 in /home/ec2-user/anaconda3/envs/python3/lib/python3.10/site-packages (from langchain-core<0.3.0,>=0.2.40->langchain-openai) (6.0.2)\n",
      "Requirement already satisfied: jsonpatch<2.0,>=1.33 in /home/ec2-user/anaconda3/envs/python3/lib/python3.10/site-packages (from langchain-core<0.3.0,>=0.2.40->langchain-openai) (1.33)\n",
      "Requirement already satisfied: langsmith<0.2.0,>=0.1.112 in /home/ec2-user/anaconda3/envs/python3/lib/python3.10/site-packages (from langchain-core<0.3.0,>=0.2.40->langchain-openai) (0.1.137)\n",
      "Requirement already satisfied: packaging<25,>=23.2 in /home/ec2-user/anaconda3/envs/python3/lib/python3.10/site-packages (from langchain-core<0.3.0,>=0.2.40->langchain-openai) (24.1)\n",
      "Requirement already satisfied: pydantic<3,>=1 in /home/ec2-user/anaconda3/envs/python3/lib/python3.10/site-packages (from langchain-core<0.3.0,>=0.2.40->langchain-openai) (2.9.2)\n",
      "Requirement already satisfied: tenacity!=8.4.0,<9.0.0,>=8.1.0 in /home/ec2-user/anaconda3/envs/python3/lib/python3.10/site-packages (from langchain-core<0.3.0,>=0.2.40->langchain-openai) (8.5.0)\n",
      "Requirement already satisfied: typing-extensions>=4.7 in /home/ec2-user/anaconda3/envs/python3/lib/python3.10/site-packages (from langchain-core<0.3.0,>=0.2.40->langchain-openai) (4.12.2)\n",
      "Requirement already satisfied: anyio<5,>=3.5.0 in /home/ec2-user/anaconda3/envs/python3/lib/python3.10/site-packages (from openai<2.0.0,>=1.40.0->langchain-openai) (4.6.0)\n",
      "Requirement already satisfied: distro<2,>=1.7.0 in /home/ec2-user/anaconda3/envs/python3/lib/python3.10/site-packages (from openai<2.0.0,>=1.40.0->langchain-openai) (1.9.0)\n",
      "Requirement already satisfied: httpx<1,>=0.23.0 in /home/ec2-user/anaconda3/envs/python3/lib/python3.10/site-packages (from openai<2.0.0,>=1.40.0->langchain-openai) (0.27.2)\n",
      "Requirement already satisfied: jiter<1,>=0.4.0 in /home/ec2-user/anaconda3/envs/python3/lib/python3.10/site-packages (from openai<2.0.0,>=1.40.0->langchain-openai) (0.6.1)\n",
      "Requirement already satisfied: sniffio in /home/ec2-user/anaconda3/envs/python3/lib/python3.10/site-packages (from openai<2.0.0,>=1.40.0->langchain-openai) (1.3.1)\n",
      "Requirement already satisfied: tqdm>4 in /home/ec2-user/anaconda3/envs/python3/lib/python3.10/site-packages (from openai<2.0.0,>=1.40.0->langchain-openai) (4.66.5)\n",
      "Requirement already satisfied: regex>=2022.1.18 in /home/ec2-user/anaconda3/envs/python3/lib/python3.10/site-packages (from tiktoken<1,>=0.7->langchain-openai) (2024.9.11)\n",
      "Requirement already satisfied: requests>=2.26.0 in /home/ec2-user/anaconda3/envs/python3/lib/python3.10/site-packages (from tiktoken<1,>=0.7->langchain-openai) (2.32.3)\n",
      "Requirement already satisfied: idna>=2.8 in /home/ec2-user/anaconda3/envs/python3/lib/python3.10/site-packages (from anyio<5,>=3.5.0->openai<2.0.0,>=1.40.0->langchain-openai) (3.10)\n",
      "Requirement already satisfied: exceptiongroup>=1.0.2 in /home/ec2-user/anaconda3/envs/python3/lib/python3.10/site-packages (from anyio<5,>=3.5.0->openai<2.0.0,>=1.40.0->langchain-openai) (1.2.2)\n",
      "Requirement already satisfied: certifi in /home/ec2-user/anaconda3/envs/python3/lib/python3.10/site-packages (from httpx<1,>=0.23.0->openai<2.0.0,>=1.40.0->langchain-openai) (2024.8.30)\n",
      "Requirement already satisfied: httpcore==1.* in /home/ec2-user/anaconda3/envs/python3/lib/python3.10/site-packages (from httpx<1,>=0.23.0->openai<2.0.0,>=1.40.0->langchain-openai) (1.0.5)\n",
      "Requirement already satisfied: h11<0.15,>=0.13 in /home/ec2-user/anaconda3/envs/python3/lib/python3.10/site-packages (from httpcore==1.*->httpx<1,>=0.23.0->openai<2.0.0,>=1.40.0->langchain-openai) (0.14.0)\n",
      "Requirement already satisfied: jsonpointer>=1.9 in /home/ec2-user/anaconda3/envs/python3/lib/python3.10/site-packages (from jsonpatch<2.0,>=1.33->langchain-core<0.3.0,>=0.2.40->langchain-openai) (3.0.0)\n",
      "Requirement already satisfied: orjson<4.0.0,>=3.9.14 in /home/ec2-user/anaconda3/envs/python3/lib/python3.10/site-packages (from langsmith<0.2.0,>=0.1.112->langchain-core<0.3.0,>=0.2.40->langchain-openai) (3.10.10)\n",
      "Requirement already satisfied: requests-toolbelt<2.0.0,>=1.0.0 in /home/ec2-user/anaconda3/envs/python3/lib/python3.10/site-packages (from langsmith<0.2.0,>=0.1.112->langchain-core<0.3.0,>=0.2.40->langchain-openai) (1.0.0)\n",
      "Requirement already satisfied: annotated-types>=0.6.0 in /home/ec2-user/anaconda3/envs/python3/lib/python3.10/site-packages (from pydantic<3,>=1->langchain-core<0.3.0,>=0.2.40->langchain-openai) (0.7.0)\n",
      "Requirement already satisfied: pydantic-core==2.23.4 in /home/ec2-user/anaconda3/envs/python3/lib/python3.10/site-packages (from pydantic<3,>=1->langchain-core<0.3.0,>=0.2.40->langchain-openai) (2.23.4)\n",
      "Requirement already satisfied: charset-normalizer<4,>=2 in /home/ec2-user/anaconda3/envs/python3/lib/python3.10/site-packages (from requests>=2.26.0->tiktoken<1,>=0.7->langchain-openai) (3.3.2)\n",
      "Requirement already satisfied: urllib3<3,>=1.21.1 in /home/ec2-user/anaconda3/envs/python3/lib/python3.10/site-packages (from requests>=2.26.0->tiktoken<1,>=0.7->langchain-openai) (2.2.3)\n",
      "Note: you may need to restart the kernel to use updated packages.\n"
     ]
    }
   ],
   "source": [
    "pip install langchain-openai # skip this if you pip install jupyter-ai[all]"
   ]
  },
  {
   "cell_type": "code",
   "execution_count": 24,
   "id": "56c8fd1c-6e79-4d68-b900-640d785b93b6",
   "metadata": {
    "tags": []
   },
   "outputs": [
    {
     "name": "stdout",
     "output_type": "stream",
     "text": [
      "Requirement already satisfied: pymongo in /home/ec2-user/anaconda3/envs/python3/lib/python3.10/site-packages (4.10.1)\n",
      "Requirement already satisfied: dnspython<3.0.0,>=1.16.0 in /home/ec2-user/anaconda3/envs/python3/lib/python3.10/site-packages (from pymongo) (2.7.0)\n",
      "Note: you may need to restart the kernel to use updated packages.\n"
     ]
    }
   ],
   "source": [
    "pip install pymongo"
   ]
  },
  {
   "cell_type": "markdown",
   "id": "bba375f7-26e1-47f5-b6a6-b37c657ce8bd",
   "metadata": {},
   "source": [
    "## Secrets Manager Function"
   ]
  },
  {
   "cell_type": "code",
   "execution_count": 8,
   "id": "e5c59ad0-b012-436d-9550-ad207946b1ec",
   "metadata": {
    "tags": []
   },
   "outputs": [],
   "source": [
    "import boto3\n",
    "from botocore.exceptions import ClientError\n",
    "import json\n",
    "\n",
    "def get_secret(secret_name):\n",
    "    region_name = \"us-east-1\"\n",
    "\n",
    "    # Create a Secrets Manager client\n",
    "    session = boto3.session.Session()\n",
    "    client = session.client(\n",
    "        service_name='secretsmanager',\n",
    "        region_name=region_name\n",
    "    )\n",
    "\n",
    "    try:\n",
    "        get_secret_value_response = client.get_secret_value(\n",
    "            SecretId=secret_name\n",
    "        )\n",
    "    except ClientError as e:\n",
    "        raise e\n",
    "\n",
    "    secret = get_secret_value_response['SecretString']\n",
    "    \n",
    "    return json.loads(secret)"
   ]
  },
  {
   "cell_type": "markdown",
   "id": "d8eb6454-f57a-42a6-a868-5026c6c56d6a",
   "metadata": {},
   "source": [
    "## Import Python Libraries and Credentials"
   ]
  },
  {
   "cell_type": "code",
   "execution_count": 12,
   "id": "1fc6fc83-63fd-4f5b-9be2-1078fd538c1e",
   "metadata": {
    "tags": []
   },
   "outputs": [],
   "source": [
    "import pymongo\n",
    "from pymongo import MongoClient\n",
    "import json\n",
    "import re\n",
    "import os\n",
    "\n",
    "os.environ[\"OPENAI_API_KEY\"] = get_secret('openai')['api_key']\n",
    "email = get_secret('email')['address']\n",
    "mongodb_connect = get_secret('mongodb')['connection_string']\n",
    "usa_jobs_key = get_secret('usajobs')['api_key']"
   ]
  },
  {
   "cell_type": "markdown",
   "id": "518c94f6-096d-4e64-8ece-92f84625ebf2",
   "metadata": {},
   "source": [
    "## Connect to the MongoDB cluster"
   ]
  },
  {
   "cell_type": "code",
   "execution_count": 13,
   "id": "9692d990-d1a4-4406-9a6d-cafa57e6092b",
   "metadata": {
    "tags": []
   },
   "outputs": [
    {
     "ename": "InvalidURI",
     "evalue": "Invalid URI scheme: URI must begin with 'mongodb://' or 'mongodb+srv://'",
     "output_type": "error",
     "traceback": [
      "\u001b[0;31m---------------------------------------------------------------------------\u001b[0m",
      "\u001b[0;31mInvalidURI\u001b[0m                                Traceback (most recent call last)",
      "Cell \u001b[0;32mIn[13], line 1\u001b[0m\n\u001b[0;32m----> 1\u001b[0m mongo_client \u001b[38;5;241m=\u001b[39m \u001b[43mMongoClient\u001b[49m\u001b[43m(\u001b[49m\u001b[43mmongodb_connect\u001b[49m\u001b[43m)\u001b[49m\n\u001b[1;32m      2\u001b[0m db \u001b[38;5;241m=\u001b[39m mongo_client\u001b[38;5;241m.\u001b[39mdemo \u001b[38;5;66;03m# use or create a database named demo\u001b[39;00m\n\u001b[1;32m      3\u001b[0m job_collection \u001b[38;5;241m=\u001b[39m db\u001b[38;5;241m.\u001b[39mjob_collection \u001b[38;5;66;03m#use or create a collection named job_collection\u001b[39;00m\n",
      "File \u001b[0;32m~/anaconda3/envs/python3/lib/python3.10/site-packages/pymongo/synchronous/mongo_client.py:780\u001b[0m, in \u001b[0;36mMongoClient.__init__\u001b[0;34m(self, host, port, document_class, tz_aware, connect, type_registry, **kwargs)\u001b[0m\n\u001b[1;32m    776\u001b[0m \u001b[38;5;28;01mif\u001b[39;00m timeout \u001b[38;5;129;01mis\u001b[39;00m \u001b[38;5;129;01mnot\u001b[39;00m \u001b[38;5;28;01mNone\u001b[39;00m:\n\u001b[1;32m    777\u001b[0m     timeout \u001b[38;5;241m=\u001b[39m common\u001b[38;5;241m.\u001b[39mvalidate_timeout_or_none_or_zero(\n\u001b[1;32m    778\u001b[0m         keyword_opts\u001b[38;5;241m.\u001b[39mcased_key(\u001b[38;5;124m\"\u001b[39m\u001b[38;5;124mconnecttimeoutms\u001b[39m\u001b[38;5;124m\"\u001b[39m), timeout\n\u001b[1;32m    779\u001b[0m     )\n\u001b[0;32m--> 780\u001b[0m res \u001b[38;5;241m=\u001b[39m \u001b[43muri_parser\u001b[49m\u001b[38;5;241;43m.\u001b[39;49m\u001b[43mparse_uri\u001b[49m\u001b[43m(\u001b[49m\n\u001b[1;32m    781\u001b[0m \u001b[43m    \u001b[49m\u001b[43mentity\u001b[49m\u001b[43m,\u001b[49m\n\u001b[1;32m    782\u001b[0m \u001b[43m    \u001b[49m\u001b[43mport\u001b[49m\u001b[43m,\u001b[49m\n\u001b[1;32m    783\u001b[0m \u001b[43m    \u001b[49m\u001b[43mvalidate\u001b[49m\u001b[38;5;241;43m=\u001b[39;49m\u001b[38;5;28;43;01mTrue\u001b[39;49;00m\u001b[43m,\u001b[49m\n\u001b[1;32m    784\u001b[0m \u001b[43m    \u001b[49m\u001b[43mwarn\u001b[49m\u001b[38;5;241;43m=\u001b[39;49m\u001b[38;5;28;43;01mTrue\u001b[39;49;00m\u001b[43m,\u001b[49m\n\u001b[1;32m    785\u001b[0m \u001b[43m    \u001b[49m\u001b[43mnormalize\u001b[49m\u001b[38;5;241;43m=\u001b[39;49m\u001b[38;5;28;43;01mFalse\u001b[39;49;00m\u001b[43m,\u001b[49m\n\u001b[1;32m    786\u001b[0m \u001b[43m    \u001b[49m\u001b[43mconnect_timeout\u001b[49m\u001b[38;5;241;43m=\u001b[39;49m\u001b[43mtimeout\u001b[49m\u001b[43m,\u001b[49m\n\u001b[1;32m    787\u001b[0m \u001b[43m    \u001b[49m\u001b[43msrv_service_name\u001b[49m\u001b[38;5;241;43m=\u001b[39;49m\u001b[43msrv_service_name\u001b[49m\u001b[43m,\u001b[49m\n\u001b[1;32m    788\u001b[0m \u001b[43m    \u001b[49m\u001b[43msrv_max_hosts\u001b[49m\u001b[38;5;241;43m=\u001b[39;49m\u001b[43msrv_max_hosts\u001b[49m\u001b[43m,\u001b[49m\n\u001b[1;32m    789\u001b[0m \u001b[43m\u001b[49m\u001b[43m)\u001b[49m\n\u001b[1;32m    790\u001b[0m seeds\u001b[38;5;241m.\u001b[39mupdate(res[\u001b[38;5;124m\"\u001b[39m\u001b[38;5;124mnodelist\u001b[39m\u001b[38;5;124m\"\u001b[39m])\n\u001b[1;32m    791\u001b[0m username \u001b[38;5;241m=\u001b[39m res[\u001b[38;5;124m\"\u001b[39m\u001b[38;5;124musername\u001b[39m\u001b[38;5;124m\"\u001b[39m] \u001b[38;5;129;01mor\u001b[39;00m username\n",
      "File \u001b[0;32m~/anaconda3/envs/python3/lib/python3.10/site-packages/pymongo/uri_parser.py:502\u001b[0m, in \u001b[0;36mparse_uri\u001b[0;34m(uri, default_port, validate, warn, normalize, connect_timeout, srv_service_name, srv_max_hosts)\u001b[0m\n\u001b[1;32m    500\u001b[0m     scheme_free \u001b[38;5;241m=\u001b[39m uri[SRV_SCHEME_LEN:]\n\u001b[1;32m    501\u001b[0m \u001b[38;5;28;01melse\u001b[39;00m:\n\u001b[0;32m--> 502\u001b[0m     \u001b[38;5;28;01mraise\u001b[39;00m InvalidURI(\u001b[38;5;124mf\u001b[39m\u001b[38;5;124m\"\u001b[39m\u001b[38;5;124mInvalid URI scheme: URI must begin with \u001b[39m\u001b[38;5;124m'\u001b[39m\u001b[38;5;132;01m{\u001b[39;00mSCHEME\u001b[38;5;132;01m}\u001b[39;00m\u001b[38;5;124m'\u001b[39m\u001b[38;5;124m or \u001b[39m\u001b[38;5;124m'\u001b[39m\u001b[38;5;132;01m{\u001b[39;00mSRV_SCHEME\u001b[38;5;132;01m}\u001b[39;00m\u001b[38;5;124m'\u001b[39m\u001b[38;5;124m\"\u001b[39m)\n\u001b[1;32m    504\u001b[0m \u001b[38;5;28;01mif\u001b[39;00m \u001b[38;5;129;01mnot\u001b[39;00m scheme_free:\n\u001b[1;32m    505\u001b[0m     \u001b[38;5;28;01mraise\u001b[39;00m InvalidURI(\u001b[38;5;124m\"\u001b[39m\u001b[38;5;124mMust provide at least one hostname or IP.\u001b[39m\u001b[38;5;124m\"\u001b[39m)\n",
      "\u001b[0;31mInvalidURI\u001b[0m: Invalid URI scheme: URI must begin with 'mongodb://' or 'mongodb+srv://'"
     ]
    }
   ],
   "source": [
    "mongo_client = MongoClient(mongodb_connect)\n",
    "db = mongo_client.demo # use or create a database named demo\n",
    "job_collection = db.job_collection #use or create a collection named job_collection\n"
   ]
  },
  {
   "cell_type": "markdown",
   "id": "cac7c169-ae33-43cc-97f3-01187799deb6",
   "metadata": {},
   "source": [
    "## Load the Jupyter AI Magic Commands"
   ]
  },
  {
   "cell_type": "code",
   "execution_count": 11,
   "id": "d7b6fe67-cdc2-4435-8968-c1ab75115f41",
   "metadata": {
    "tags": []
   },
   "outputs": [
    {
     "name": "stdout",
     "output_type": "stream",
     "text": [
      "sagemaker.config INFO - Not applying SDK defaults from location: /etc/xdg/sagemaker/config.yaml\n",
      "sagemaker.config INFO - Not applying SDK defaults from location: /home/ec2-user/.config/sagemaker/config.yaml\n"
     ]
    }
   ],
   "source": [
    "%load_ext jupyter_ai_magics"
   ]
  },
  {
   "cell_type": "markdown",
   "id": "ee256bb9-9cd5-4f9b-b06f-60704dc7bc30",
   "metadata": {},
   "source": [
    "Check the available AI models, this is optional. "
   ]
  },
  {
   "cell_type": "code",
   "execution_count": null,
   "id": "770f1a96-35d7-451b-8a19-000588e6da15",
   "metadata": {
    "scrolled": true,
    "tags": []
   },
   "outputs": [],
   "source": [
    "%ai list"
   ]
  },
  {
   "cell_type": "markdown",
   "id": "2a690bee-d9c3-4d1c-88af-176b285fcb7b",
   "metadata": {},
   "source": [
    "## Example Prompt\n",
    "Bellow is a prompt that may create a workable code"
   ]
  },
  {
   "cell_type": "code",
   "execution_count": 14,
   "id": "34ac2a32-2fce-469d-abb5-496008a5383d",
   "metadata": {
    "tags": []
   },
   "outputs": [],
   "source": [
    "import requests\n",
    "\n",
    "def search_usajobs(agent, auth_key, location, keywords, collection):\n",
    "    base_url = \"https://data.usajobs.gov/api/search\"\n",
    "    headers = {\n",
    "        \"User-Agent\": agent, \n",
    "        \"Authorization-Key\": auth_key,\n",
    "        \"Host\": \"data.usajobs.gov\"\n",
    "    }\n",
    "    params = {\n",
    "        \"LocationName\": location,\n",
    "        \"Keyword\": keywords,\n",
    "        \"ResultsPerPage\": 500\n",
    "    }\n",
    "\n",
    "    response = requests.get(base_url, headers=headers, params=params)\n",
    "    data = response.json()\n",
    "    num_pages = int(data['SearchResult']['UserArea']['NumberOfPages'])\n",
    "\n",
    "    for page in range(1, num_pages + 1):\n",
    "        params[\"Page\"] = page\n",
    "        response = requests.get(base_url, headers=headers, params=params)\n",
    "        data = response.json()\n",
    "        jobs = data['SearchResult']['SearchResultItems']\n",
    "\n",
    "        for job in jobs:\n",
    "            collection.insert_one(job)"
   ]
  },
  {
   "cell_type": "markdown",
   "id": "47732f60-3255-4ccd-8d76-dd9e6025a359",
   "metadata": {},
   "source": [
    "## Example Code\n",
    "Bellow is a code generated by AI that works"
   ]
  },
  {
   "cell_type": "code",
   "execution_count": 18,
   "id": "c6da74f7-84e2-49f0-b903-f1eebe0312e6",
   "metadata": {
    "tags": []
   },
   "outputs": [],
   "source": [
    "import requests\n",
    "\n",
    "def search_jobs(agent, auth_key, job_location, job_keywords, collection):\n",
    "    base_url = 'https://data.usajobs.gov/api/search'\n",
    "    headers = {'User-Agent': agent, 'Authorization-Key': auth_key}\n",
    "    params = {'LocationName': job_location, 'Keyword': job_keywords, 'ResultsPerPage': 500}\n",
    "\n",
    "    page = 1\n",
    "    while page <= 10:\n",
    "        params['Page'] = page\n",
    "        response = requests.get(base_url, headers=headers, params=params)\n",
    "        if response.status_code != 200:\n",
    "            break\n",
    "\n",
    "        job_data = response.json()\n",
    "        for job in job_data['SearchResult']['SearchResultItems']:\n",
    "            job_info = job['MatchedObjectDescriptor']\n",
    "            collection.insert_one(job_info)\n",
    "\n",
    "        page += 1"
   ]
  },
  {
   "cell_type": "markdown",
   "id": "dad51f6e-135e-40c5-8b4d-e6d7fa40dd9f",
   "metadata": {},
   "source": [
    "Use the AI-generated code to collect `AI-related` jobs in `Fairfax, VA`. We also pass the `job_collection`, `api_key`, and `email` to the function."
   ]
  },
  {
   "cell_type": "code",
   "execution_count": 19,
   "id": "15c77125-6585-4072-bb80-8ed9f4ffd213",
   "metadata": {
    "tags": []
   },
   "outputs": [
    {
     "ename": "NameError",
     "evalue": "name 'job_collection' is not defined",
     "output_type": "error",
     "traceback": [
      "\u001b[0;31m---------------------------------------------------------------------------\u001b[0m",
      "\u001b[0;31mNameError\u001b[0m                                 Traceback (most recent call last)",
      "Cell \u001b[0;32mIn[19], line 1\u001b[0m\n\u001b[0;32m----> 1\u001b[0m search_jobs(collection\u001b[38;5;241m=\u001b[39m \u001b[43mjob_collection\u001b[49m,\n\u001b[1;32m      2\u001b[0m             auth_key\u001b[38;5;241m=\u001b[39musa_jobs_key, \n\u001b[1;32m      3\u001b[0m             agent\u001b[38;5;241m=\u001b[39m email, \n\u001b[1;32m      4\u001b[0m             job_keywords\u001b[38;5;241m=\u001b[39m \u001b[38;5;124m'\u001b[39m\u001b[38;5;124mgeospatial\u001b[39m\u001b[38;5;124m'\u001b[39m,\n\u001b[1;32m      5\u001b[0m             job_location\u001b[38;5;241m=\u001b[39m \u001b[38;5;124m'\u001b[39m\u001b[38;5;124mfairfax, va\u001b[39m\u001b[38;5;124m'\u001b[39m)\n",
      "\u001b[0;31mNameError\u001b[0m: name 'job_collection' is not defined"
     ]
    }
   ],
   "source": [
    "search_jobs(collection= job_collection,\n",
    "            auth_key=usa_jobs_key, \n",
    "            agent= email, \n",
    "            job_keywords= 'geospatial',\n",
    "            job_location= 'fairfax, va')"
   ]
  },
  {
   "cell_type": "markdown",
   "id": "c17b3236-987b-44e3-8a4a-196594d7eeb1",
   "metadata": {},
   "source": [
    "Display the number of collected jobs:"
   ]
  },
  {
   "cell_type": "code",
   "execution_count": 20,
   "id": "8cf6df1a-4582-4505-8d2d-e63a6cdd9954",
   "metadata": {
    "tags": []
   },
   "outputs": [
    {
     "ename": "NameError",
     "evalue": "name 'job_collection' is not defined",
     "output_type": "error",
     "traceback": [
      "\u001b[0;31m---------------------------------------------------------------------------\u001b[0m",
      "\u001b[0;31mNameError\u001b[0m                                 Traceback (most recent call last)",
      "Cell \u001b[0;32mIn[20], line 1\u001b[0m\n\u001b[0;32m----> 1\u001b[0m \u001b[43mjob_collection\u001b[49m\u001b[38;5;241m.\u001b[39mestimated_document_count()\n",
      "\u001b[0;31mNameError\u001b[0m: name 'job_collection' is not defined"
     ]
    }
   ],
   "source": [
    "job_collection.estimated_document_count()"
   ]
  },
  {
   "cell_type": "code",
   "execution_count": null,
   "id": "e78cff2a-ab5a-4a43-b098-d833656fae68",
   "metadata": {},
   "outputs": [],
   "source": []
  }
 ],
 "metadata": {
  "kernelspec": {
   "display_name": "conda_python3",
   "language": "python",
   "name": "conda_python3"
  },
  "language_info": {
   "codemirror_mode": {
    "name": "ipython",
    "version": 3
   },
   "file_extension": ".py",
   "mimetype": "text/x-python",
   "name": "python",
   "nbconvert_exporter": "python",
   "pygments_lexer": "ipython3",
   "version": "3.10.15"
  }
 },
 "nbformat": 4,
 "nbformat_minor": 5
}
