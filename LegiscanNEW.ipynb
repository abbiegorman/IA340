{
 "cells": [
  {
   "cell_type": "code",
   "execution_count": 1,
   "id": "d7512ad1-3055-4ce1-8364-0c2984fdf790",
   "metadata": {
    "tags": []
   },
   "outputs": [],
   "source": [
    "import requests\n",
    "import pandas as pd\n",
    "import time"
   ]
  },
  {
   "cell_type": "code",
   "execution_count": 28,
   "id": "7c346813-30f7-4432-b9cb-c9a7c3f07edf",
   "metadata": {
    "tags": []
   },
   "outputs": [
    {
     "name": "stdout",
     "output_type": "stream",
     "text": [
      "https://api.legiscan.com/?key=f48c01578e3d8481ec9038b9df67830d&op=getSearch&state=ALL&query=marijuana&page=1\n"
     ]
    }
   ],
   "source": [
    "# the components of the API call, which make up the \"request\" variable\n",
    "url = 'https://api.legiscan.com/?key='\n",
    "key = 'f48c01578e3d8481ec9038b9df67830d'\n",
    "page = 1\n",
    "request = requests.get(url + key + '&op=getSearch&state=ALL&query=marijuana' + '&page=' + str(page))\n",
    "\n",
    "# to print out the full URL, and we can paste in the browser to get \n",
    "# an interactive look at the raw results\n",
    "print(url + key + '&op=getSearch&state=ALL&query=marijuana' + '&page=' + str(page))"
   ]
  },
  {
   "cell_type": "code",
   "execution_count": 29,
   "id": "f5f77fd3-86fa-4308-8a53-a25a6eec7476",
   "metadata": {
    "tags": []
   },
   "outputs": [
    {
     "name": "stdout",
     "output_type": "stream",
     "text": [
      "Page total: 23\n",
      "Total results: 1128\n"
     ]
    }
   ],
   "source": [
    "# get the page_total and the count from the request summary\n",
    "page_total = request.json()['searchresult']['summary']['page_total']\n",
    "count = request.json()['searchresult']['summary']['count']\n",
    "print('Page total: ' + str(page_total) + '\\n' + 'Total results: ' + str(count))"
   ]
  },
  {
   "cell_type": "code",
   "execution_count": 30,
   "id": "8aa5d751-94fc-4c70-8eae-baab967d2334",
   "metadata": {
    "tags": []
   },
   "outputs": [],
   "source": [
    "# request the additional pages of the query by adding 1 to the 'page' \n",
    "# parameter until it reaches the page_total. Store each page of  \n",
    "# requests in a list. Wait 3 seconds between each request to avoid \n",
    "# overloading the API\n",
    "\n",
    "pages = []\n",
    "for i in range(page_total):\n",
    "    page = i + 1\n",
    "    request = requests.get(url + key + '&op=getSearch&state=ALL&query=marijuana' + '&page=' + str(page))\n",
    "    time.sleep(3)\n",
    "    pages.append(request.json())"
   ]
  },
  {
   "cell_type": "code",
   "execution_count": 31,
   "id": "fafb425b-f8c7-44b0-bd84-4e1f5529b470",
   "metadata": {
    "tags": []
   },
   "outputs": [],
   "source": [
    "# for each page of the request, parse the results and add them to a \n",
    "# dataframe. each page is a json file with individual results labeled\n",
    "# '0' through '49' and # 'summary' nested under searchresult. Ignore \n",
    "# the summary and use pandas.concat to add each of the results from \n",
    "# the request in a dataframe\n",
    "\n",
    "df = pd.DataFrame()\n",
    "for page in pages:\n",
    "    results = page['searchresult']\n",
    "    # if the page has no results, skip it\n",
    "    for i in range(50):\n",
    "        if str(i) in results:\n",
    "            df = pd.concat([df, pd.DataFrame(results[str(i)], index=[i])])\n",
    "        else:\n",
    "            continue"
   ]
  },
  {
   "cell_type": "code",
   "execution_count": 33,
   "id": "cbb19787-de21-4206-9233-626f7fbbdfa2",
   "metadata": {
    "tags": []
   },
   "outputs": [
    {
     "name": "stdout",
     "output_type": "stream",
     "text": [
      "    relevance state bill_number  bill_id                       change_hash  \\\n",
      "0         100    CO      HB1061  1810748  a1c18e4309764f2f66611d6a44c33dd3   \n",
      "1          99    CO       SB076  1824252  253d208f013a36be84633a3f251503f5   \n",
      "2          99    SC       S0211  1635367  5f57e929eccdf774ca41707c6cc59430   \n",
      "3          99    CO       SB172  1859475  ee04ab9c894cc20242d6435bdf3de28c   \n",
      "4          99    AK       HB119  1743726  25dd8b7c73d3a2721f38eaa40d3f6873   \n",
      "..        ...   ...         ...      ...                               ...   \n",
      "23         14    WV       SB421  1812739  edd5d084f5d282760e6ffdb9fb6efddc   \n",
      "24         13    MI      HB4292  1743262  9800622285060da7e2386e9f064a91a8   \n",
      "25          5    NJ       A4700  1883494  f5124daa49c522c2413e007df43f5020   \n",
      "26          5    NJ       S2025  1883535  d328c57e3ec173c669a9ef402ca009ab   \n",
      "27          4    MI      HB4437  1757146  604fc33c04c0b4d89cce5b8bd0d51893   \n",
      "\n",
      "                                         url  \\\n",
      "0   https://legiscan.com/CO/bill/HB1061/2024   \n",
      "1    https://legiscan.com/CO/bill/SB076/2024   \n",
      "2    https://legiscan.com/SC/bill/S0211/2023   \n",
      "3    https://legiscan.com/CO/bill/SB172/2024   \n",
      "4    https://legiscan.com/AK/bill/HB119/2023   \n",
      "..                                       ...   \n",
      "23   https://legiscan.com/WV/bill/SB421/2024   \n",
      "24  https://legiscan.com/MI/bill/HB4292/2023   \n",
      "25   https://legiscan.com/NJ/bill/A4700/2024   \n",
      "26   https://legiscan.com/NJ/bill/S2025/2024   \n",
      "27  https://legiscan.com/MI/bill/HB4437/2023   \n",
      "\n",
      "                                    text_url  \\\n",
      "0   https://legiscan.com/CO/text/HB1061/2024   \n",
      "1    https://legiscan.com/CO/text/SB076/2024   \n",
      "2    https://legiscan.com/SC/text/S0211/2023   \n",
      "3    https://legiscan.com/CO/text/SB172/2024   \n",
      "4    https://legiscan.com/AK/text/HB119/2023   \n",
      "..                                       ...   \n",
      "23   https://legiscan.com/WV/text/SB421/2024   \n",
      "24  https://legiscan.com/MI/text/HB4292/2023   \n",
      "25   https://legiscan.com/NJ/text/A4700/2024   \n",
      "26   https://legiscan.com/NJ/text/S2025/2024   \n",
      "27  https://legiscan.com/MI/text/HB4437/2023   \n",
      "\n",
      "                                    research_url last_action_date  \\\n",
      "0   https://legiscan.com/CO/research/HB1061/2024       2024-03-21   \n",
      "1    https://legiscan.com/CO/research/SB076/2024       2024-06-06   \n",
      "2    https://legiscan.com/SC/research/S0211/2023       2023-02-08   \n",
      "3    https://legiscan.com/CO/research/SB172/2024       2024-05-01   \n",
      "4    https://legiscan.com/AK/research/HB119/2023       2024-05-11   \n",
      "..                                           ...              ...   \n",
      "23   https://legiscan.com/WV/research/SB421/2024       2024-01-12   \n",
      "24  https://legiscan.com/MI/research/HB4292/2023       2023-12-31   \n",
      "25   https://legiscan.com/NJ/research/A4700/2024       2024-06-28   \n",
      "26   https://legiscan.com/NJ/research/S2025/2024       2024-06-28   \n",
      "27  https://legiscan.com/MI/research/HB4437/2023       2023-09-06   \n",
      "\n",
      "                                          last_action  \\\n",
      "0   House Committee on Business Affairs & Labor Po...   \n",
      "1                                     Governor Signed   \n",
      "2                         Scrivener's error corrected   \n",
      "3                                     Governor Signed   \n",
      "4                                 REFERRED TO FINANCE   \n",
      "..                                                ...   \n",
      "23                      To Health and Human Resources   \n",
      "24                                 Assigned Pa 321'23   \n",
      "25       Approved With Line Item Veto P.L.2024, c.22.   \n",
      "26                               Substituted by A4700   \n",
      "27  Disapproved Line Item(s) Re-referred To Commit...   \n",
      "\n",
      "                                                title  \n",
      "0              Marijuana Industry &amp; Social Equity  \n",
      "1                     Streamline Marijuana Regulation  \n",
      "2                               Marijuana Control Act  \n",
      "3        Hemp Product Definition Marijuana Regulation  \n",
      "4           Marijuana: Tax/retail Stores/registration  \n",
      "..                                                ...  \n",
      "23  Renaming Department of Health and Human Resources  \n",
      "24  Appropriations: general government; appropriat...  \n",
      "25  Appropriates $56,635,803,000 in State funds an...  \n",
      "26  Appropriates $56,635,803,000 in State funds an...  \n",
      "27  Appropriations: omnibus; appropriations for mu...  \n",
      "\n",
      "[1128 rows x 11 columns]\n"
     ]
    }
   ],
   "source": [
    "print(df)"
   ]
  },
  {
   "cell_type": "code",
   "execution_count": 34,
   "id": "388c185d-838c-4b8a-9c7b-4260c2103e71",
   "metadata": {
    "tags": []
   },
   "outputs": [
    {
     "name": "stdout",
     "output_type": "stream",
     "text": [
      "<class 'pandas.core.frame.DataFrame'>\n",
      "Int64Index: 1128 entries, 0 to 27\n",
      "Data columns (total 11 columns):\n",
      " #   Column            Non-Null Count  Dtype \n",
      "---  ------            --------------  ----- \n",
      " 0   relevance         1128 non-null   int64 \n",
      " 1   state             1128 non-null   object\n",
      " 2   bill_number       1128 non-null   object\n",
      " 3   bill_id           1128 non-null   int64 \n",
      " 4   change_hash       1128 non-null   object\n",
      " 5   url               1128 non-null   object\n",
      " 6   text_url          1128 non-null   object\n",
      " 7   research_url      1128 non-null   object\n",
      " 8   last_action_date  1128 non-null   object\n",
      " 9   last_action       1128 non-null   object\n",
      " 10  title             1128 non-null   object\n",
      "dtypes: int64(2), object(9)\n",
      "memory usage: 105.8+ KB\n"
     ]
    }
   ],
   "source": [
    "df.info()"
   ]
  },
  {
   "cell_type": "code",
   "execution_count": 37,
   "id": "10c7d584-cfe8-4a13-8b29-ee49b9e6c711",
   "metadata": {
    "tags": []
   },
   "outputs": [],
   "source": [
    "df.to_csv('legiscan_api_results.csv')"
   ]
  },
  {
   "cell_type": "code",
   "execution_count": null,
   "id": "960ccb8f-8309-4615-b4db-0989078b42d3",
   "metadata": {},
   "outputs": [],
   "source": []
  }
 ],
 "metadata": {
  "kernelspec": {
   "display_name": "conda_python3",
   "language": "python",
   "name": "conda_python3"
  },
  "language_info": {
   "codemirror_mode": {
    "name": "ipython",
    "version": 3
   },
   "file_extension": ".py",
   "mimetype": "text/x-python",
   "name": "python",
   "nbconvert_exporter": "python",
   "pygments_lexer": "ipython3",
   "version": "3.10.15"
  }
 },
 "nbformat": 4,
 "nbformat_minor": 5
}
