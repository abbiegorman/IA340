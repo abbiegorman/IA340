{
 "cells": [
  {
   "cell_type": "markdown",
   "id": "8cf92b1a-21f5-4050-a80d-6b7acd6bef60",
   "metadata": {},
   "source": [
    "### Final Project"
   ]
  },
  {
   "cell_type": "markdown",
   "id": "aefcacfa-814a-460e-9d28-1ad683a684ab",
   "metadata": {
    "tags": []
   },
   "source": [
    "Analyze the collected Twitter data with OpenAI and store the results in a MongoDB database. The analyses include:\n",
    "\n",
    "- Extract entities\n",
    "- Summarize"
   ]
  },
  {
   "cell_type": "markdown",
   "id": "ebdff760-a533-4ebf-b873-0d8576729536",
   "metadata": {},
   "source": [
    "## Install Python libraries."
   ]
  },
  {
   "cell_type": "markdown",
   "id": "67b55ccf-2acb-433c-90d4-ae9bb4bc5522",
   "metadata": {},
   "source": [
    "- pymongo: manage the MongoDB database\n",
    "- openai: call the OpenAI APIs."
   ]
  },
  {
   "cell_type": "code",
   "execution_count": 47,
   "id": "1e016f09-660f-47ec-841a-7915eb108df2",
   "metadata": {
    "tags": []
   },
   "outputs": [
    {
     "name": "stdout",
     "output_type": "stream",
     "text": [
      "Requirement already satisfied: jupyter-ai~=1.0 in /home/ec2-user/anaconda3/envs/python3/lib/python3.10/site-packages (1.15.0)\n",
      "Requirement already satisfied: aiosqlite>=0.18 in /home/ec2-user/anaconda3/envs/python3/lib/python3.10/site-packages (from jupyter-ai~=1.0) (0.20.0)\n",
      "Requirement already satisfied: dask[distributed] in /home/ec2-user/anaconda3/envs/python3/lib/python3.10/site-packages (from jupyter-ai~=1.0) (2024.2.1)\n",
      "Requirement already satisfied: deepmerge>=1.0 in /home/ec2-user/anaconda3/envs/python3/lib/python3.10/site-packages (from jupyter-ai~=1.0) (2.0)\n",
      "Requirement already satisfied: faiss-cpu in /home/ec2-user/anaconda3/envs/python3/lib/python3.10/site-packages (from jupyter-ai~=1.0) (1.9.0.post1)\n",
      "Requirement already satisfied: importlib-metadata>=5.2.0 in /home/ec2-user/anaconda3/envs/python3/lib/python3.10/site-packages (from jupyter-ai~=1.0) (6.11.0)\n",
      "Requirement already satisfied: jupyter-ai-magics in /home/ec2-user/anaconda3/envs/python3/lib/python3.10/site-packages (from jupyter-ai~=1.0) (2.28.2)\n",
      "Requirement already satisfied: jupyter-server<3,>=1.6 in /home/ec2-user/anaconda3/envs/python3/lib/python3.10/site-packages (from jupyter-ai~=1.0) (2.14.2)\n",
      "Requirement already satisfied: jupyterlab<4,>=3.5 in /home/ec2-user/anaconda3/envs/python3/lib/python3.10/site-packages (from jupyter-ai~=1.0) (3.6.8)\n",
      "Requirement already satisfied: traitlets>=5.0 in /home/ec2-user/anaconda3/envs/python3/lib/python3.10/site-packages (from jupyter-ai~=1.0) (5.14.3)\n",
      "Requirement already satisfied: typing-extensions>=4.5.0 in /home/ec2-user/anaconda3/envs/python3/lib/python3.10/site-packages (from jupyter-ai~=1.0) (4.12.2)\n",
      "Requirement already satisfied: zipp>=0.5 in /home/ec2-user/anaconda3/envs/python3/lib/python3.10/site-packages (from importlib-metadata>=5.2.0->jupyter-ai~=1.0) (3.20.2)\n",
      "Requirement already satisfied: anyio>=3.1.0 in /home/ec2-user/anaconda3/envs/python3/lib/python3.10/site-packages (from jupyter-server<3,>=1.6->jupyter-ai~=1.0) (4.6.2.post1)\n",
      "Requirement already satisfied: argon2-cffi>=21.1 in /home/ec2-user/anaconda3/envs/python3/lib/python3.10/site-packages (from jupyter-server<3,>=1.6->jupyter-ai~=1.0) (23.1.0)\n",
      "Requirement already satisfied: jinja2>=3.0.3 in /home/ec2-user/anaconda3/envs/python3/lib/python3.10/site-packages (from jupyter-server<3,>=1.6->jupyter-ai~=1.0) (3.1.4)\n",
      "Requirement already satisfied: jupyter-client>=7.4.4 in /home/ec2-user/anaconda3/envs/python3/lib/python3.10/site-packages (from jupyter-server<3,>=1.6->jupyter-ai~=1.0) (7.4.9)\n",
      "Requirement already satisfied: jupyter-core!=5.0.*,>=4.12 in /home/ec2-user/anaconda3/envs/python3/lib/python3.10/site-packages (from jupyter-server<3,>=1.6->jupyter-ai~=1.0) (5.7.2)\n",
      "Requirement already satisfied: jupyter-events>=0.9.0 in /home/ec2-user/anaconda3/envs/python3/lib/python3.10/site-packages (from jupyter-server<3,>=1.6->jupyter-ai~=1.0) (0.10.0)\n",
      "Requirement already satisfied: jupyter-server-terminals>=0.4.4 in /home/ec2-user/anaconda3/envs/python3/lib/python3.10/site-packages (from jupyter-server<3,>=1.6->jupyter-ai~=1.0) (0.5.3)\n",
      "Requirement already satisfied: nbconvert>=6.4.4 in /home/ec2-user/anaconda3/envs/python3/lib/python3.10/site-packages (from jupyter-server<3,>=1.6->jupyter-ai~=1.0) (7.16.4)\n",
      "Requirement already satisfied: nbformat>=5.3.0 in /home/ec2-user/anaconda3/envs/python3/lib/python3.10/site-packages (from jupyter-server<3,>=1.6->jupyter-ai~=1.0) (5.10.4)\n",
      "Requirement already satisfied: overrides>=5.0 in /home/ec2-user/anaconda3/envs/python3/lib/python3.10/site-packages (from jupyter-server<3,>=1.6->jupyter-ai~=1.0) (7.7.0)\n",
      "Requirement already satisfied: packaging>=22.0 in /home/ec2-user/anaconda3/envs/python3/lib/python3.10/site-packages (from jupyter-server<3,>=1.6->jupyter-ai~=1.0) (24.2)\n",
      "Requirement already satisfied: prometheus-client>=0.9 in /home/ec2-user/anaconda3/envs/python3/lib/python3.10/site-packages (from jupyter-server<3,>=1.6->jupyter-ai~=1.0) (0.21.0)\n",
      "Requirement already satisfied: pyzmq>=24 in /home/ec2-user/anaconda3/envs/python3/lib/python3.10/site-packages (from jupyter-server<3,>=1.6->jupyter-ai~=1.0) (26.2.0)\n",
      "Requirement already satisfied: send2trash>=1.8.2 in /home/ec2-user/anaconda3/envs/python3/lib/python3.10/site-packages (from jupyter-server<3,>=1.6->jupyter-ai~=1.0) (1.8.3)\n",
      "Requirement already satisfied: terminado>=0.8.3 in /home/ec2-user/anaconda3/envs/python3/lib/python3.10/site-packages (from jupyter-server<3,>=1.6->jupyter-ai~=1.0) (0.18.1)\n",
      "Requirement already satisfied: tornado>=6.2.0 in /home/ec2-user/anaconda3/envs/python3/lib/python3.10/site-packages (from jupyter-server<3,>=1.6->jupyter-ai~=1.0) (6.4.1)\n",
      "Requirement already satisfied: websocket-client>=1.7 in /home/ec2-user/anaconda3/envs/python3/lib/python3.10/site-packages (from jupyter-server<3,>=1.6->jupyter-ai~=1.0) (1.8.0)\n",
      "Requirement already satisfied: ipython in /home/ec2-user/anaconda3/envs/python3/lib/python3.10/site-packages (from jupyterlab<4,>=3.5->jupyter-ai~=1.0) (8.28.0)\n",
      "Requirement already satisfied: jupyterlab-server~=2.19 in /home/ec2-user/anaconda3/envs/python3/lib/python3.10/site-packages (from jupyterlab<4,>=3.5->jupyter-ai~=1.0) (2.27.3)\n",
      "Requirement already satisfied: jupyter-ydoc~=0.2.4 in /home/ec2-user/anaconda3/envs/python3/lib/python3.10/site-packages (from jupyterlab<4,>=3.5->jupyter-ai~=1.0) (0.2.5)\n",
      "Requirement already satisfied: jupyter-server-ydoc~=0.8.0 in /home/ec2-user/anaconda3/envs/python3/lib/python3.10/site-packages (from jupyterlab<4,>=3.5->jupyter-ai~=1.0) (0.8.0)\n",
      "Requirement already satisfied: nbclassic in /home/ec2-user/anaconda3/envs/python3/lib/python3.10/site-packages (from jupyterlab<4,>=3.5->jupyter-ai~=1.0) (1.1.0)\n",
      "Requirement already satisfied: notebook<7 in /home/ec2-user/anaconda3/envs/python3/lib/python3.10/site-packages (from jupyterlab<4,>=3.5->jupyter-ai~=1.0) (6.5.7)\n",
      "Requirement already satisfied: tomli in /home/ec2-user/anaconda3/envs/python3/lib/python3.10/site-packages (from jupyterlab<4,>=3.5->jupyter-ai~=1.0) (2.0.2)\n",
      "Requirement already satisfied: click>=8.1 in /home/ec2-user/anaconda3/envs/python3/lib/python3.10/site-packages (from dask[distributed]->jupyter-ai~=1.0) (8.1.7)\n",
      "Requirement already satisfied: cloudpickle>=1.5.0 in /home/ec2-user/anaconda3/envs/python3/lib/python3.10/site-packages (from dask[distributed]->jupyter-ai~=1.0) (2.2.1)\n",
      "Requirement already satisfied: fsspec>=2021.09.0 in /home/ec2-user/anaconda3/envs/python3/lib/python3.10/site-packages (from dask[distributed]->jupyter-ai~=1.0) (2024.10.0)\n",
      "Requirement already satisfied: partd>=1.2.0 in /home/ec2-user/anaconda3/envs/python3/lib/python3.10/site-packages (from dask[distributed]->jupyter-ai~=1.0) (1.4.2)\n",
      "Requirement already satisfied: pyyaml>=5.3.1 in /home/ec2-user/anaconda3/envs/python3/lib/python3.10/site-packages (from dask[distributed]->jupyter-ai~=1.0) (6.0.2)\n",
      "Requirement already satisfied: toolz>=0.10.0 in /home/ec2-user/anaconda3/envs/python3/lib/python3.10/site-packages (from dask[distributed]->jupyter-ai~=1.0) (1.0.0)\n",
      "Requirement already satisfied: distributed==2024.2.1 in /home/ec2-user/anaconda3/envs/python3/lib/python3.10/site-packages (from dask[distributed]->jupyter-ai~=1.0) (2024.2.1)\n",
      "Requirement already satisfied: locket>=1.0.0 in /home/ec2-user/anaconda3/envs/python3/lib/python3.10/site-packages (from distributed==2024.2.1->dask[distributed]->jupyter-ai~=1.0) (1.0.0)\n",
      "Requirement already satisfied: msgpack>=1.0.0 in /home/ec2-user/anaconda3/envs/python3/lib/python3.10/site-packages (from distributed==2024.2.1->dask[distributed]->jupyter-ai~=1.0) (1.1.0)\n",
      "Requirement already satisfied: psutil>=5.7.2 in /home/ec2-user/anaconda3/envs/python3/lib/python3.10/site-packages (from distributed==2024.2.1->dask[distributed]->jupyter-ai~=1.0) (6.0.0)\n",
      "Requirement already satisfied: sortedcontainers>=2.0.5 in /home/ec2-user/anaconda3/envs/python3/lib/python3.10/site-packages (from distributed==2024.2.1->dask[distributed]->jupyter-ai~=1.0) (2.4.0)\n",
      "Requirement already satisfied: tblib>=1.6.0 in /home/ec2-user/anaconda3/envs/python3/lib/python3.10/site-packages (from distributed==2024.2.1->dask[distributed]->jupyter-ai~=1.0) (3.0.0)\n",
      "Requirement already satisfied: urllib3>=1.24.3 in /home/ec2-user/anaconda3/envs/python3/lib/python3.10/site-packages (from distributed==2024.2.1->dask[distributed]->jupyter-ai~=1.0) (2.2.3)\n",
      "Requirement already satisfied: zict>=3.0.0 in /home/ec2-user/anaconda3/envs/python3/lib/python3.10/site-packages (from distributed==2024.2.1->dask[distributed]->jupyter-ai~=1.0) (3.0.0)\n",
      "Requirement already satisfied: numpy<3.0,>=1.25.0 in /home/ec2-user/anaconda3/envs/python3/lib/python3.10/site-packages (from faiss-cpu->jupyter-ai~=1.0) (1.26.4)\n",
      "Requirement already satisfied: jsonpath-ng<2,>=1.5.3 in /home/ec2-user/anaconda3/envs/python3/lib/python3.10/site-packages (from jupyter-ai-magics->jupyter-ai~=1.0) (1.7.0)\n",
      "Requirement already satisfied: langchain-community<0.3.0,>=0.2.19 in /home/ec2-user/anaconda3/envs/python3/lib/python3.10/site-packages (from jupyter-ai-magics->jupyter-ai~=1.0) (0.2.19)\n",
      "Requirement already satisfied: langchain<0.3.0,>=0.2.17 in /home/ec2-user/anaconda3/envs/python3/lib/python3.10/site-packages (from jupyter-ai-magics->jupyter-ai~=1.0) (0.2.17)\n",
      "Requirement already satisfied: idna>=2.8 in /home/ec2-user/anaconda3/envs/python3/lib/python3.10/site-packages (from anyio>=3.1.0->jupyter-server<3,>=1.6->jupyter-ai~=1.0) (3.10)\n",
      "Requirement already satisfied: sniffio>=1.1 in /home/ec2-user/anaconda3/envs/python3/lib/python3.10/site-packages (from anyio>=3.1.0->jupyter-server<3,>=1.6->jupyter-ai~=1.0) (1.3.1)\n",
      "Requirement already satisfied: exceptiongroup>=1.0.2 in /home/ec2-user/anaconda3/envs/python3/lib/python3.10/site-packages (from anyio>=3.1.0->jupyter-server<3,>=1.6->jupyter-ai~=1.0) (1.2.2)\n",
      "Requirement already satisfied: argon2-cffi-bindings in /home/ec2-user/anaconda3/envs/python3/lib/python3.10/site-packages (from argon2-cffi>=21.1->jupyter-server<3,>=1.6->jupyter-ai~=1.0) (21.2.0)\n",
      "Requirement already satisfied: MarkupSafe>=2.0 in /home/ec2-user/anaconda3/envs/python3/lib/python3.10/site-packages (from jinja2>=3.0.3->jupyter-server<3,>=1.6->jupyter-ai~=1.0) (3.0.2)\n",
      "Requirement already satisfied: ply in /home/ec2-user/anaconda3/envs/python3/lib/python3.10/site-packages (from jsonpath-ng<2,>=1.5.3->jupyter-ai-magics->jupyter-ai~=1.0) (3.11)\n",
      "Requirement already satisfied: entrypoints in /home/ec2-user/anaconda3/envs/python3/lib/python3.10/site-packages (from jupyter-client>=7.4.4->jupyter-server<3,>=1.6->jupyter-ai~=1.0) (0.4)\n",
      "Requirement already satisfied: nest-asyncio>=1.5.4 in /home/ec2-user/anaconda3/envs/python3/lib/python3.10/site-packages (from jupyter-client>=7.4.4->jupyter-server<3,>=1.6->jupyter-ai~=1.0) (1.6.0)\n",
      "Requirement already satisfied: python-dateutil>=2.8.2 in /home/ec2-user/anaconda3/envs/python3/lib/python3.10/site-packages (from jupyter-client>=7.4.4->jupyter-server<3,>=1.6->jupyter-ai~=1.0) (2.9.0)\n",
      "Requirement already satisfied: platformdirs>=2.5 in /home/ec2-user/anaconda3/envs/python3/lib/python3.10/site-packages (from jupyter-core!=5.0.*,>=4.12->jupyter-server<3,>=1.6->jupyter-ai~=1.0) (4.3.6)\n",
      "Requirement already satisfied: jsonschema>=4.18.0 in /home/ec2-user/anaconda3/envs/python3/lib/python3.10/site-packages (from jsonschema[format-nongpl]>=4.18.0->jupyter-events>=0.9.0->jupyter-server<3,>=1.6->jupyter-ai~=1.0) (4.23.0)\n",
      "Requirement already satisfied: python-json-logger>=2.0.4 in /home/ec2-user/anaconda3/envs/python3/lib/python3.10/site-packages (from jupyter-events>=0.9.0->jupyter-server<3,>=1.6->jupyter-ai~=1.0) (2.0.7)\n",
      "Requirement already satisfied: referencing in /home/ec2-user/anaconda3/envs/python3/lib/python3.10/site-packages (from jupyter-events>=0.9.0->jupyter-server<3,>=1.6->jupyter-ai~=1.0) (0.35.1)\n",
      "Requirement already satisfied: rfc3339-validator in /home/ec2-user/anaconda3/envs/python3/lib/python3.10/site-packages (from jupyter-events>=0.9.0->jupyter-server<3,>=1.6->jupyter-ai~=1.0) (0.1.4)\n",
      "Requirement already satisfied: rfc3986-validator>=0.1.1 in /home/ec2-user/anaconda3/envs/python3/lib/python3.10/site-packages (from jupyter-events>=0.9.0->jupyter-server<3,>=1.6->jupyter-ai~=1.0) (0.1.1)\n",
      "Requirement already satisfied: jupyter-server-fileid<1,>=0.6.0 in /home/ec2-user/anaconda3/envs/python3/lib/python3.10/site-packages (from jupyter-server-ydoc~=0.8.0->jupyterlab<4,>=3.5->jupyter-ai~=1.0) (0.9.3)\n",
      "Requirement already satisfied: ypy-websocket<0.9.0,>=0.8.2 in /home/ec2-user/anaconda3/envs/python3/lib/python3.10/site-packages (from jupyter-server-ydoc~=0.8.0->jupyterlab<4,>=3.5->jupyter-ai~=1.0) (0.8.4)\n",
      "Requirement already satisfied: y-py<0.7.0,>=0.6.0 in /home/ec2-user/anaconda3/envs/python3/lib/python3.10/site-packages (from jupyter-ydoc~=0.2.4->jupyterlab<4,>=3.5->jupyter-ai~=1.0) (0.6.2)\n",
      "Requirement already satisfied: babel>=2.10 in /home/ec2-user/anaconda3/envs/python3/lib/python3.10/site-packages (from jupyterlab-server~=2.19->jupyterlab<4,>=3.5->jupyter-ai~=1.0) (2.14.0)\n",
      "Requirement already satisfied: json5>=0.9.0 in /home/ec2-user/anaconda3/envs/python3/lib/python3.10/site-packages (from jupyterlab-server~=2.19->jupyterlab<4,>=3.5->jupyter-ai~=1.0) (0.9.25)\n",
      "Requirement already satisfied: requests>=2.31 in /home/ec2-user/anaconda3/envs/python3/lib/python3.10/site-packages (from jupyterlab-server~=2.19->jupyterlab<4,>=3.5->jupyter-ai~=1.0) (2.32.3)\n",
      "Requirement already satisfied: SQLAlchemy<3,>=1.4 in /home/ec2-user/anaconda3/envs/python3/lib/python3.10/site-packages (from langchain<0.3.0,>=0.2.17->jupyter-ai-magics->jupyter-ai~=1.0) (2.0.36)\n",
      "Requirement already satisfied: aiohttp<4.0.0,>=3.8.3 in /home/ec2-user/anaconda3/envs/python3/lib/python3.10/site-packages (from langchain<0.3.0,>=0.2.17->jupyter-ai-magics->jupyter-ai~=1.0) (3.10.10)\n",
      "Requirement already satisfied: async-timeout<5.0.0,>=4.0.0 in /home/ec2-user/anaconda3/envs/python3/lib/python3.10/site-packages (from langchain<0.3.0,>=0.2.17->jupyter-ai-magics->jupyter-ai~=1.0) (4.0.3)\n",
      "Requirement already satisfied: langchain-core<0.3.0,>=0.2.43 in /home/ec2-user/anaconda3/envs/python3/lib/python3.10/site-packages (from langchain<0.3.0,>=0.2.17->jupyter-ai-magics->jupyter-ai~=1.0) (0.2.43)\n",
      "Requirement already satisfied: langchain-text-splitters<0.3.0,>=0.2.0 in /home/ec2-user/anaconda3/envs/python3/lib/python3.10/site-packages (from langchain<0.3.0,>=0.2.17->jupyter-ai-magics->jupyter-ai~=1.0) (0.2.4)\n",
      "Requirement already satisfied: langsmith<0.2.0,>=0.1.17 in /home/ec2-user/anaconda3/envs/python3/lib/python3.10/site-packages (from langchain<0.3.0,>=0.2.17->jupyter-ai-magics->jupyter-ai~=1.0) (0.1.145)\n",
      "Requirement already satisfied: pydantic<3,>=1 in /home/ec2-user/anaconda3/envs/python3/lib/python3.10/site-packages (from langchain<0.3.0,>=0.2.17->jupyter-ai-magics->jupyter-ai~=1.0) (2.9.2)\n",
      "Requirement already satisfied: tenacity!=8.4.0,<9.0.0,>=8.1.0 in /home/ec2-user/anaconda3/envs/python3/lib/python3.10/site-packages (from langchain<0.3.0,>=0.2.17->jupyter-ai-magics->jupyter-ai~=1.0) (8.5.0)\n",
      "Requirement already satisfied: dataclasses-json<0.7,>=0.5.7 in /home/ec2-user/anaconda3/envs/python3/lib/python3.10/site-packages (from langchain-community<0.3.0,>=0.2.19->jupyter-ai-magics->jupyter-ai~=1.0) (0.6.7)\n",
      "Requirement already satisfied: beautifulsoup4 in /home/ec2-user/anaconda3/envs/python3/lib/python3.10/site-packages (from nbconvert>=6.4.4->jupyter-server<3,>=1.6->jupyter-ai~=1.0) (4.12.3)\n",
      "Requirement already satisfied: bleach!=5.0.0 in /home/ec2-user/anaconda3/envs/python3/lib/python3.10/site-packages (from nbconvert>=6.4.4->jupyter-server<3,>=1.6->jupyter-ai~=1.0) (6.1.0)\n",
      "Requirement already satisfied: defusedxml in /home/ec2-user/anaconda3/envs/python3/lib/python3.10/site-packages (from nbconvert>=6.4.4->jupyter-server<3,>=1.6->jupyter-ai~=1.0) (0.7.1)\n",
      "Requirement already satisfied: jupyterlab-pygments in /home/ec2-user/anaconda3/envs/python3/lib/python3.10/site-packages (from nbconvert>=6.4.4->jupyter-server<3,>=1.6->jupyter-ai~=1.0) (0.3.0)\n",
      "Requirement already satisfied: mistune<4,>=2.0.3 in /home/ec2-user/anaconda3/envs/python3/lib/python3.10/site-packages (from nbconvert>=6.4.4->jupyter-server<3,>=1.6->jupyter-ai~=1.0) (3.0.2)\n",
      "Requirement already satisfied: nbclient>=0.5.0 in /home/ec2-user/anaconda3/envs/python3/lib/python3.10/site-packages (from nbconvert>=6.4.4->jupyter-server<3,>=1.6->jupyter-ai~=1.0) (0.10.0)\n",
      "Requirement already satisfied: pandocfilters>=1.4.1 in /home/ec2-user/anaconda3/envs/python3/lib/python3.10/site-packages (from nbconvert>=6.4.4->jupyter-server<3,>=1.6->jupyter-ai~=1.0) (1.5.0)\n",
      "Requirement already satisfied: pygments>=2.4.1 in /home/ec2-user/anaconda3/envs/python3/lib/python3.10/site-packages (from nbconvert>=6.4.4->jupyter-server<3,>=1.6->jupyter-ai~=1.0) (2.18.0)\n",
      "Requirement already satisfied: tinycss2 in /home/ec2-user/anaconda3/envs/python3/lib/python3.10/site-packages (from nbconvert>=6.4.4->jupyter-server<3,>=1.6->jupyter-ai~=1.0) (1.3.0)\n",
      "Requirement already satisfied: fastjsonschema>=2.15 in /home/ec2-user/anaconda3/envs/python3/lib/python3.10/site-packages (from nbformat>=5.3.0->jupyter-server<3,>=1.6->jupyter-ai~=1.0) (2.20.0)\n",
      "Requirement already satisfied: ipython-genutils in /home/ec2-user/anaconda3/envs/python3/lib/python3.10/site-packages (from notebook<7->jupyterlab<4,>=3.5->jupyter-ai~=1.0) (0.2.0)\n",
      "Requirement already satisfied: ipykernel in /home/ec2-user/anaconda3/envs/python3/lib/python3.10/site-packages (from notebook<7->jupyterlab<4,>=3.5->jupyter-ai~=1.0) (6.29.5)\n",
      "Requirement already satisfied: notebook-shim>=0.2.3 in /home/ec2-user/anaconda3/envs/python3/lib/python3.10/site-packages (from nbclassic->jupyterlab<4,>=3.5->jupyter-ai~=1.0) (0.2.4)\n",
      "Requirement already satisfied: ptyprocess in /home/ec2-user/anaconda3/envs/python3/lib/python3.10/site-packages (from terminado>=0.8.3->jupyter-server<3,>=1.6->jupyter-ai~=1.0) (0.7.0)\n",
      "Requirement already satisfied: decorator in /home/ec2-user/anaconda3/envs/python3/lib/python3.10/site-packages (from ipython->jupyterlab<4,>=3.5->jupyter-ai~=1.0) (5.1.1)\n",
      "Requirement already satisfied: jedi>=0.16 in /home/ec2-user/anaconda3/envs/python3/lib/python3.10/site-packages (from ipython->jupyterlab<4,>=3.5->jupyter-ai~=1.0) (0.19.1)\n",
      "Requirement already satisfied: matplotlib-inline in /home/ec2-user/anaconda3/envs/python3/lib/python3.10/site-packages (from ipython->jupyterlab<4,>=3.5->jupyter-ai~=1.0) (0.1.7)\n",
      "Requirement already satisfied: prompt-toolkit<3.1.0,>=3.0.41 in /home/ec2-user/anaconda3/envs/python3/lib/python3.10/site-packages (from ipython->jupyterlab<4,>=3.5->jupyter-ai~=1.0) (3.0.48)\n",
      "Requirement already satisfied: stack-data in /home/ec2-user/anaconda3/envs/python3/lib/python3.10/site-packages (from ipython->jupyterlab<4,>=3.5->jupyter-ai~=1.0) (0.6.2)\n",
      "Requirement already satisfied: pexpect>4.3 in /home/ec2-user/anaconda3/envs/python3/lib/python3.10/site-packages (from ipython->jupyterlab<4,>=3.5->jupyter-ai~=1.0) (4.9.0)\n",
      "Requirement already satisfied: aiohappyeyeballs>=2.3.0 in /home/ec2-user/anaconda3/envs/python3/lib/python3.10/site-packages (from aiohttp<4.0.0,>=3.8.3->langchain<0.3.0,>=0.2.17->jupyter-ai-magics->jupyter-ai~=1.0) (2.4.3)\n",
      "Requirement already satisfied: aiosignal>=1.1.2 in /home/ec2-user/anaconda3/envs/python3/lib/python3.10/site-packages (from aiohttp<4.0.0,>=3.8.3->langchain<0.3.0,>=0.2.17->jupyter-ai-magics->jupyter-ai~=1.0) (1.3.1)\n",
      "Requirement already satisfied: attrs>=17.3.0 in /home/ec2-user/anaconda3/envs/python3/lib/python3.10/site-packages (from aiohttp<4.0.0,>=3.8.3->langchain<0.3.0,>=0.2.17->jupyter-ai-magics->jupyter-ai~=1.0) (23.2.0)\n",
      "Requirement already satisfied: frozenlist>=1.1.1 in /home/ec2-user/anaconda3/envs/python3/lib/python3.10/site-packages (from aiohttp<4.0.0,>=3.8.3->langchain<0.3.0,>=0.2.17->jupyter-ai-magics->jupyter-ai~=1.0) (1.4.1)\n",
      "Requirement already satisfied: multidict<7.0,>=4.5 in /home/ec2-user/anaconda3/envs/python3/lib/python3.10/site-packages (from aiohttp<4.0.0,>=3.8.3->langchain<0.3.0,>=0.2.17->jupyter-ai-magics->jupyter-ai~=1.0) (6.1.0)\n",
      "Requirement already satisfied: yarl<2.0,>=1.12.0 in /home/ec2-user/anaconda3/envs/python3/lib/python3.10/site-packages (from aiohttp<4.0.0,>=3.8.3->langchain<0.3.0,>=0.2.17->jupyter-ai-magics->jupyter-ai~=1.0) (1.15.5)\n",
      "Requirement already satisfied: six>=1.9.0 in /home/ec2-user/anaconda3/envs/python3/lib/python3.10/site-packages (from bleach!=5.0.0->nbconvert>=6.4.4->jupyter-server<3,>=1.6->jupyter-ai~=1.0) (1.16.0)\n",
      "Requirement already satisfied: webencodings in /home/ec2-user/anaconda3/envs/python3/lib/python3.10/site-packages (from bleach!=5.0.0->nbconvert>=6.4.4->jupyter-server<3,>=1.6->jupyter-ai~=1.0) (0.5.1)\n",
      "Requirement already satisfied: marshmallow<4.0.0,>=3.18.0 in /home/ec2-user/anaconda3/envs/python3/lib/python3.10/site-packages (from dataclasses-json<0.7,>=0.5.7->langchain-community<0.3.0,>=0.2.19->jupyter-ai-magics->jupyter-ai~=1.0) (3.23.1)\n",
      "Requirement already satisfied: typing-inspect<1,>=0.4.0 in /home/ec2-user/anaconda3/envs/python3/lib/python3.10/site-packages (from dataclasses-json<0.7,>=0.5.7->langchain-community<0.3.0,>=0.2.19->jupyter-ai-magics->jupyter-ai~=1.0) (0.9.0)\n",
      "Requirement already satisfied: parso<0.9.0,>=0.8.3 in /home/ec2-user/anaconda3/envs/python3/lib/python3.10/site-packages (from jedi>=0.16->ipython->jupyterlab<4,>=3.5->jupyter-ai~=1.0) (0.8.4)\n",
      "Requirement already satisfied: jsonschema-specifications>=2023.03.6 in /home/ec2-user/anaconda3/envs/python3/lib/python3.10/site-packages (from jsonschema>=4.18.0->jsonschema[format-nongpl]>=4.18.0->jupyter-events>=0.9.0->jupyter-server<3,>=1.6->jupyter-ai~=1.0) (2024.10.1)\n",
      "Requirement already satisfied: rpds-py>=0.7.1 in /home/ec2-user/anaconda3/envs/python3/lib/python3.10/site-packages (from jsonschema>=4.18.0->jsonschema[format-nongpl]>=4.18.0->jupyter-events>=0.9.0->jupyter-server<3,>=1.6->jupyter-ai~=1.0) (0.20.0)\n",
      "Requirement already satisfied: fqdn in /home/ec2-user/anaconda3/envs/python3/lib/python3.10/site-packages (from jsonschema[format-nongpl]>=4.18.0->jupyter-events>=0.9.0->jupyter-server<3,>=1.6->jupyter-ai~=1.0) (1.5.1)\n",
      "Requirement already satisfied: isoduration in /home/ec2-user/anaconda3/envs/python3/lib/python3.10/site-packages (from jsonschema[format-nongpl]>=4.18.0->jupyter-events>=0.9.0->jupyter-server<3,>=1.6->jupyter-ai~=1.0) (20.11.0)\n",
      "Requirement already satisfied: jsonpointer>1.13 in /home/ec2-user/anaconda3/envs/python3/lib/python3.10/site-packages (from jsonschema[format-nongpl]>=4.18.0->jupyter-events>=0.9.0->jupyter-server<3,>=1.6->jupyter-ai~=1.0) (3.0.0)\n",
      "Requirement already satisfied: uri-template in /home/ec2-user/anaconda3/envs/python3/lib/python3.10/site-packages (from jsonschema[format-nongpl]>=4.18.0->jupyter-events>=0.9.0->jupyter-server<3,>=1.6->jupyter-ai~=1.0) (1.3.0)\n",
      "Requirement already satisfied: webcolors>=24.6.0 in /home/ec2-user/anaconda3/envs/python3/lib/python3.10/site-packages (from jsonschema[format-nongpl]>=4.18.0->jupyter-events>=0.9.0->jupyter-server<3,>=1.6->jupyter-ai~=1.0) (24.8.0)\n",
      "Requirement already satisfied: jsonpatch<2.0,>=1.33 in /home/ec2-user/anaconda3/envs/python3/lib/python3.10/site-packages (from langchain-core<0.3.0,>=0.2.43->langchain<0.3.0,>=0.2.17->jupyter-ai-magics->jupyter-ai~=1.0) (1.33)\n",
      "Requirement already satisfied: httpx<1,>=0.23.0 in /home/ec2-user/anaconda3/envs/python3/lib/python3.10/site-packages (from langsmith<0.2.0,>=0.1.17->langchain<0.3.0,>=0.2.17->jupyter-ai-magics->jupyter-ai~=1.0) (0.27.2)\n",
      "Requirement already satisfied: orjson<4.0.0,>=3.9.14 in /home/ec2-user/anaconda3/envs/python3/lib/python3.10/site-packages (from langsmith<0.2.0,>=0.1.17->langchain<0.3.0,>=0.2.17->jupyter-ai-magics->jupyter-ai~=1.0) (3.10.12)\n",
      "Requirement already satisfied: requests-toolbelt<2.0.0,>=1.0.0 in /home/ec2-user/anaconda3/envs/python3/lib/python3.10/site-packages (from langsmith<0.2.0,>=0.1.17->langchain<0.3.0,>=0.2.17->jupyter-ai-magics->jupyter-ai~=1.0) (1.0.0)\n",
      "Requirement already satisfied: wcwidth in /home/ec2-user/anaconda3/envs/python3/lib/python3.10/site-packages (from prompt-toolkit<3.1.0,>=3.0.41->ipython->jupyterlab<4,>=3.5->jupyter-ai~=1.0) (0.2.13)\n",
      "Requirement already satisfied: annotated-types>=0.6.0 in /home/ec2-user/anaconda3/envs/python3/lib/python3.10/site-packages (from pydantic<3,>=1->langchain<0.3.0,>=0.2.17->jupyter-ai-magics->jupyter-ai~=1.0) (0.7.0)\n",
      "Requirement already satisfied: pydantic-core==2.23.4 in /home/ec2-user/anaconda3/envs/python3/lib/python3.10/site-packages (from pydantic<3,>=1->langchain<0.3.0,>=0.2.17->jupyter-ai-magics->jupyter-ai~=1.0) (2.23.4)\n",
      "Requirement already satisfied: charset-normalizer<4,>=2 in /home/ec2-user/anaconda3/envs/python3/lib/python3.10/site-packages (from requests>=2.31->jupyterlab-server~=2.19->jupyterlab<4,>=3.5->jupyter-ai~=1.0) (3.4.0)\n",
      "Requirement already satisfied: certifi>=2017.4.17 in /home/ec2-user/anaconda3/envs/python3/lib/python3.10/site-packages (from requests>=2.31->jupyterlab-server~=2.19->jupyterlab<4,>=3.5->jupyter-ai~=1.0) (2024.8.30)\n",
      "Requirement already satisfied: greenlet!=0.4.17 in /home/ec2-user/anaconda3/envs/python3/lib/python3.10/site-packages (from SQLAlchemy<3,>=1.4->langchain<0.3.0,>=0.2.17->jupyter-ai-magics->jupyter-ai~=1.0) (3.1.1)\n",
      "Requirement already satisfied: aiofiles<23,>=22.1.0 in /home/ec2-user/anaconda3/envs/python3/lib/python3.10/site-packages (from ypy-websocket<0.9.0,>=0.8.2->jupyter-server-ydoc~=0.8.0->jupyterlab<4,>=3.5->jupyter-ai~=1.0) (22.1.0)\n",
      "Requirement already satisfied: cffi>=1.0.1 in /home/ec2-user/anaconda3/envs/python3/lib/python3.10/site-packages (from argon2-cffi-bindings->argon2-cffi>=21.1->jupyter-server<3,>=1.6->jupyter-ai~=1.0) (1.17.1)\n",
      "Requirement already satisfied: soupsieve>1.2 in /home/ec2-user/anaconda3/envs/python3/lib/python3.10/site-packages (from beautifulsoup4->nbconvert>=6.4.4->jupyter-server<3,>=1.6->jupyter-ai~=1.0) (2.5)\n",
      "Requirement already satisfied: comm>=0.1.1 in /home/ec2-user/anaconda3/envs/python3/lib/python3.10/site-packages (from ipykernel->notebook<7->jupyterlab<4,>=3.5->jupyter-ai~=1.0) (0.2.2)\n",
      "Requirement already satisfied: debugpy>=1.6.5 in /home/ec2-user/anaconda3/envs/python3/lib/python3.10/site-packages (from ipykernel->notebook<7->jupyterlab<4,>=3.5->jupyter-ai~=1.0) (1.8.7)\n",
      "Requirement already satisfied: executing>=1.2.0 in /home/ec2-user/anaconda3/envs/python3/lib/python3.10/site-packages (from stack-data->ipython->jupyterlab<4,>=3.5->jupyter-ai~=1.0) (2.1.0)\n",
      "Requirement already satisfied: asttokens>=2.1.0 in /home/ec2-user/anaconda3/envs/python3/lib/python3.10/site-packages (from stack-data->ipython->jupyterlab<4,>=3.5->jupyter-ai~=1.0) (2.4.1)\n",
      "Requirement already satisfied: pure-eval in /home/ec2-user/anaconda3/envs/python3/lib/python3.10/site-packages (from stack-data->ipython->jupyterlab<4,>=3.5->jupyter-ai~=1.0) (0.2.3)\n",
      "Requirement already satisfied: pycparser in /home/ec2-user/anaconda3/envs/python3/lib/python3.10/site-packages (from cffi>=1.0.1->argon2-cffi-bindings->argon2-cffi>=21.1->jupyter-server<3,>=1.6->jupyter-ai~=1.0) (2.22)\n",
      "Requirement already satisfied: httpcore==1.* in /home/ec2-user/anaconda3/envs/python3/lib/python3.10/site-packages (from httpx<1,>=0.23.0->langsmith<0.2.0,>=0.1.17->langchain<0.3.0,>=0.2.17->jupyter-ai-magics->jupyter-ai~=1.0) (1.0.6)\n",
      "Requirement already satisfied: h11<0.15,>=0.13 in /home/ec2-user/anaconda3/envs/python3/lib/python3.10/site-packages (from httpcore==1.*->httpx<1,>=0.23.0->langsmith<0.2.0,>=0.1.17->langchain<0.3.0,>=0.2.17->jupyter-ai-magics->jupyter-ai~=1.0) (0.14.0)\n",
      "Requirement already satisfied: mypy-extensions>=0.3.0 in /home/ec2-user/anaconda3/envs/python3/lib/python3.10/site-packages (from typing-inspect<1,>=0.4.0->dataclasses-json<0.7,>=0.5.7->langchain-community<0.3.0,>=0.2.19->jupyter-ai-magics->jupyter-ai~=1.0) (1.0.0)\n",
      "Requirement already satisfied: propcache>=0.2.0 in /home/ec2-user/anaconda3/envs/python3/lib/python3.10/site-packages (from yarl<2.0,>=1.12.0->aiohttp<4.0.0,>=3.8.3->langchain<0.3.0,>=0.2.17->jupyter-ai-magics->jupyter-ai~=1.0) (0.2.0)\n",
      "Requirement already satisfied: arrow>=0.15.0 in /home/ec2-user/anaconda3/envs/python3/lib/python3.10/site-packages (from isoduration->jsonschema[format-nongpl]>=4.18.0->jupyter-events>=0.9.0->jupyter-server<3,>=1.6->jupyter-ai~=1.0) (1.3.0)\n",
      "Requirement already satisfied: types-python-dateutil>=2.8.10 in /home/ec2-user/anaconda3/envs/python3/lib/python3.10/site-packages (from arrow>=0.15.0->isoduration->jsonschema[format-nongpl]>=4.18.0->jupyter-events>=0.9.0->jupyter-server<3,>=1.6->jupyter-ai~=1.0) (2.9.0.20241003)\n",
      "Note: you may need to restart the kernel to use updated packages.\n"
     ]
    }
   ],
   "source": [
    "pip install jupyter-ai~=1.0"
   ]
  },
  {
   "cell_type": "code",
   "execution_count": 48,
   "id": "a2620a1b-5624-4f8a-a7b6-d2dd5c83a82a",
   "metadata": {
    "tags": []
   },
   "outputs": [
    {
     "name": "stdout",
     "output_type": "stream",
     "text": [
      "Requirement already satisfied: jupyter-ai[all] in /home/ec2-user/anaconda3/envs/python3/lib/python3.10/site-packages (1.15.0)\n",
      "Requirement already satisfied: aiosqlite>=0.18 in /home/ec2-user/anaconda3/envs/python3/lib/python3.10/site-packages (from jupyter-ai[all]) (0.20.0)\n",
      "Requirement already satisfied: dask[distributed] in /home/ec2-user/anaconda3/envs/python3/lib/python3.10/site-packages (from jupyter-ai[all]) (2024.2.1)\n",
      "Requirement already satisfied: deepmerge>=1.0 in /home/ec2-user/anaconda3/envs/python3/lib/python3.10/site-packages (from jupyter-ai[all]) (2.0)\n",
      "Requirement already satisfied: faiss-cpu in /home/ec2-user/anaconda3/envs/python3/lib/python3.10/site-packages (from jupyter-ai[all]) (1.9.0.post1)\n",
      "Requirement already satisfied: importlib-metadata>=5.2.0 in /home/ec2-user/anaconda3/envs/python3/lib/python3.10/site-packages (from jupyter-ai[all]) (6.11.0)\n",
      "Requirement already satisfied: jupyter-ai-magics in /home/ec2-user/anaconda3/envs/python3/lib/python3.10/site-packages (from jupyter-ai[all]) (2.28.2)\n",
      "Requirement already satisfied: jupyter-server<3,>=1.6 in /home/ec2-user/anaconda3/envs/python3/lib/python3.10/site-packages (from jupyter-ai[all]) (2.14.2)\n",
      "Requirement already satisfied: jupyterlab<4,>=3.5 in /home/ec2-user/anaconda3/envs/python3/lib/python3.10/site-packages (from jupyter-ai[all]) (3.6.8)\n",
      "Requirement already satisfied: traitlets>=5.0 in /home/ec2-user/anaconda3/envs/python3/lib/python3.10/site-packages (from jupyter-ai[all]) (5.14.3)\n",
      "Requirement already satisfied: typing-extensions>=4.5.0 in /home/ec2-user/anaconda3/envs/python3/lib/python3.10/site-packages (from jupyter-ai[all]) (4.12.2)\n",
      "Requirement already satisfied: pypdf in /home/ec2-user/anaconda3/envs/python3/lib/python3.10/site-packages (from jupyter-ai[all]) (5.1.0)\n",
      "Requirement already satisfied: zipp>=0.5 in /home/ec2-user/anaconda3/envs/python3/lib/python3.10/site-packages (from importlib-metadata>=5.2.0->jupyter-ai[all]) (3.20.2)\n",
      "Requirement already satisfied: anyio>=3.1.0 in /home/ec2-user/anaconda3/envs/python3/lib/python3.10/site-packages (from jupyter-server<3,>=1.6->jupyter-ai[all]) (4.6.2.post1)\n",
      "Requirement already satisfied: argon2-cffi>=21.1 in /home/ec2-user/anaconda3/envs/python3/lib/python3.10/site-packages (from jupyter-server<3,>=1.6->jupyter-ai[all]) (23.1.0)\n",
      "Requirement already satisfied: jinja2>=3.0.3 in /home/ec2-user/anaconda3/envs/python3/lib/python3.10/site-packages (from jupyter-server<3,>=1.6->jupyter-ai[all]) (3.1.4)\n",
      "Requirement already satisfied: jupyter-client>=7.4.4 in /home/ec2-user/anaconda3/envs/python3/lib/python3.10/site-packages (from jupyter-server<3,>=1.6->jupyter-ai[all]) (7.4.9)\n",
      "Requirement already satisfied: jupyter-core!=5.0.*,>=4.12 in /home/ec2-user/anaconda3/envs/python3/lib/python3.10/site-packages (from jupyter-server<3,>=1.6->jupyter-ai[all]) (5.7.2)\n",
      "Requirement already satisfied: jupyter-events>=0.9.0 in /home/ec2-user/anaconda3/envs/python3/lib/python3.10/site-packages (from jupyter-server<3,>=1.6->jupyter-ai[all]) (0.10.0)\n",
      "Requirement already satisfied: jupyter-server-terminals>=0.4.4 in /home/ec2-user/anaconda3/envs/python3/lib/python3.10/site-packages (from jupyter-server<3,>=1.6->jupyter-ai[all]) (0.5.3)\n",
      "Requirement already satisfied: nbconvert>=6.4.4 in /home/ec2-user/anaconda3/envs/python3/lib/python3.10/site-packages (from jupyter-server<3,>=1.6->jupyter-ai[all]) (7.16.4)\n",
      "Requirement already satisfied: nbformat>=5.3.0 in /home/ec2-user/anaconda3/envs/python3/lib/python3.10/site-packages (from jupyter-server<3,>=1.6->jupyter-ai[all]) (5.10.4)\n",
      "Requirement already satisfied: overrides>=5.0 in /home/ec2-user/anaconda3/envs/python3/lib/python3.10/site-packages (from jupyter-server<3,>=1.6->jupyter-ai[all]) (7.7.0)\n",
      "Requirement already satisfied: packaging>=22.0 in /home/ec2-user/anaconda3/envs/python3/lib/python3.10/site-packages (from jupyter-server<3,>=1.6->jupyter-ai[all]) (24.2)\n",
      "Requirement already satisfied: prometheus-client>=0.9 in /home/ec2-user/anaconda3/envs/python3/lib/python3.10/site-packages (from jupyter-server<3,>=1.6->jupyter-ai[all]) (0.21.0)\n",
      "Requirement already satisfied: pyzmq>=24 in /home/ec2-user/anaconda3/envs/python3/lib/python3.10/site-packages (from jupyter-server<3,>=1.6->jupyter-ai[all]) (26.2.0)\n",
      "Requirement already satisfied: send2trash>=1.8.2 in /home/ec2-user/anaconda3/envs/python3/lib/python3.10/site-packages (from jupyter-server<3,>=1.6->jupyter-ai[all]) (1.8.3)\n",
      "Requirement already satisfied: terminado>=0.8.3 in /home/ec2-user/anaconda3/envs/python3/lib/python3.10/site-packages (from jupyter-server<3,>=1.6->jupyter-ai[all]) (0.18.1)\n",
      "Requirement already satisfied: tornado>=6.2.0 in /home/ec2-user/anaconda3/envs/python3/lib/python3.10/site-packages (from jupyter-server<3,>=1.6->jupyter-ai[all]) (6.4.1)\n",
      "Requirement already satisfied: websocket-client>=1.7 in /home/ec2-user/anaconda3/envs/python3/lib/python3.10/site-packages (from jupyter-server<3,>=1.6->jupyter-ai[all]) (1.8.0)\n",
      "Requirement already satisfied: ipython in /home/ec2-user/anaconda3/envs/python3/lib/python3.10/site-packages (from jupyterlab<4,>=3.5->jupyter-ai[all]) (8.28.0)\n",
      "Requirement already satisfied: jupyterlab-server~=2.19 in /home/ec2-user/anaconda3/envs/python3/lib/python3.10/site-packages (from jupyterlab<4,>=3.5->jupyter-ai[all]) (2.27.3)\n",
      "Requirement already satisfied: jupyter-ydoc~=0.2.4 in /home/ec2-user/anaconda3/envs/python3/lib/python3.10/site-packages (from jupyterlab<4,>=3.5->jupyter-ai[all]) (0.2.5)\n",
      "Requirement already satisfied: jupyter-server-ydoc~=0.8.0 in /home/ec2-user/anaconda3/envs/python3/lib/python3.10/site-packages (from jupyterlab<4,>=3.5->jupyter-ai[all]) (0.8.0)\n",
      "Requirement already satisfied: nbclassic in /home/ec2-user/anaconda3/envs/python3/lib/python3.10/site-packages (from jupyterlab<4,>=3.5->jupyter-ai[all]) (1.1.0)\n",
      "Requirement already satisfied: notebook<7 in /home/ec2-user/anaconda3/envs/python3/lib/python3.10/site-packages (from jupyterlab<4,>=3.5->jupyter-ai[all]) (6.5.7)\n",
      "Requirement already satisfied: tomli in /home/ec2-user/anaconda3/envs/python3/lib/python3.10/site-packages (from jupyterlab<4,>=3.5->jupyter-ai[all]) (2.0.2)\n",
      "Requirement already satisfied: click>=8.1 in /home/ec2-user/anaconda3/envs/python3/lib/python3.10/site-packages (from dask[distributed]->jupyter-ai[all]) (8.1.7)\n",
      "Requirement already satisfied: cloudpickle>=1.5.0 in /home/ec2-user/anaconda3/envs/python3/lib/python3.10/site-packages (from dask[distributed]->jupyter-ai[all]) (2.2.1)\n",
      "Requirement already satisfied: fsspec>=2021.09.0 in /home/ec2-user/anaconda3/envs/python3/lib/python3.10/site-packages (from dask[distributed]->jupyter-ai[all]) (2024.10.0)\n",
      "Requirement already satisfied: partd>=1.2.0 in /home/ec2-user/anaconda3/envs/python3/lib/python3.10/site-packages (from dask[distributed]->jupyter-ai[all]) (1.4.2)\n",
      "Requirement already satisfied: pyyaml>=5.3.1 in /home/ec2-user/anaconda3/envs/python3/lib/python3.10/site-packages (from dask[distributed]->jupyter-ai[all]) (6.0.2)\n",
      "Requirement already satisfied: toolz>=0.10.0 in /home/ec2-user/anaconda3/envs/python3/lib/python3.10/site-packages (from dask[distributed]->jupyter-ai[all]) (1.0.0)\n",
      "Requirement already satisfied: distributed==2024.2.1 in /home/ec2-user/anaconda3/envs/python3/lib/python3.10/site-packages (from dask[distributed]->jupyter-ai[all]) (2024.2.1)\n",
      "Requirement already satisfied: locket>=1.0.0 in /home/ec2-user/anaconda3/envs/python3/lib/python3.10/site-packages (from distributed==2024.2.1->dask[distributed]->jupyter-ai[all]) (1.0.0)\n",
      "Requirement already satisfied: msgpack>=1.0.0 in /home/ec2-user/anaconda3/envs/python3/lib/python3.10/site-packages (from distributed==2024.2.1->dask[distributed]->jupyter-ai[all]) (1.1.0)\n",
      "Requirement already satisfied: psutil>=5.7.2 in /home/ec2-user/anaconda3/envs/python3/lib/python3.10/site-packages (from distributed==2024.2.1->dask[distributed]->jupyter-ai[all]) (6.0.0)\n",
      "Requirement already satisfied: sortedcontainers>=2.0.5 in /home/ec2-user/anaconda3/envs/python3/lib/python3.10/site-packages (from distributed==2024.2.1->dask[distributed]->jupyter-ai[all]) (2.4.0)\n",
      "Requirement already satisfied: tblib>=1.6.0 in /home/ec2-user/anaconda3/envs/python3/lib/python3.10/site-packages (from distributed==2024.2.1->dask[distributed]->jupyter-ai[all]) (3.0.0)\n",
      "Requirement already satisfied: urllib3>=1.24.3 in /home/ec2-user/anaconda3/envs/python3/lib/python3.10/site-packages (from distributed==2024.2.1->dask[distributed]->jupyter-ai[all]) (2.2.3)\n",
      "Requirement already satisfied: zict>=3.0.0 in /home/ec2-user/anaconda3/envs/python3/lib/python3.10/site-packages (from distributed==2024.2.1->dask[distributed]->jupyter-ai[all]) (3.0.0)\n",
      "Requirement already satisfied: numpy<3.0,>=1.25.0 in /home/ec2-user/anaconda3/envs/python3/lib/python3.10/site-packages (from faiss-cpu->jupyter-ai[all]) (1.26.4)\n",
      "Requirement already satisfied: jsonpath-ng<2,>=1.5.3 in /home/ec2-user/anaconda3/envs/python3/lib/python3.10/site-packages (from jupyter-ai-magics->jupyter-ai[all]) (1.7.0)\n",
      "Requirement already satisfied: langchain-community<0.3.0,>=0.2.19 in /home/ec2-user/anaconda3/envs/python3/lib/python3.10/site-packages (from jupyter-ai-magics->jupyter-ai[all]) (0.2.19)\n",
      "Requirement already satisfied: langchain<0.3.0,>=0.2.17 in /home/ec2-user/anaconda3/envs/python3/lib/python3.10/site-packages (from jupyter-ai-magics->jupyter-ai[all]) (0.2.17)\n",
      "Requirement already satisfied: ai21 in /home/ec2-user/anaconda3/envs/python3/lib/python3.10/site-packages (from jupyter-ai-magics[all]; extra == \"all\"->jupyter-ai[all]) (3.0.0)\n",
      "Requirement already satisfied: boto3 in /home/ec2-user/anaconda3/envs/python3/lib/python3.10/site-packages (from jupyter-ai-magics[all]; extra == \"all\"->jupyter-ai[all]) (1.34.162)\n",
      "Requirement already satisfied: gpt4all in /home/ec2-user/anaconda3/envs/python3/lib/python3.10/site-packages (from jupyter-ai-magics[all]; extra == \"all\"->jupyter-ai[all]) (2.8.2)\n",
      "Requirement already satisfied: huggingface-hub in /home/ec2-user/anaconda3/envs/python3/lib/python3.10/site-packages (from jupyter-ai-magics[all]; extra == \"all\"->jupyter-ai[all]) (0.26.2)\n",
      "Requirement already satisfied: ipywidgets in /home/ec2-user/anaconda3/envs/python3/lib/python3.10/site-packages (from jupyter-ai-magics[all]; extra == \"all\"->jupyter-ai[all]) (8.1.5)\n",
      "Requirement already satisfied: langchain-anthropic in /home/ec2-user/anaconda3/envs/python3/lib/python3.10/site-packages (from jupyter-ai-magics[all]; extra == \"all\"->jupyter-ai[all]) (0.1.23)\n",
      "Requirement already satisfied: langchain-aws in /home/ec2-user/anaconda3/envs/python3/lib/python3.10/site-packages (from jupyter-ai-magics[all]; extra == \"all\"->jupyter-ai[all]) (0.1.18)\n",
      "Requirement already satisfied: langchain-cohere in /home/ec2-user/anaconda3/envs/python3/lib/python3.10/site-packages (from jupyter-ai-magics[all]; extra == \"all\"->jupyter-ai[all]) (0.2.4)\n",
      "Requirement already satisfied: langchain-google-genai in /home/ec2-user/anaconda3/envs/python3/lib/python3.10/site-packages (from jupyter-ai-magics[all]; extra == \"all\"->jupyter-ai[all]) (1.0.10)\n",
      "Requirement already satisfied: langchain-mistralai in /home/ec2-user/anaconda3/envs/python3/lib/python3.10/site-packages (from jupyter-ai-magics[all]; extra == \"all\"->jupyter-ai[all]) (0.1.13)\n",
      "Requirement already satisfied: langchain-nvidia-ai-endpoints in /home/ec2-user/anaconda3/envs/python3/lib/python3.10/site-packages (from jupyter-ai-magics[all]; extra == \"all\"->jupyter-ai[all]) (0.2.2)\n",
      "Requirement already satisfied: langchain-ollama in /home/ec2-user/anaconda3/envs/python3/lib/python3.10/site-packages (from jupyter-ai-magics[all]; extra == \"all\"->jupyter-ai[all]) (0.1.3)\n",
      "Requirement already satisfied: langchain-openai in /home/ec2-user/anaconda3/envs/python3/lib/python3.10/site-packages (from jupyter-ai-magics[all]; extra == \"all\"->jupyter-ai[all]) (0.1.25)\n",
      "Requirement already satisfied: pillow in /home/ec2-user/anaconda3/envs/python3/lib/python3.10/site-packages (from jupyter-ai-magics[all]; extra == \"all\"->jupyter-ai[all]) (10.4.0)\n",
      "Requirement already satisfied: qianfan in /home/ec2-user/anaconda3/envs/python3/lib/python3.10/site-packages (from jupyter-ai-magics[all]; extra == \"all\"->jupyter-ai[all]) (0.4.12.1)\n",
      "Requirement already satisfied: together in /home/ec2-user/anaconda3/envs/python3/lib/python3.10/site-packages (from jupyter-ai-magics[all]; extra == \"all\"->jupyter-ai[all]) (1.3.5)\n",
      "Requirement already satisfied: idna>=2.8 in /home/ec2-user/anaconda3/envs/python3/lib/python3.10/site-packages (from anyio>=3.1.0->jupyter-server<3,>=1.6->jupyter-ai[all]) (3.10)\n",
      "Requirement already satisfied: sniffio>=1.1 in /home/ec2-user/anaconda3/envs/python3/lib/python3.10/site-packages (from anyio>=3.1.0->jupyter-server<3,>=1.6->jupyter-ai[all]) (1.3.1)\n",
      "Requirement already satisfied: exceptiongroup>=1.0.2 in /home/ec2-user/anaconda3/envs/python3/lib/python3.10/site-packages (from anyio>=3.1.0->jupyter-server<3,>=1.6->jupyter-ai[all]) (1.2.2)\n",
      "Requirement already satisfied: argon2-cffi-bindings in /home/ec2-user/anaconda3/envs/python3/lib/python3.10/site-packages (from argon2-cffi>=21.1->jupyter-server<3,>=1.6->jupyter-ai[all]) (21.2.0)\n",
      "Requirement already satisfied: MarkupSafe>=2.0 in /home/ec2-user/anaconda3/envs/python3/lib/python3.10/site-packages (from jinja2>=3.0.3->jupyter-server<3,>=1.6->jupyter-ai[all]) (3.0.2)\n",
      "Requirement already satisfied: ply in /home/ec2-user/anaconda3/envs/python3/lib/python3.10/site-packages (from jsonpath-ng<2,>=1.5.3->jupyter-ai-magics->jupyter-ai[all]) (3.11)\n",
      "Requirement already satisfied: entrypoints in /home/ec2-user/anaconda3/envs/python3/lib/python3.10/site-packages (from jupyter-client>=7.4.4->jupyter-server<3,>=1.6->jupyter-ai[all]) (0.4)\n",
      "Requirement already satisfied: nest-asyncio>=1.5.4 in /home/ec2-user/anaconda3/envs/python3/lib/python3.10/site-packages (from jupyter-client>=7.4.4->jupyter-server<3,>=1.6->jupyter-ai[all]) (1.6.0)\n",
      "Requirement already satisfied: python-dateutil>=2.8.2 in /home/ec2-user/anaconda3/envs/python3/lib/python3.10/site-packages (from jupyter-client>=7.4.4->jupyter-server<3,>=1.6->jupyter-ai[all]) (2.9.0)\n",
      "Requirement already satisfied: platformdirs>=2.5 in /home/ec2-user/anaconda3/envs/python3/lib/python3.10/site-packages (from jupyter-core!=5.0.*,>=4.12->jupyter-server<3,>=1.6->jupyter-ai[all]) (4.3.6)\n",
      "Requirement already satisfied: jsonschema>=4.18.0 in /home/ec2-user/anaconda3/envs/python3/lib/python3.10/site-packages (from jsonschema[format-nongpl]>=4.18.0->jupyter-events>=0.9.0->jupyter-server<3,>=1.6->jupyter-ai[all]) (4.23.0)\n",
      "Requirement already satisfied: python-json-logger>=2.0.4 in /home/ec2-user/anaconda3/envs/python3/lib/python3.10/site-packages (from jupyter-events>=0.9.0->jupyter-server<3,>=1.6->jupyter-ai[all]) (2.0.7)\n",
      "Requirement already satisfied: referencing in /home/ec2-user/anaconda3/envs/python3/lib/python3.10/site-packages (from jupyter-events>=0.9.0->jupyter-server<3,>=1.6->jupyter-ai[all]) (0.35.1)\n",
      "Requirement already satisfied: rfc3339-validator in /home/ec2-user/anaconda3/envs/python3/lib/python3.10/site-packages (from jupyter-events>=0.9.0->jupyter-server<3,>=1.6->jupyter-ai[all]) (0.1.4)\n",
      "Requirement already satisfied: rfc3986-validator>=0.1.1 in /home/ec2-user/anaconda3/envs/python3/lib/python3.10/site-packages (from jupyter-events>=0.9.0->jupyter-server<3,>=1.6->jupyter-ai[all]) (0.1.1)\n",
      "Requirement already satisfied: jupyter-server-fileid<1,>=0.6.0 in /home/ec2-user/anaconda3/envs/python3/lib/python3.10/site-packages (from jupyter-server-ydoc~=0.8.0->jupyterlab<4,>=3.5->jupyter-ai[all]) (0.9.3)\n",
      "Requirement already satisfied: ypy-websocket<0.9.0,>=0.8.2 in /home/ec2-user/anaconda3/envs/python3/lib/python3.10/site-packages (from jupyter-server-ydoc~=0.8.0->jupyterlab<4,>=3.5->jupyter-ai[all]) (0.8.4)\n",
      "Requirement already satisfied: y-py<0.7.0,>=0.6.0 in /home/ec2-user/anaconda3/envs/python3/lib/python3.10/site-packages (from jupyter-ydoc~=0.2.4->jupyterlab<4,>=3.5->jupyter-ai[all]) (0.6.2)\n",
      "Requirement already satisfied: babel>=2.10 in /home/ec2-user/anaconda3/envs/python3/lib/python3.10/site-packages (from jupyterlab-server~=2.19->jupyterlab<4,>=3.5->jupyter-ai[all]) (2.14.0)\n",
      "Requirement already satisfied: json5>=0.9.0 in /home/ec2-user/anaconda3/envs/python3/lib/python3.10/site-packages (from jupyterlab-server~=2.19->jupyterlab<4,>=3.5->jupyter-ai[all]) (0.9.25)\n",
      "Requirement already satisfied: requests>=2.31 in /home/ec2-user/anaconda3/envs/python3/lib/python3.10/site-packages (from jupyterlab-server~=2.19->jupyterlab<4,>=3.5->jupyter-ai[all]) (2.32.3)\n",
      "Requirement already satisfied: SQLAlchemy<3,>=1.4 in /home/ec2-user/anaconda3/envs/python3/lib/python3.10/site-packages (from langchain<0.3.0,>=0.2.17->jupyter-ai-magics->jupyter-ai[all]) (2.0.36)\n",
      "Requirement already satisfied: aiohttp<4.0.0,>=3.8.3 in /home/ec2-user/anaconda3/envs/python3/lib/python3.10/site-packages (from langchain<0.3.0,>=0.2.17->jupyter-ai-magics->jupyter-ai[all]) (3.10.10)\n",
      "Requirement already satisfied: async-timeout<5.0.0,>=4.0.0 in /home/ec2-user/anaconda3/envs/python3/lib/python3.10/site-packages (from langchain<0.3.0,>=0.2.17->jupyter-ai-magics->jupyter-ai[all]) (4.0.3)\n",
      "Requirement already satisfied: langchain-core<0.3.0,>=0.2.43 in /home/ec2-user/anaconda3/envs/python3/lib/python3.10/site-packages (from langchain<0.3.0,>=0.2.17->jupyter-ai-magics->jupyter-ai[all]) (0.2.43)\n",
      "Requirement already satisfied: langchain-text-splitters<0.3.0,>=0.2.0 in /home/ec2-user/anaconda3/envs/python3/lib/python3.10/site-packages (from langchain<0.3.0,>=0.2.17->jupyter-ai-magics->jupyter-ai[all]) (0.2.4)\n",
      "Requirement already satisfied: langsmith<0.2.0,>=0.1.17 in /home/ec2-user/anaconda3/envs/python3/lib/python3.10/site-packages (from langchain<0.3.0,>=0.2.17->jupyter-ai-magics->jupyter-ai[all]) (0.1.145)\n",
      "Requirement already satisfied: pydantic<3,>=1 in /home/ec2-user/anaconda3/envs/python3/lib/python3.10/site-packages (from langchain<0.3.0,>=0.2.17->jupyter-ai-magics->jupyter-ai[all]) (2.9.2)\n",
      "Requirement already satisfied: tenacity!=8.4.0,<9.0.0,>=8.1.0 in /home/ec2-user/anaconda3/envs/python3/lib/python3.10/site-packages (from langchain<0.3.0,>=0.2.17->jupyter-ai-magics->jupyter-ai[all]) (8.5.0)\n",
      "Requirement already satisfied: dataclasses-json<0.7,>=0.5.7 in /home/ec2-user/anaconda3/envs/python3/lib/python3.10/site-packages (from langchain-community<0.3.0,>=0.2.19->jupyter-ai-magics->jupyter-ai[all]) (0.6.7)\n",
      "Requirement already satisfied: beautifulsoup4 in /home/ec2-user/anaconda3/envs/python3/lib/python3.10/site-packages (from nbconvert>=6.4.4->jupyter-server<3,>=1.6->jupyter-ai[all]) (4.12.3)\n",
      "Requirement already satisfied: bleach!=5.0.0 in /home/ec2-user/anaconda3/envs/python3/lib/python3.10/site-packages (from nbconvert>=6.4.4->jupyter-server<3,>=1.6->jupyter-ai[all]) (6.1.0)\n",
      "Requirement already satisfied: defusedxml in /home/ec2-user/anaconda3/envs/python3/lib/python3.10/site-packages (from nbconvert>=6.4.4->jupyter-server<3,>=1.6->jupyter-ai[all]) (0.7.1)\n",
      "Requirement already satisfied: jupyterlab-pygments in /home/ec2-user/anaconda3/envs/python3/lib/python3.10/site-packages (from nbconvert>=6.4.4->jupyter-server<3,>=1.6->jupyter-ai[all]) (0.3.0)\n",
      "Requirement already satisfied: mistune<4,>=2.0.3 in /home/ec2-user/anaconda3/envs/python3/lib/python3.10/site-packages (from nbconvert>=6.4.4->jupyter-server<3,>=1.6->jupyter-ai[all]) (3.0.2)\n",
      "Requirement already satisfied: nbclient>=0.5.0 in /home/ec2-user/anaconda3/envs/python3/lib/python3.10/site-packages (from nbconvert>=6.4.4->jupyter-server<3,>=1.6->jupyter-ai[all]) (0.10.0)\n",
      "Requirement already satisfied: pandocfilters>=1.4.1 in /home/ec2-user/anaconda3/envs/python3/lib/python3.10/site-packages (from nbconvert>=6.4.4->jupyter-server<3,>=1.6->jupyter-ai[all]) (1.5.0)\n",
      "Requirement already satisfied: pygments>=2.4.1 in /home/ec2-user/anaconda3/envs/python3/lib/python3.10/site-packages (from nbconvert>=6.4.4->jupyter-server<3,>=1.6->jupyter-ai[all]) (2.18.0)\n",
      "Requirement already satisfied: tinycss2 in /home/ec2-user/anaconda3/envs/python3/lib/python3.10/site-packages (from nbconvert>=6.4.4->jupyter-server<3,>=1.6->jupyter-ai[all]) (1.3.0)\n",
      "Requirement already satisfied: fastjsonschema>=2.15 in /home/ec2-user/anaconda3/envs/python3/lib/python3.10/site-packages (from nbformat>=5.3.0->jupyter-server<3,>=1.6->jupyter-ai[all]) (2.20.0)\n",
      "Requirement already satisfied: ipython-genutils in /home/ec2-user/anaconda3/envs/python3/lib/python3.10/site-packages (from notebook<7->jupyterlab<4,>=3.5->jupyter-ai[all]) (0.2.0)\n",
      "Requirement already satisfied: ipykernel in /home/ec2-user/anaconda3/envs/python3/lib/python3.10/site-packages (from notebook<7->jupyterlab<4,>=3.5->jupyter-ai[all]) (6.29.5)\n",
      "Requirement already satisfied: notebook-shim>=0.2.3 in /home/ec2-user/anaconda3/envs/python3/lib/python3.10/site-packages (from nbclassic->jupyterlab<4,>=3.5->jupyter-ai[all]) (0.2.4)\n",
      "Requirement already satisfied: ptyprocess in /home/ec2-user/anaconda3/envs/python3/lib/python3.10/site-packages (from terminado>=0.8.3->jupyter-server<3,>=1.6->jupyter-ai[all]) (0.7.0)\n",
      "Requirement already satisfied: ai21-tokenizer<1.0.0,>=0.12.0 in /home/ec2-user/anaconda3/envs/python3/lib/python3.10/site-packages (from ai21->jupyter-ai-magics[all]; extra == \"all\"->jupyter-ai[all]) (0.12.0)\n",
      "Requirement already satisfied: httpx<0.28.0,>=0.27.0 in /home/ec2-user/anaconda3/envs/python3/lib/python3.10/site-packages (from ai21->jupyter-ai-magics[all]; extra == \"all\"->jupyter-ai[all]) (0.27.2)\n",
      "Requirement already satisfied: botocore<1.35.0,>=1.34.162 in /home/ec2-user/anaconda3/envs/python3/lib/python3.10/site-packages (from boto3->jupyter-ai-magics[all]; extra == \"all\"->jupyter-ai[all]) (1.34.162)\n",
      "Requirement already satisfied: jmespath<2.0.0,>=0.7.1 in /home/ec2-user/anaconda3/envs/python3/lib/python3.10/site-packages (from boto3->jupyter-ai-magics[all]; extra == \"all\"->jupyter-ai[all]) (1.0.1)\n",
      "Requirement already satisfied: s3transfer<0.11.0,>=0.10.0 in /home/ec2-user/anaconda3/envs/python3/lib/python3.10/site-packages (from boto3->jupyter-ai-magics[all]; extra == \"all\"->jupyter-ai[all]) (0.10.3)\n",
      "Requirement already satisfied: tqdm in /home/ec2-user/anaconda3/envs/python3/lib/python3.10/site-packages (from gpt4all->jupyter-ai-magics[all]; extra == \"all\"->jupyter-ai[all]) (4.66.5)\n",
      "Requirement already satisfied: filelock in /home/ec2-user/anaconda3/envs/python3/lib/python3.10/site-packages (from huggingface-hub->jupyter-ai-magics[all]; extra == \"all\"->jupyter-ai[all]) (3.16.1)\n",
      "Requirement already satisfied: decorator in /home/ec2-user/anaconda3/envs/python3/lib/python3.10/site-packages (from ipython->jupyterlab<4,>=3.5->jupyter-ai[all]) (5.1.1)\n",
      "Requirement already satisfied: jedi>=0.16 in /home/ec2-user/anaconda3/envs/python3/lib/python3.10/site-packages (from ipython->jupyterlab<4,>=3.5->jupyter-ai[all]) (0.19.1)\n",
      "Requirement already satisfied: matplotlib-inline in /home/ec2-user/anaconda3/envs/python3/lib/python3.10/site-packages (from ipython->jupyterlab<4,>=3.5->jupyter-ai[all]) (0.1.7)\n",
      "Requirement already satisfied: prompt-toolkit<3.1.0,>=3.0.41 in /home/ec2-user/anaconda3/envs/python3/lib/python3.10/site-packages (from ipython->jupyterlab<4,>=3.5->jupyter-ai[all]) (3.0.48)\n",
      "Requirement already satisfied: stack-data in /home/ec2-user/anaconda3/envs/python3/lib/python3.10/site-packages (from ipython->jupyterlab<4,>=3.5->jupyter-ai[all]) (0.6.2)\n",
      "Requirement already satisfied: pexpect>4.3 in /home/ec2-user/anaconda3/envs/python3/lib/python3.10/site-packages (from ipython->jupyterlab<4,>=3.5->jupyter-ai[all]) (4.9.0)\n",
      "Requirement already satisfied: comm>=0.1.3 in /home/ec2-user/anaconda3/envs/python3/lib/python3.10/site-packages (from ipywidgets->jupyter-ai-magics[all]; extra == \"all\"->jupyter-ai[all]) (0.2.2)\n",
      "Requirement already satisfied: widgetsnbextension~=4.0.12 in /home/ec2-user/anaconda3/envs/python3/lib/python3.10/site-packages (from ipywidgets->jupyter-ai-magics[all]; extra == \"all\"->jupyter-ai[all]) (4.0.13)\n",
      "Requirement already satisfied: jupyterlab-widgets~=3.0.12 in /home/ec2-user/anaconda3/envs/python3/lib/python3.10/site-packages (from ipywidgets->jupyter-ai-magics[all]; extra == \"all\"->jupyter-ai[all]) (3.0.13)\n",
      "Requirement already satisfied: anthropic<1,>=0.30.0 in /home/ec2-user/anaconda3/envs/python3/lib/python3.10/site-packages (from langchain-anthropic->jupyter-ai-magics[all]; extra == \"all\"->jupyter-ai[all]) (0.39.0)\n",
      "Requirement already satisfied: cohere<6.0,>=5.5.6 in /home/ec2-user/anaconda3/envs/python3/lib/python3.10/site-packages (from langchain-cohere->jupyter-ai-magics[all]; extra == \"all\"->jupyter-ai[all]) (5.11.4)\n",
      "Requirement already satisfied: langchain-experimental>=0.0.6 in /home/ec2-user/anaconda3/envs/python3/lib/python3.10/site-packages (from langchain-cohere->jupyter-ai-magics[all]; extra == \"all\"->jupyter-ai[all]) (0.0.65)\n",
      "Requirement already satisfied: pandas>=1.4.3 in /home/ec2-user/anaconda3/envs/python3/lib/python3.10/site-packages (from langchain-cohere->jupyter-ai-magics[all]; extra == \"all\"->jupyter-ai[all]) (1.5.3)\n",
      "Requirement already satisfied: tabulate<0.10.0,>=0.9.0 in /home/ec2-user/anaconda3/envs/python3/lib/python3.10/site-packages (from langchain-cohere->jupyter-ai-magics[all]; extra == \"all\"->jupyter-ai[all]) (0.9.0)\n",
      "Requirement already satisfied: google-generativeai<0.8.0,>=0.7.0 in /home/ec2-user/anaconda3/envs/python3/lib/python3.10/site-packages (from langchain-google-genai->jupyter-ai-magics[all]; extra == \"all\"->jupyter-ai[all]) (0.7.2)\n",
      "Requirement already satisfied: httpx-sse<1,>=0.3.1 in /home/ec2-user/anaconda3/envs/python3/lib/python3.10/site-packages (from langchain-mistralai->jupyter-ai-magics[all]; extra == \"all\"->jupyter-ai[all]) (0.4.0)\n",
      "Requirement already satisfied: tokenizers<1,>=0.15.1 in /home/ec2-user/anaconda3/envs/python3/lib/python3.10/site-packages (from langchain-mistralai->jupyter-ai-magics[all]; extra == \"all\"->jupyter-ai[all]) (0.20.3)\n",
      "Requirement already satisfied: ollama<1,>=0.3.0 in /home/ec2-user/anaconda3/envs/python3/lib/python3.10/site-packages (from langchain-ollama->jupyter-ai-magics[all]; extra == \"all\"->jupyter-ai[all]) (0.4.1)\n",
      "Requirement already satisfied: openai<2.0.0,>=1.40.0 in /home/ec2-user/anaconda3/envs/python3/lib/python3.10/site-packages (from langchain-openai->jupyter-ai-magics[all]; extra == \"all\"->jupyter-ai[all]) (1.55.0)\n",
      "Requirement already satisfied: tiktoken<1,>=0.7 in /home/ec2-user/anaconda3/envs/python3/lib/python3.10/site-packages (from langchain-openai->jupyter-ai-magics[all]; extra == \"all\"->jupyter-ai[all]) (0.8.0)\n",
      "Requirement already satisfied: aiolimiter>=1.1.0 in /home/ec2-user/anaconda3/envs/python3/lib/python3.10/site-packages (from qianfan->jupyter-ai-magics[all]; extra == \"all\"->jupyter-ai[all]) (1.1.0)\n",
      "Requirement already satisfied: bce-python-sdk>=0.8.79 in /home/ec2-user/anaconda3/envs/python3/lib/python3.10/site-packages (from qianfan->jupyter-ai-magics[all]; extra == \"all\"->jupyter-ai[all]) (0.9.23)\n",
      "Requirement already satisfied: cachetools>=5.0.0 in /home/ec2-user/anaconda3/envs/python3/lib/python3.10/site-packages (from qianfan->jupyter-ai-magics[all]; extra == \"all\"->jupyter-ai[all]) (5.5.0)\n",
      "Requirement already satisfied: diskcache>=5.6.3 in /home/ec2-user/anaconda3/envs/python3/lib/python3.10/site-packages (from qianfan->jupyter-ai-magics[all]; extra == \"all\"->jupyter-ai[all]) (5.6.3)\n",
      "Requirement already satisfied: multiprocess>=0.70.12 in /home/ec2-user/anaconda3/envs/python3/lib/python3.10/site-packages (from qianfan->jupyter-ai-magics[all]; extra == \"all\"->jupyter-ai[all]) (0.70.17)\n",
      "Requirement already satisfied: python-dotenv>=1.0 in /home/ec2-user/anaconda3/envs/python3/lib/python3.10/site-packages (from qianfan->jupyter-ai-magics[all]; extra == \"all\"->jupyter-ai[all]) (1.0.1)\n",
      "Requirement already satisfied: rich>=13.0.0 in /home/ec2-user/anaconda3/envs/python3/lib/python3.10/site-packages (from qianfan->jupyter-ai-magics[all]; extra == \"all\"->jupyter-ai[all]) (13.9.3)\n",
      "Requirement already satisfied: typer>=0.9.0 in /home/ec2-user/anaconda3/envs/python3/lib/python3.10/site-packages (from qianfan->jupyter-ai-magics[all]; extra == \"all\"->jupyter-ai[all]) (0.13.1)\n",
      "Requirement already satisfied: eval-type-backport<0.3.0,>=0.1.3 in /home/ec2-user/anaconda3/envs/python3/lib/python3.10/site-packages (from together->jupyter-ai-magics[all]; extra == \"all\"->jupyter-ai[all]) (0.2.0)\n",
      "Requirement already satisfied: pyarrow>=10.0.1 in /home/ec2-user/anaconda3/envs/python3/lib/python3.10/site-packages (from together->jupyter-ai-magics[all]; extra == \"all\"->jupyter-ai[all]) (17.0.0)\n",
      "Requirement already satisfied: sentencepiece<1.0.0,>=0.2.0 in /home/ec2-user/anaconda3/envs/python3/lib/python3.10/site-packages (from ai21-tokenizer<1.0.0,>=0.12.0->ai21->jupyter-ai-magics[all]; extra == \"all\"->jupyter-ai[all]) (0.2.0)\n",
      "Requirement already satisfied: aiohappyeyeballs>=2.3.0 in /home/ec2-user/anaconda3/envs/python3/lib/python3.10/site-packages (from aiohttp<4.0.0,>=3.8.3->langchain<0.3.0,>=0.2.17->jupyter-ai-magics->jupyter-ai[all]) (2.4.3)\n",
      "Requirement already satisfied: aiosignal>=1.1.2 in /home/ec2-user/anaconda3/envs/python3/lib/python3.10/site-packages (from aiohttp<4.0.0,>=3.8.3->langchain<0.3.0,>=0.2.17->jupyter-ai-magics->jupyter-ai[all]) (1.3.1)\n",
      "Requirement already satisfied: attrs>=17.3.0 in /home/ec2-user/anaconda3/envs/python3/lib/python3.10/site-packages (from aiohttp<4.0.0,>=3.8.3->langchain<0.3.0,>=0.2.17->jupyter-ai-magics->jupyter-ai[all]) (23.2.0)\n",
      "Requirement already satisfied: frozenlist>=1.1.1 in /home/ec2-user/anaconda3/envs/python3/lib/python3.10/site-packages (from aiohttp<4.0.0,>=3.8.3->langchain<0.3.0,>=0.2.17->jupyter-ai-magics->jupyter-ai[all]) (1.4.1)\n",
      "Requirement already satisfied: multidict<7.0,>=4.5 in /home/ec2-user/anaconda3/envs/python3/lib/python3.10/site-packages (from aiohttp<4.0.0,>=3.8.3->langchain<0.3.0,>=0.2.17->jupyter-ai-magics->jupyter-ai[all]) (6.1.0)\n",
      "Requirement already satisfied: yarl<2.0,>=1.12.0 in /home/ec2-user/anaconda3/envs/python3/lib/python3.10/site-packages (from aiohttp<4.0.0,>=3.8.3->langchain<0.3.0,>=0.2.17->jupyter-ai-magics->jupyter-ai[all]) (1.15.5)\n",
      "Requirement already satisfied: distro<2,>=1.7.0 in /home/ec2-user/anaconda3/envs/python3/lib/python3.10/site-packages (from anthropic<1,>=0.30.0->langchain-anthropic->jupyter-ai-magics[all]; extra == \"all\"->jupyter-ai[all]) (1.9.0)\n",
      "Requirement already satisfied: jiter<1,>=0.4.0 in /home/ec2-user/anaconda3/envs/python3/lib/python3.10/site-packages (from anthropic<1,>=0.30.0->langchain-anthropic->jupyter-ai-magics[all]; extra == \"all\"->jupyter-ai[all]) (0.7.1)\n",
      "Requirement already satisfied: pycryptodome>=3.8.0 in /home/ec2-user/anaconda3/envs/python3/lib/python3.10/site-packages (from bce-python-sdk>=0.8.79->qianfan->jupyter-ai-magics[all]; extra == \"all\"->jupyter-ai[all]) (3.20.0)\n",
      "Requirement already satisfied: future>=0.6.0 in /home/ec2-user/anaconda3/envs/python3/lib/python3.10/site-packages (from bce-python-sdk>=0.8.79->qianfan->jupyter-ai-magics[all]; extra == \"all\"->jupyter-ai[all]) (1.0.0)\n",
      "Requirement already satisfied: six>=1.4.0 in /home/ec2-user/anaconda3/envs/python3/lib/python3.10/site-packages (from bce-python-sdk>=0.8.79->qianfan->jupyter-ai-magics[all]; extra == \"all\"->jupyter-ai[all]) (1.16.0)\n",
      "Requirement already satisfied: webencodings in /home/ec2-user/anaconda3/envs/python3/lib/python3.10/site-packages (from bleach!=5.0.0->nbconvert>=6.4.4->jupyter-server<3,>=1.6->jupyter-ai[all]) (0.5.1)\n",
      "Requirement already satisfied: fastavro<2.0.0,>=1.9.4 in /home/ec2-user/anaconda3/envs/python3/lib/python3.10/site-packages (from cohere<6.0,>=5.5.6->langchain-cohere->jupyter-ai-magics[all]; extra == \"all\"->jupyter-ai[all]) (1.9.7)\n",
      "Requirement already satisfied: parameterized<0.10.0,>=0.9.0 in /home/ec2-user/anaconda3/envs/python3/lib/python3.10/site-packages (from cohere<6.0,>=5.5.6->langchain-cohere->jupyter-ai-magics[all]; extra == \"all\"->jupyter-ai[all]) (0.9.0)\n",
      "Requirement already satisfied: pydantic-core<3.0.0,>=2.18.2 in /home/ec2-user/anaconda3/envs/python3/lib/python3.10/site-packages (from cohere<6.0,>=5.5.6->langchain-cohere->jupyter-ai-magics[all]; extra == \"all\"->jupyter-ai[all]) (2.23.4)\n",
      "Requirement already satisfied: types-requests<3.0.0,>=2.0.0 in /home/ec2-user/anaconda3/envs/python3/lib/python3.10/site-packages (from cohere<6.0,>=5.5.6->langchain-cohere->jupyter-ai-magics[all]; extra == \"all\"->jupyter-ai[all]) (2.32.0.20241016)\n",
      "Requirement already satisfied: marshmallow<4.0.0,>=3.18.0 in /home/ec2-user/anaconda3/envs/python3/lib/python3.10/site-packages (from dataclasses-json<0.7,>=0.5.7->langchain-community<0.3.0,>=0.2.19->jupyter-ai-magics->jupyter-ai[all]) (3.23.1)\n",
      "Requirement already satisfied: typing-inspect<1,>=0.4.0 in /home/ec2-user/anaconda3/envs/python3/lib/python3.10/site-packages (from dataclasses-json<0.7,>=0.5.7->langchain-community<0.3.0,>=0.2.19->jupyter-ai-magics->jupyter-ai[all]) (0.9.0)\n",
      "Requirement already satisfied: google-ai-generativelanguage==0.6.6 in /home/ec2-user/anaconda3/envs/python3/lib/python3.10/site-packages (from google-generativeai<0.8.0,>=0.7.0->langchain-google-genai->jupyter-ai-magics[all]; extra == \"all\"->jupyter-ai[all]) (0.6.6)\n",
      "Requirement already satisfied: google-api-core in /home/ec2-user/anaconda3/envs/python3/lib/python3.10/site-packages (from google-generativeai<0.8.0,>=0.7.0->langchain-google-genai->jupyter-ai-magics[all]; extra == \"all\"->jupyter-ai[all]) (2.23.0)\n",
      "Requirement already satisfied: google-api-python-client in /home/ec2-user/anaconda3/envs/python3/lib/python3.10/site-packages (from google-generativeai<0.8.0,>=0.7.0->langchain-google-genai->jupyter-ai-magics[all]; extra == \"all\"->jupyter-ai[all]) (2.154.0)\n",
      "Requirement already satisfied: google-auth>=2.15.0 in /home/ec2-user/anaconda3/envs/python3/lib/python3.10/site-packages (from google-generativeai<0.8.0,>=0.7.0->langchain-google-genai->jupyter-ai-magics[all]; extra == \"all\"->jupyter-ai[all]) (2.36.0)\n",
      "Requirement already satisfied: protobuf in /home/ec2-user/anaconda3/envs/python3/lib/python3.10/site-packages (from google-generativeai<0.8.0,>=0.7.0->langchain-google-genai->jupyter-ai-magics[all]; extra == \"all\"->jupyter-ai[all]) (4.25.5)\n",
      "Requirement already satisfied: proto-plus<2.0.0dev,>=1.22.3 in /home/ec2-user/anaconda3/envs/python3/lib/python3.10/site-packages (from google-ai-generativelanguage==0.6.6->google-generativeai<0.8.0,>=0.7.0->langchain-google-genai->jupyter-ai-magics[all]; extra == \"all\"->jupyter-ai[all]) (1.25.0)\n",
      "Requirement already satisfied: certifi in /home/ec2-user/anaconda3/envs/python3/lib/python3.10/site-packages (from httpx<0.28.0,>=0.27.0->ai21->jupyter-ai-magics[all]; extra == \"all\"->jupyter-ai[all]) (2024.8.30)\n",
      "Requirement already satisfied: httpcore==1.* in /home/ec2-user/anaconda3/envs/python3/lib/python3.10/site-packages (from httpx<0.28.0,>=0.27.0->ai21->jupyter-ai-magics[all]; extra == \"all\"->jupyter-ai[all]) (1.0.6)\n",
      "Requirement already satisfied: h11<0.15,>=0.13 in /home/ec2-user/anaconda3/envs/python3/lib/python3.10/site-packages (from httpcore==1.*->httpx<0.28.0,>=0.27.0->ai21->jupyter-ai-magics[all]; extra == \"all\"->jupyter-ai[all]) (0.14.0)\n",
      "Requirement already satisfied: parso<0.9.0,>=0.8.3 in /home/ec2-user/anaconda3/envs/python3/lib/python3.10/site-packages (from jedi>=0.16->ipython->jupyterlab<4,>=3.5->jupyter-ai[all]) (0.8.4)\n",
      "Requirement already satisfied: jsonschema-specifications>=2023.03.6 in /home/ec2-user/anaconda3/envs/python3/lib/python3.10/site-packages (from jsonschema>=4.18.0->jsonschema[format-nongpl]>=4.18.0->jupyter-events>=0.9.0->jupyter-server<3,>=1.6->jupyter-ai[all]) (2024.10.1)\n",
      "Requirement already satisfied: rpds-py>=0.7.1 in /home/ec2-user/anaconda3/envs/python3/lib/python3.10/site-packages (from jsonschema>=4.18.0->jsonschema[format-nongpl]>=4.18.0->jupyter-events>=0.9.0->jupyter-server<3,>=1.6->jupyter-ai[all]) (0.20.0)\n",
      "Requirement already satisfied: fqdn in /home/ec2-user/anaconda3/envs/python3/lib/python3.10/site-packages (from jsonschema[format-nongpl]>=4.18.0->jupyter-events>=0.9.0->jupyter-server<3,>=1.6->jupyter-ai[all]) (1.5.1)\n",
      "Requirement already satisfied: isoduration in /home/ec2-user/anaconda3/envs/python3/lib/python3.10/site-packages (from jsonschema[format-nongpl]>=4.18.0->jupyter-events>=0.9.0->jupyter-server<3,>=1.6->jupyter-ai[all]) (20.11.0)\n",
      "Requirement already satisfied: jsonpointer>1.13 in /home/ec2-user/anaconda3/envs/python3/lib/python3.10/site-packages (from jsonschema[format-nongpl]>=4.18.0->jupyter-events>=0.9.0->jupyter-server<3,>=1.6->jupyter-ai[all]) (3.0.0)\n",
      "Requirement already satisfied: uri-template in /home/ec2-user/anaconda3/envs/python3/lib/python3.10/site-packages (from jsonschema[format-nongpl]>=4.18.0->jupyter-events>=0.9.0->jupyter-server<3,>=1.6->jupyter-ai[all]) (1.3.0)\n",
      "Requirement already satisfied: webcolors>=24.6.0 in /home/ec2-user/anaconda3/envs/python3/lib/python3.10/site-packages (from jsonschema[format-nongpl]>=4.18.0->jupyter-events>=0.9.0->jupyter-server<3,>=1.6->jupyter-ai[all]) (24.8.0)\n",
      "Requirement already satisfied: jsonpatch<2.0,>=1.33 in /home/ec2-user/anaconda3/envs/python3/lib/python3.10/site-packages (from langchain-core<0.3.0,>=0.2.43->langchain<0.3.0,>=0.2.17->jupyter-ai-magics->jupyter-ai[all]) (1.33)\n",
      "Requirement already satisfied: orjson<4.0.0,>=3.9.14 in /home/ec2-user/anaconda3/envs/python3/lib/python3.10/site-packages (from langsmith<0.2.0,>=0.1.17->langchain<0.3.0,>=0.2.17->jupyter-ai-magics->jupyter-ai[all]) (3.10.12)\n",
      "Requirement already satisfied: requests-toolbelt<2.0.0,>=1.0.0 in /home/ec2-user/anaconda3/envs/python3/lib/python3.10/site-packages (from langsmith<0.2.0,>=0.1.17->langchain<0.3.0,>=0.2.17->jupyter-ai-magics->jupyter-ai[all]) (1.0.0)\n",
      "Requirement already satisfied: dill>=0.3.9 in /home/ec2-user/anaconda3/envs/python3/lib/python3.10/site-packages (from multiprocess>=0.70.12->qianfan->jupyter-ai-magics[all]; extra == \"all\"->jupyter-ai[all]) (0.3.9)\n",
      "Requirement already satisfied: pytz>=2020.1 in /home/ec2-user/anaconda3/envs/python3/lib/python3.10/site-packages (from pandas>=1.4.3->langchain-cohere->jupyter-ai-magics[all]; extra == \"all\"->jupyter-ai[all]) (2024.2)\n",
      "Requirement already satisfied: wcwidth in /home/ec2-user/anaconda3/envs/python3/lib/python3.10/site-packages (from prompt-toolkit<3.1.0,>=3.0.41->ipython->jupyterlab<4,>=3.5->jupyter-ai[all]) (0.2.13)\n",
      "Requirement already satisfied: annotated-types>=0.6.0 in /home/ec2-user/anaconda3/envs/python3/lib/python3.10/site-packages (from pydantic<3,>=1->langchain<0.3.0,>=0.2.17->jupyter-ai-magics->jupyter-ai[all]) (0.7.0)\n",
      "Requirement already satisfied: charset-normalizer<4,>=2 in /home/ec2-user/anaconda3/envs/python3/lib/python3.10/site-packages (from requests>=2.31->jupyterlab-server~=2.19->jupyterlab<4,>=3.5->jupyter-ai[all]) (3.4.0)\n",
      "Requirement already satisfied: markdown-it-py>=2.2.0 in /home/ec2-user/anaconda3/envs/python3/lib/python3.10/site-packages (from rich>=13.0.0->qianfan->jupyter-ai-magics[all]; extra == \"all\"->jupyter-ai[all]) (3.0.0)\n",
      "Requirement already satisfied: greenlet!=0.4.17 in /home/ec2-user/anaconda3/envs/python3/lib/python3.10/site-packages (from SQLAlchemy<3,>=1.4->langchain<0.3.0,>=0.2.17->jupyter-ai-magics->jupyter-ai[all]) (3.1.1)\n",
      "Requirement already satisfied: regex>=2022.1.18 in /home/ec2-user/anaconda3/envs/python3/lib/python3.10/site-packages (from tiktoken<1,>=0.7->langchain-openai->jupyter-ai-magics[all]; extra == \"all\"->jupyter-ai[all]) (2024.9.11)\n",
      "Requirement already satisfied: shellingham>=1.3.0 in /home/ec2-user/anaconda3/envs/python3/lib/python3.10/site-packages (from typer>=0.9.0->qianfan->jupyter-ai-magics[all]; extra == \"all\"->jupyter-ai[all]) (1.5.4)\n",
      "Requirement already satisfied: aiofiles<23,>=22.1.0 in /home/ec2-user/anaconda3/envs/python3/lib/python3.10/site-packages (from ypy-websocket<0.9.0,>=0.8.2->jupyter-server-ydoc~=0.8.0->jupyterlab<4,>=3.5->jupyter-ai[all]) (22.1.0)\n",
      "Requirement already satisfied: cffi>=1.0.1 in /home/ec2-user/anaconda3/envs/python3/lib/python3.10/site-packages (from argon2-cffi-bindings->argon2-cffi>=21.1->jupyter-server<3,>=1.6->jupyter-ai[all]) (1.17.1)\n",
      "Requirement already satisfied: soupsieve>1.2 in /home/ec2-user/anaconda3/envs/python3/lib/python3.10/site-packages (from beautifulsoup4->nbconvert>=6.4.4->jupyter-server<3,>=1.6->jupyter-ai[all]) (2.5)\n",
      "Requirement already satisfied: debugpy>=1.6.5 in /home/ec2-user/anaconda3/envs/python3/lib/python3.10/site-packages (from ipykernel->notebook<7->jupyterlab<4,>=3.5->jupyter-ai[all]) (1.8.7)\n",
      "Requirement already satisfied: executing>=1.2.0 in /home/ec2-user/anaconda3/envs/python3/lib/python3.10/site-packages (from stack-data->ipython->jupyterlab<4,>=3.5->jupyter-ai[all]) (2.1.0)\n",
      "Requirement already satisfied: asttokens>=2.1.0 in /home/ec2-user/anaconda3/envs/python3/lib/python3.10/site-packages (from stack-data->ipython->jupyterlab<4,>=3.5->jupyter-ai[all]) (2.4.1)\n",
      "Requirement already satisfied: pure-eval in /home/ec2-user/anaconda3/envs/python3/lib/python3.10/site-packages (from stack-data->ipython->jupyterlab<4,>=3.5->jupyter-ai[all]) (0.2.3)\n",
      "Requirement already satisfied: pycparser in /home/ec2-user/anaconda3/envs/python3/lib/python3.10/site-packages (from cffi>=1.0.1->argon2-cffi-bindings->argon2-cffi>=21.1->jupyter-server<3,>=1.6->jupyter-ai[all]) (2.22)\n",
      "Requirement already satisfied: googleapis-common-protos<2.0.dev0,>=1.56.2 in /home/ec2-user/anaconda3/envs/python3/lib/python3.10/site-packages (from google-api-core->google-generativeai<0.8.0,>=0.7.0->langchain-google-genai->jupyter-ai-magics[all]; extra == \"all\"->jupyter-ai[all]) (1.66.0)\n",
      "Requirement already satisfied: pyasn1-modules>=0.2.1 in /home/ec2-user/anaconda3/envs/python3/lib/python3.10/site-packages (from google-auth>=2.15.0->google-generativeai<0.8.0,>=0.7.0->langchain-google-genai->jupyter-ai-magics[all]; extra == \"all\"->jupyter-ai[all]) (0.4.1)\n",
      "Requirement already satisfied: rsa<5,>=3.1.4 in /home/ec2-user/anaconda3/envs/python3/lib/python3.10/site-packages (from google-auth>=2.15.0->google-generativeai<0.8.0,>=0.7.0->langchain-google-genai->jupyter-ai-magics[all]; extra == \"all\"->jupyter-ai[all]) (4.7.2)\n",
      "Requirement already satisfied: mdurl~=0.1 in /home/ec2-user/anaconda3/envs/python3/lib/python3.10/site-packages (from markdown-it-py>=2.2.0->rich>=13.0.0->qianfan->jupyter-ai-magics[all]; extra == \"all\"->jupyter-ai[all]) (0.1.2)\n",
      "Requirement already satisfied: mypy-extensions>=0.3.0 in /home/ec2-user/anaconda3/envs/python3/lib/python3.10/site-packages (from typing-inspect<1,>=0.4.0->dataclasses-json<0.7,>=0.5.7->langchain-community<0.3.0,>=0.2.19->jupyter-ai-magics->jupyter-ai[all]) (1.0.0)\n",
      "Requirement already satisfied: propcache>=0.2.0 in /home/ec2-user/anaconda3/envs/python3/lib/python3.10/site-packages (from yarl<2.0,>=1.12.0->aiohttp<4.0.0,>=3.8.3->langchain<0.3.0,>=0.2.17->jupyter-ai-magics->jupyter-ai[all]) (0.2.0)\n",
      "Requirement already satisfied: httplib2<1.dev0,>=0.19.0 in /home/ec2-user/anaconda3/envs/python3/lib/python3.10/site-packages (from google-api-python-client->google-generativeai<0.8.0,>=0.7.0->langchain-google-genai->jupyter-ai-magics[all]; extra == \"all\"->jupyter-ai[all]) (0.22.0)\n",
      "Requirement already satisfied: google-auth-httplib2<1.0.0,>=0.2.0 in /home/ec2-user/anaconda3/envs/python3/lib/python3.10/site-packages (from google-api-python-client->google-generativeai<0.8.0,>=0.7.0->langchain-google-genai->jupyter-ai-magics[all]; extra == \"all\"->jupyter-ai[all]) (0.2.0)\n",
      "Requirement already satisfied: uritemplate<5,>=3.0.1 in /home/ec2-user/anaconda3/envs/python3/lib/python3.10/site-packages (from google-api-python-client->google-generativeai<0.8.0,>=0.7.0->langchain-google-genai->jupyter-ai-magics[all]; extra == \"all\"->jupyter-ai[all]) (4.1.1)\n",
      "Requirement already satisfied: arrow>=0.15.0 in /home/ec2-user/anaconda3/envs/python3/lib/python3.10/site-packages (from isoduration->jsonschema[format-nongpl]>=4.18.0->jupyter-events>=0.9.0->jupyter-server<3,>=1.6->jupyter-ai[all]) (1.3.0)\n",
      "Requirement already satisfied: types-python-dateutil>=2.8.10 in /home/ec2-user/anaconda3/envs/python3/lib/python3.10/site-packages (from arrow>=0.15.0->isoduration->jsonschema[format-nongpl]>=4.18.0->jupyter-events>=0.9.0->jupyter-server<3,>=1.6->jupyter-ai[all]) (2.9.0.20241003)\n",
      "Requirement already satisfied: grpcio<2.0dev,>=1.33.2 in /home/ec2-user/anaconda3/envs/python3/lib/python3.10/site-packages (from google-api-core[grpc]!=2.0.*,!=2.1.*,!=2.10.*,!=2.2.*,!=2.3.*,!=2.4.*,!=2.5.*,!=2.6.*,!=2.7.*,!=2.8.*,!=2.9.*,<3.0.0dev,>=1.34.1->google-ai-generativelanguage==0.6.6->google-generativeai<0.8.0,>=0.7.0->langchain-google-genai->jupyter-ai-magics[all]; extra == \"all\"->jupyter-ai[all]) (1.68.0)\n",
      "Requirement already satisfied: grpcio-status<2.0.dev0,>=1.33.2 in /home/ec2-user/anaconda3/envs/python3/lib/python3.10/site-packages (from google-api-core[grpc]!=2.0.*,!=2.1.*,!=2.10.*,!=2.2.*,!=2.3.*,!=2.4.*,!=2.5.*,!=2.6.*,!=2.7.*,!=2.8.*,!=2.9.*,<3.0.0dev,>=1.34.1->google-ai-generativelanguage==0.6.6->google-generativeai<0.8.0,>=0.7.0->langchain-google-genai->jupyter-ai-magics[all]; extra == \"all\"->jupyter-ai[all]) (1.62.3)\n",
      "Requirement already satisfied: pyparsing!=3.0.0,!=3.0.1,!=3.0.2,!=3.0.3,<4,>=2.4.2 in /home/ec2-user/anaconda3/envs/python3/lib/python3.10/site-packages (from httplib2<1.dev0,>=0.19.0->google-api-python-client->google-generativeai<0.8.0,>=0.7.0->langchain-google-genai->jupyter-ai-magics[all]; extra == \"all\"->jupyter-ai[all]) (3.2.0)\n",
      "Requirement already satisfied: pyasn1<0.7.0,>=0.4.6 in /home/ec2-user/anaconda3/envs/python3/lib/python3.10/site-packages (from pyasn1-modules>=0.2.1->google-auth>=2.15.0->google-generativeai<0.8.0,>=0.7.0->langchain-google-genai->jupyter-ai-magics[all]; extra == \"all\"->jupyter-ai[all]) (0.6.1)\n",
      "Note: you may need to restart the kernel to use updated packages.\n"
     ]
    }
   ],
   "source": [
    "pip install jupyter-ai[all] "
   ]
  },
  {
   "cell_type": "code",
   "execution_count": 49,
   "id": "29f5cfe2-a541-41bf-803d-e597e343d02c",
   "metadata": {
    "tags": []
   },
   "outputs": [
    {
     "name": "stdout",
     "output_type": "stream",
     "text": [
      "Requirement already satisfied: pymongo in /home/ec2-user/anaconda3/envs/python3/lib/python3.10/site-packages (4.10.1)\n",
      "Requirement already satisfied: dnspython<3.0.0,>=1.16.0 in /home/ec2-user/anaconda3/envs/python3/lib/python3.10/site-packages (from pymongo) (2.7.0)\n",
      "Note: you may need to restart the kernel to use updated packages.\n"
     ]
    }
   ],
   "source": [
    "pip install pymongo"
   ]
  },
  {
   "cell_type": "code",
   "execution_count": 50,
   "id": "68dc7477-3a4f-4518-9046-3ffd289227cb",
   "metadata": {
    "tags": []
   },
   "outputs": [
    {
     "name": "stdout",
     "output_type": "stream",
     "text": [
      "Requirement already satisfied: openai in /home/ec2-user/anaconda3/envs/python3/lib/python3.10/site-packages (1.55.0)\n",
      "Requirement already satisfied: anyio<5,>=3.5.0 in /home/ec2-user/anaconda3/envs/python3/lib/python3.10/site-packages (from openai) (4.6.2.post1)\n",
      "Requirement already satisfied: distro<2,>=1.7.0 in /home/ec2-user/anaconda3/envs/python3/lib/python3.10/site-packages (from openai) (1.9.0)\n",
      "Requirement already satisfied: httpx<1,>=0.23.0 in /home/ec2-user/anaconda3/envs/python3/lib/python3.10/site-packages (from openai) (0.27.2)\n",
      "Requirement already satisfied: jiter<1,>=0.4.0 in /home/ec2-user/anaconda3/envs/python3/lib/python3.10/site-packages (from openai) (0.7.1)\n",
      "Requirement already satisfied: pydantic<3,>=1.9.0 in /home/ec2-user/anaconda3/envs/python3/lib/python3.10/site-packages (from openai) (2.9.2)\n",
      "Requirement already satisfied: sniffio in /home/ec2-user/anaconda3/envs/python3/lib/python3.10/site-packages (from openai) (1.3.1)\n",
      "Requirement already satisfied: tqdm>4 in /home/ec2-user/anaconda3/envs/python3/lib/python3.10/site-packages (from openai) (4.66.5)\n",
      "Requirement already satisfied: typing-extensions<5,>=4.11 in /home/ec2-user/anaconda3/envs/python3/lib/python3.10/site-packages (from openai) (4.12.2)\n",
      "Requirement already satisfied: idna>=2.8 in /home/ec2-user/anaconda3/envs/python3/lib/python3.10/site-packages (from anyio<5,>=3.5.0->openai) (3.10)\n",
      "Requirement already satisfied: exceptiongroup>=1.0.2 in /home/ec2-user/anaconda3/envs/python3/lib/python3.10/site-packages (from anyio<5,>=3.5.0->openai) (1.2.2)\n",
      "Requirement already satisfied: certifi in /home/ec2-user/anaconda3/envs/python3/lib/python3.10/site-packages (from httpx<1,>=0.23.0->openai) (2024.8.30)\n",
      "Requirement already satisfied: httpcore==1.* in /home/ec2-user/anaconda3/envs/python3/lib/python3.10/site-packages (from httpx<1,>=0.23.0->openai) (1.0.6)\n",
      "Requirement already satisfied: h11<0.15,>=0.13 in /home/ec2-user/anaconda3/envs/python3/lib/python3.10/site-packages (from httpcore==1.*->httpx<1,>=0.23.0->openai) (0.14.0)\n",
      "Requirement already satisfied: annotated-types>=0.6.0 in /home/ec2-user/anaconda3/envs/python3/lib/python3.10/site-packages (from pydantic<3,>=1.9.0->openai) (0.7.0)\n",
      "Requirement already satisfied: pydantic-core==2.23.4 in /home/ec2-user/anaconda3/envs/python3/lib/python3.10/site-packages (from pydantic<3,>=1.9.0->openai) (2.23.4)\n",
      "Note: you may need to restart the kernel to use updated packages.\n"
     ]
    }
   ],
   "source": [
    "pip install openai"
   ]
  },
  {
   "cell_type": "markdown",
   "id": "84aed8ba-c4ac-4547-90a1-6d7bb9ba45d7",
   "metadata": {},
   "source": [
    "## Secrete Manager Function"
   ]
  },
  {
   "cell_type": "code",
   "execution_count": 51,
   "id": "ac5f795d-e334-411b-b3f2-2fe9bed01a2e",
   "metadata": {
    "tags": []
   },
   "outputs": [],
   "source": [
    "import boto3\n",
    "from botocore.exceptions import ClientError\n",
    "import json\n",
    "\n",
    "def get_secret(secret_name):\n",
    "    region_name = \"us-east-1\"\n",
    "\n",
    "    # Create a Secrets Manager client\n",
    "    session = boto3.session.Session()\n",
    "    client = session.client(\n",
    "        service_name='secretsmanager',\n",
    "        region_name=region_name\n",
    "    )\n",
    "\n",
    "    try:\n",
    "        get_secret_value_response = client.get_secret_value(\n",
    "            SecretId=secret_name\n",
    "        )\n",
    "    except ClientError as e:\n",
    "        raise e\n",
    "\n",
    "    secret = get_secret_value_response['SecretString']\n",
    "    \n",
    "    return json.loads(secret)"
   ]
  },
  {
   "cell_type": "markdown",
   "id": "f8027b1d-9fda-4cb3-9eb7-72d737d8687a",
   "metadata": {
    "tags": []
   },
   "source": [
    "## Import Python Libraries and Credentials  "
   ]
  },
  {
   "cell_type": "code",
   "execution_count": 53,
   "id": "d9693a5a-f992-45a0-9961-0f7b1e7d2f55",
   "metadata": {
    "tags": []
   },
   "outputs": [],
   "source": [
    "import pymongo\n",
    "from pymongo import MongoClient\n",
    "import json\n",
    "import re\n",
    "import os\n",
    "\n",
    "os.environ[\"OPENAI_API_KEY\"] = get_secret('openai')['api_key']\n",
    "email = get_secret('email')['address']\n",
    "mongodb_connect = get_secret('mongodb')['connection_string']\n",
    "usa_jobs_key = get_secret('usajobs')['api_key']"
   ]
  },
  {
   "cell_type": "markdown",
   "id": "83c43621-a23c-4cff-a92e-baf838b9cfe3",
   "metadata": {},
   "source": [
    "## Connect to the MongoDB cluster"
   ]
  },
  {
   "cell_type": "code",
   "execution_count": 54,
   "id": "a29b88d5-b53a-4267-b9d6-c5e1d313b81a",
   "metadata": {
    "tags": []
   },
   "outputs": [],
   "source": [
    "mongo_client = MongoClient(mongodb_connect)\n",
    "db = mongo_client.demo # use or create a database named demo\n",
    "job_collection = db.job_collection #use or create a collection named tweet_collection"
   ]
  },
  {
   "cell_type": "code",
   "execution_count": 55,
   "id": "b1e2c942-dc28-4446-b3bc-196cfdba6f53",
   "metadata": {
    "tags": []
   },
   "outputs": [
    {
     "name": "stdout",
     "output_type": "stream",
     "text": [
      "The jupyter_ai_magics extension is already loaded. To reload it, use:\n",
      "  %reload_ext jupyter_ai_magics\n"
     ]
    }
   ],
   "source": [
    "%load_ext jupyter_ai_magics"
   ]
  },
  {
   "cell_type": "markdown",
   "id": "79de89aa-b735-48da-8ce2-ecd861c2d729",
   "metadata": {},
   "source": [
    "## Extract Twitter Data"
   ]
  },
  {
   "cell_type": "code",
   "execution_count": 56,
   "id": "53204f2f-f9c4-4fd7-98a3-befc4bb91331",
   "metadata": {
    "tags": []
   },
   "outputs": [
    {
     "data": {
      "text/markdown": [
       "| Provider | Environment variable | Set? | Models |\n",
       "|----------|----------------------|------|--------|\n",
       "| `ai21` | `AI21_API_KEY` | <abbr title=\"You have not set this environment variable, so you cannot use this provider's models.\">❌</abbr> | <ul><li>`ai21:j1-large`</li><li>`ai21:j1-grande`</li><li>`ai21:j1-jumbo`</li><li>`ai21:j1-grande-instruct`</li><li>`ai21:j2-large`</li><li>`ai21:j2-grande`</li><li>`ai21:j2-jumbo`</li><li>`ai21:j2-grande-instruct`</li><li>`ai21:j2-jumbo-instruct`</li></ul> |\n",
       "| `bedrock` | Not applicable. | <abbr title=\"Not applicable\">N/A</abbr> | <ul><li>`bedrock:amazon.titan-text-express-v1`</li><li>`bedrock:amazon.titan-text-lite-v1`</li><li>`bedrock:amazon.titan-text-premier-v1:0`</li><li>`bedrock:ai21.j2-ultra-v1`</li><li>`bedrock:ai21.j2-mid-v1`</li><li>`bedrock:ai21.jamba-instruct-v1:0`</li><li>`bedrock:cohere.command-light-text-v14`</li><li>`bedrock:cohere.command-text-v14`</li><li>`bedrock:cohere.command-r-v1:0`</li><li>`bedrock:cohere.command-r-plus-v1:0`</li><li>`bedrock:meta.llama2-13b-chat-v1`</li><li>`bedrock:meta.llama2-70b-chat-v1`</li><li>`bedrock:meta.llama3-8b-instruct-v1:0`</li><li>`bedrock:meta.llama3-70b-instruct-v1:0`</li><li>`bedrock:meta.llama3-1-8b-instruct-v1:0`</li><li>`bedrock:meta.llama3-1-70b-instruct-v1:0`</li><li>`bedrock:meta.llama3-1-405b-instruct-v1:0`</li><li>`bedrock:mistral.mistral-7b-instruct-v0:2`</li><li>`bedrock:mistral.mixtral-8x7b-instruct-v0:1`</li><li>`bedrock:mistral.mistral-large-2402-v1:0`</li><li>`bedrock:mistral.mistral-large-2407-v1:0`</li></ul> |\n",
       "| `bedrock-chat` | Not applicable. | <abbr title=\"Not applicable\">N/A</abbr> | <ul><li>`bedrock-chat:amazon.titan-text-express-v1`</li><li>`bedrock-chat:amazon.titan-text-lite-v1`</li><li>`bedrock-chat:amazon.titan-text-premier-v1:0`</li><li>`bedrock-chat:anthropic.claude-v2`</li><li>`bedrock-chat:anthropic.claude-v2:1`</li><li>`bedrock-chat:anthropic.claude-instant-v1`</li><li>`bedrock-chat:anthropic.claude-3-sonnet-20240229-v1:0`</li><li>`bedrock-chat:anthropic.claude-3-haiku-20240307-v1:0`</li><li>`bedrock-chat:anthropic.claude-3-opus-20240229-v1:0`</li><li>`bedrock-chat:anthropic.claude-3-5-haiku-20241022-v1:0`</li><li>`bedrock-chat:anthropic.claude-3-5-sonnet-20240620-v1:0`</li><li>`bedrock-chat:anthropic.claude-3-5-sonnet-20241022-v2:0`</li><li>`bedrock-chat:meta.llama2-13b-chat-v1`</li><li>`bedrock-chat:meta.llama2-70b-chat-v1`</li><li>`bedrock-chat:meta.llama3-8b-instruct-v1:0`</li><li>`bedrock-chat:meta.llama3-70b-instruct-v1:0`</li><li>`bedrock-chat:meta.llama3-1-8b-instruct-v1:0`</li><li>`bedrock-chat:meta.llama3-1-70b-instruct-v1:0`</li><li>`bedrock-chat:meta.llama3-1-405b-instruct-v1:0`</li><li>`bedrock-chat:mistral.mistral-7b-instruct-v0:2`</li><li>`bedrock-chat:mistral.mixtral-8x7b-instruct-v0:1`</li><li>`bedrock-chat:mistral.mistral-large-2402-v1:0`</li><li>`bedrock-chat:mistral.mistral-large-2407-v1:0`</li></ul> |\n",
       "| `bedrock-custom` | Not applicable. | <abbr title=\"Not applicable\">N/A</abbr> | Specify the ARN (Amazon Resource Name) of the custom/provisioned model as the model ID. For more information, see the [Amazon Bedrock model IDs documentation](https://docs.aws.amazon.com/bedrock/latest/userguide/model-ids.html).\n",
       "\n",
       "The model provider must also be specified below. This is the provider of your foundation model *in lowercase*, e.g. `amazon`, `anthropic`, `meta`, or `mistral`. |\n",
       "| `anthropic-chat` | `ANTHROPIC_API_KEY` | <abbr title=\"You have not set this environment variable, so you cannot use this provider's models.\">❌</abbr> | <ul><li>`anthropic-chat:claude-2.0`</li><li>`anthropic-chat:claude-2.1`</li><li>`anthropic-chat:claude-3-opus-20240229`</li><li>`anthropic-chat:claude-3-sonnet-20240229`</li><li>`anthropic-chat:claude-3-haiku-20240307`</li><li>`anthropic-chat:claude-3-5-haiku-20241022`</li><li>`anthropic-chat:claude-3-5-sonnet-20240620`</li><li>`anthropic-chat:claude-3-5-sonnet-20241022`</li></ul> |\n",
       "| `azure-chat-openai` | `AZURE_OPENAI_API_KEY` | <abbr title=\"You have not set this environment variable, so you cannot use this provider's models.\">❌</abbr> | This provider does not define a list of models. |\n",
       "| `cohere` | `COHERE_API_KEY` | <abbr title=\"You have not set this environment variable, so you cannot use this provider's models.\">❌</abbr> | <ul><li>`cohere:command`</li><li>`cohere:command-nightly`</li><li>`cohere:command-light`</li><li>`cohere:command-light-nightly`</li><li>`cohere:command-r-plus`</li><li>`cohere:command-r`</li></ul> |\n",
       "| `gemini` | `GOOGLE_API_KEY` | <abbr title=\"You have not set this environment variable, so you cannot use this provider's models.\">❌</abbr> | <ul><li>`gemini:gemini-1.5-pro`</li><li>`gemini:gemini-1.5-flash`</li><li>`gemini:gemini-1.0-pro`</li><li>`gemini:gemini-1.0-pro-001`</li><li>`gemini:gemini-1.0-pro-latest`</li><li>`gemini:gemini-1.0-pro-vision-latest`</li><li>`gemini:gemini-pro`</li><li>`gemini:gemini-pro-vision`</li></ul> |\n",
       "| `gpt4all` | Not applicable. | <abbr title=\"Not applicable\">N/A</abbr> | <ul><li>`gpt4all:ggml-gpt4all-j-v1.2-jazzy`</li><li>`gpt4all:ggml-gpt4all-j-v1.3-groovy`</li><li>`gpt4all:ggml-gpt4all-l13b-snoozy`</li><li>`gpt4all:mistral-7b-openorca.Q4_0`</li><li>`gpt4all:mistral-7b-instruct-v0.1.Q4_0`</li><li>`gpt4all:gpt4all-falcon-q4_0`</li><li>`gpt4all:wizardlm-13b-v1.2.Q4_0`</li><li>`gpt4all:nous-hermes-llama2-13b.Q4_0`</li><li>`gpt4all:gpt4all-13b-snoozy-q4_0`</li><li>`gpt4all:mpt-7b-chat-merges-q4_0`</li><li>`gpt4all:orca-mini-3b-gguf2-q4_0`</li><li>`gpt4all:starcoder-q4_0`</li><li>`gpt4all:rift-coder-v0-7b-q4_0`</li><li>`gpt4all:em_german_mistral_v01.Q4_0`</li></ul> |\n",
       "| `huggingface_hub` | `HUGGINGFACEHUB_API_TOKEN` | <abbr title=\"You have not set this environment variable, so you cannot use this provider's models.\">❌</abbr> | See [https://huggingface.co/models](https://huggingface.co/models) for a list of models. Pass a model's repository ID as the model ID; for example, `huggingface_hub:ExampleOwner/example-model`. |\n",
       "| `mistralai` | `MISTRAL_API_KEY` | <abbr title=\"You have not set this environment variable, so you cannot use this provider's models.\">❌</abbr> | <ul><li>`mistralai:open-mistral-7b`</li><li>`mistralai:open-mixtral-8x7b`</li><li>`mistralai:open-mixtral-8x22b`</li><li>`mistralai:mistral-small-latest`</li><li>`mistralai:mistral-medium-latest`</li><li>`mistralai:mistral-large-latest`</li><li>`mistralai:codestral-latest`</li></ul> |\n",
       "| `nvidia-chat` | `NVIDIA_API_KEY` | <abbr title=\"You have not set this environment variable, so you cannot use this provider's models.\">❌</abbr> | <ul><li>`nvidia-chat:playground_llama2_70b`</li><li>`nvidia-chat:playground_nemotron_steerlm_8b`</li><li>`nvidia-chat:playground_mistral_7b`</li><li>`nvidia-chat:playground_nv_llama2_rlhf_70b`</li><li>`nvidia-chat:playground_llama2_13b`</li><li>`nvidia-chat:playground_steerlm_llama_70b`</li><li>`nvidia-chat:playground_llama2_code_13b`</li><li>`nvidia-chat:playground_yi_34b`</li><li>`nvidia-chat:playground_mixtral_8x7b`</li><li>`nvidia-chat:playground_neva_22b`</li><li>`nvidia-chat:playground_llama2_code_34b`</li></ul> |\n",
       "| `ollama` | Not applicable. | <abbr title=\"Not applicable\">N/A</abbr> | See [https://www.ollama.com/library](https://www.ollama.com/library) for a list of models. Pass a model's name; for example, `deepseek-coder-v2`. |\n",
       "| `openai` | `OPENAI_API_KEY` | <abbr title=\"You have set this environment variable, so you can use this provider's models.\">✅</abbr> | <ul><li>`openai:babbage-002`</li><li>`openai:davinci-002`</li><li>`openai:gpt-3.5-turbo-instruct`</li></ul> |\n",
       "| `openai-chat` | `OPENAI_API_KEY` | <abbr title=\"You have set this environment variable, so you can use this provider's models.\">✅</abbr> | <ul><li>`openai-chat:gpt-3.5-turbo`</li><li>`openai-chat:gpt-3.5-turbo-0125`</li><li>`openai-chat:gpt-3.5-turbo-0301`</li><li>`openai-chat:gpt-3.5-turbo-0613`</li><li>`openai-chat:gpt-3.5-turbo-1106`</li><li>`openai-chat:gpt-3.5-turbo-16k`</li><li>`openai-chat:gpt-3.5-turbo-16k-0613`</li><li>`openai-chat:gpt-4`</li><li>`openai-chat:gpt-4-turbo`</li><li>`openai-chat:gpt-4-turbo-preview`</li><li>`openai-chat:gpt-4-0613`</li><li>`openai-chat:gpt-4-32k`</li><li>`openai-chat:gpt-4-32k-0613`</li><li>`openai-chat:gpt-4-0125-preview`</li><li>`openai-chat:gpt-4-1106-preview`</li><li>`openai-chat:gpt-4o`</li><li>`openai-chat:gpt-4o-mini`</li></ul> |\n",
       "| `openrouter` | `OPENROUTER_API_KEY` | <abbr title=\"You have not set this environment variable, so you cannot use this provider's models.\">❌</abbr> | This provider does not define a list of models. |\n",
       "| `qianfan` | `QIANFAN_AK`, `QIANFAN_SK` | <abbr title=\"You have not set all of these environment variables, so you cannot use this provider's models.\">❌</abbr> | <ul><li>`qianfan:ERNIE-Bot`</li><li>`qianfan:ERNIE-Bot-4`</li></ul> |\n",
       "| `sagemaker-endpoint` | Not applicable. | <abbr title=\"Not applicable\">N/A</abbr> | Specify an endpoint name as the model ID. In addition, you must specify a region name, request schema, and response path. For more information, see the documentation about [SageMaker endpoints deployment](https://docs.aws.amazon.com/sagemaker/latest/dg/realtime-endpoints-deploy-models.html) and about [using magic commands with SageMaker endpoints](https://jupyter-ai.readthedocs.io/en/latest/users/index.html#using-magic-commands-with-sagemaker-endpoints). |\n",
       "| `togetherai` | `TOGETHER_API_KEY` | <abbr title=\"You have not set this environment variable, so you cannot use this provider's models.\">❌</abbr> | <ul><li>`togetherai:Austism/chronos-hermes-13b`</li><li>`togetherai:DiscoResearch/DiscoLM-mixtral-8x7b-v2`</li><li>`togetherai:EleutherAI/llemma_7b`</li><li>`togetherai:Gryphe/MythoMax-L2-13b`</li><li>`togetherai:Meta-Llama/Llama-Guard-7b`</li><li>`togetherai:Nexusflow/NexusRaven-V2-13B`</li><li>`togetherai:NousResearch/Nous-Capybara-7B-V1p9`</li><li>`togetherai:NousResearch/Nous-Hermes-2-Yi-34B`</li><li>`togetherai:NousResearch/Nous-Hermes-Llama2-13b`</li><li>`togetherai:NousResearch/Nous-Hermes-Llama2-70b`</li></ul> |\n",
       "\n",
       "Aliases and custom commands:\n",
       "\n",
       "| Name | Target |\n",
       "|------|--------|\n",
       "| `gpt2` | `huggingface_hub:gpt2` |\n",
       "| `gpt3` | `openai:davinci-002` |\n",
       "| `chatgpt` | `openai-chat:gpt-3.5-turbo` |\n",
       "| `gpt4` | `openai-chat:gpt-4` |\n",
       "| `ernie-bot` | `qianfan:ERNIE-Bot` |\n",
       "| `ernie-bot-4` | `qianfan:ERNIE-Bot-4` |\n",
       "| `titan` | `bedrock:amazon.titan-tg1-large` |\n",
       "| `openrouter-claude` | `openrouter:anthropic/claude-3.5-sonnet:beta` |\n"
      ],
      "text/plain": [
       "ai21\n",
       "Requires environment variable: AI21_API_KEY (not set)\n",
       "* ai21:j1-large\n",
       "* ai21:j1-grande\n",
       "* ai21:j1-jumbo\n",
       "* ai21:j1-grande-instruct\n",
       "* ai21:j2-large\n",
       "* ai21:j2-grande\n",
       "* ai21:j2-jumbo\n",
       "* ai21:j2-grande-instruct\n",
       "* ai21:j2-jumbo-instruct\n",
       "\n",
       "bedrock\n",
       "* bedrock:amazon.titan-text-express-v1\n",
       "* bedrock:amazon.titan-text-lite-v1\n",
       "* bedrock:amazon.titan-text-premier-v1:0\n",
       "* bedrock:ai21.j2-ultra-v1\n",
       "* bedrock:ai21.j2-mid-v1\n",
       "* bedrock:ai21.jamba-instruct-v1:0\n",
       "* bedrock:cohere.command-light-text-v14\n",
       "* bedrock:cohere.command-text-v14\n",
       "* bedrock:cohere.command-r-v1:0\n",
       "* bedrock:cohere.command-r-plus-v1:0\n",
       "* bedrock:meta.llama2-13b-chat-v1\n",
       "* bedrock:meta.llama2-70b-chat-v1\n",
       "* bedrock:meta.llama3-8b-instruct-v1:0\n",
       "* bedrock:meta.llama3-70b-instruct-v1:0\n",
       "* bedrock:meta.llama3-1-8b-instruct-v1:0\n",
       "* bedrock:meta.llama3-1-70b-instruct-v1:0\n",
       "* bedrock:meta.llama3-1-405b-instruct-v1:0\n",
       "* bedrock:mistral.mistral-7b-instruct-v0:2\n",
       "* bedrock:mistral.mixtral-8x7b-instruct-v0:1\n",
       "* bedrock:mistral.mistral-large-2402-v1:0\n",
       "* bedrock:mistral.mistral-large-2407-v1:0\n",
       "\n",
       "bedrock-chat\n",
       "* bedrock-chat:amazon.titan-text-express-v1\n",
       "* bedrock-chat:amazon.titan-text-lite-v1\n",
       "* bedrock-chat:amazon.titan-text-premier-v1:0\n",
       "* bedrock-chat:anthropic.claude-v2\n",
       "* bedrock-chat:anthropic.claude-v2:1\n",
       "* bedrock-chat:anthropic.claude-instant-v1\n",
       "* bedrock-chat:anthropic.claude-3-sonnet-20240229-v1:0\n",
       "* bedrock-chat:anthropic.claude-3-haiku-20240307-v1:0\n",
       "* bedrock-chat:anthropic.claude-3-opus-20240229-v1:0\n",
       "* bedrock-chat:anthropic.claude-3-5-haiku-20241022-v1:0\n",
       "* bedrock-chat:anthropic.claude-3-5-sonnet-20240620-v1:0\n",
       "* bedrock-chat:anthropic.claude-3-5-sonnet-20241022-v2:0\n",
       "* bedrock-chat:meta.llama2-13b-chat-v1\n",
       "* bedrock-chat:meta.llama2-70b-chat-v1\n",
       "* bedrock-chat:meta.llama3-8b-instruct-v1:0\n",
       "* bedrock-chat:meta.llama3-70b-instruct-v1:0\n",
       "* bedrock-chat:meta.llama3-1-8b-instruct-v1:0\n",
       "* bedrock-chat:meta.llama3-1-70b-instruct-v1:0\n",
       "* bedrock-chat:meta.llama3-1-405b-instruct-v1:0\n",
       "* bedrock-chat:mistral.mistral-7b-instruct-v0:2\n",
       "* bedrock-chat:mistral.mixtral-8x7b-instruct-v0:1\n",
       "* bedrock-chat:mistral.mistral-large-2402-v1:0\n",
       "* bedrock-chat:mistral.mistral-large-2407-v1:0\n",
       "\n",
       "bedrock-custom\n",
       "* Specify the ARN (Amazon Resource Name) of the custom/provisioned model as the model ID. For more information, see the [Amazon Bedrock model IDs documentation](https://docs.aws.amazon.com/bedrock/latest/userguide/model-ids.html).\n",
       "\n",
       "The model provider must also be specified below. This is the provider of your foundation model *in lowercase*, e.g. `amazon`, `anthropic`, `meta`, or `mistral`.\n",
       "\n",
       "anthropic-chat\n",
       "Requires environment variable: ANTHROPIC_API_KEY (not set)\n",
       "* anthropic-chat:claude-2.0\n",
       "* anthropic-chat:claude-2.1\n",
       "* anthropic-chat:claude-3-opus-20240229\n",
       "* anthropic-chat:claude-3-sonnet-20240229\n",
       "* anthropic-chat:claude-3-haiku-20240307\n",
       "* anthropic-chat:claude-3-5-haiku-20241022\n",
       "* anthropic-chat:claude-3-5-sonnet-20240620\n",
       "* anthropic-chat:claude-3-5-sonnet-20241022\n",
       "\n",
       "azure-chat-openai\n",
       "Requires environment variable: AZURE_OPENAI_API_KEY (not set)\n",
       "* This provider does not define a list of models.\n",
       "\n",
       "cohere\n",
       "Requires environment variable: COHERE_API_KEY (not set)\n",
       "* cohere:command\n",
       "* cohere:command-nightly\n",
       "* cohere:command-light\n",
       "* cohere:command-light-nightly\n",
       "* cohere:command-r-plus\n",
       "* cohere:command-r\n",
       "\n",
       "gemini\n",
       "Requires environment variable: GOOGLE_API_KEY (not set)\n",
       "* gemini:gemini-1.5-pro\n",
       "* gemini:gemini-1.5-flash\n",
       "* gemini:gemini-1.0-pro\n",
       "* gemini:gemini-1.0-pro-001\n",
       "* gemini:gemini-1.0-pro-latest\n",
       "* gemini:gemini-1.0-pro-vision-latest\n",
       "* gemini:gemini-pro\n",
       "* gemini:gemini-pro-vision\n",
       "\n",
       "gpt4all\n",
       "* gpt4all:ggml-gpt4all-j-v1.2-jazzy\n",
       "* gpt4all:ggml-gpt4all-j-v1.3-groovy\n",
       "* gpt4all:ggml-gpt4all-l13b-snoozy\n",
       "* gpt4all:mistral-7b-openorca.Q4_0\n",
       "* gpt4all:mistral-7b-instruct-v0.1.Q4_0\n",
       "* gpt4all:gpt4all-falcon-q4_0\n",
       "* gpt4all:wizardlm-13b-v1.2.Q4_0\n",
       "* gpt4all:nous-hermes-llama2-13b.Q4_0\n",
       "* gpt4all:gpt4all-13b-snoozy-q4_0\n",
       "* gpt4all:mpt-7b-chat-merges-q4_0\n",
       "* gpt4all:orca-mini-3b-gguf2-q4_0\n",
       "* gpt4all:starcoder-q4_0\n",
       "* gpt4all:rift-coder-v0-7b-q4_0\n",
       "* gpt4all:em_german_mistral_v01.Q4_0\n",
       "\n",
       "huggingface_hub\n",
       "Requires environment variable: HUGGINGFACEHUB_API_TOKEN (not set)\n",
       "* See [https://huggingface.co/models](https://huggingface.co/models) for a list of models. Pass a model's repository ID as the model ID; for example, `huggingface_hub:ExampleOwner/example-model`.\n",
       "\n",
       "mistralai\n",
       "Requires environment variable: MISTRAL_API_KEY (not set)\n",
       "* mistralai:open-mistral-7b\n",
       "* mistralai:open-mixtral-8x7b\n",
       "* mistralai:open-mixtral-8x22b\n",
       "* mistralai:mistral-small-latest\n",
       "* mistralai:mistral-medium-latest\n",
       "* mistralai:mistral-large-latest\n",
       "* mistralai:codestral-latest\n",
       "\n",
       "nvidia-chat\n",
       "Requires environment variable: NVIDIA_API_KEY (not set)\n",
       "* nvidia-chat:playground_llama2_70b\n",
       "* nvidia-chat:playground_nemotron_steerlm_8b\n",
       "* nvidia-chat:playground_mistral_7b\n",
       "* nvidia-chat:playground_nv_llama2_rlhf_70b\n",
       "* nvidia-chat:playground_llama2_13b\n",
       "* nvidia-chat:playground_steerlm_llama_70b\n",
       "* nvidia-chat:playground_llama2_code_13b\n",
       "* nvidia-chat:playground_yi_34b\n",
       "* nvidia-chat:playground_mixtral_8x7b\n",
       "* nvidia-chat:playground_neva_22b\n",
       "* nvidia-chat:playground_llama2_code_34b\n",
       "\n",
       "ollama\n",
       "* See [https://www.ollama.com/library](https://www.ollama.com/library) for a list of models. Pass a model's name; for example, `deepseek-coder-v2`.\n",
       "\n",
       "openai\n",
       "Requires environment variable: OPENAI_API_KEY (set)\n",
       "* openai:babbage-002\n",
       "* openai:davinci-002\n",
       "* openai:gpt-3.5-turbo-instruct\n",
       "\n",
       "openai-chat\n",
       "Requires environment variable: OPENAI_API_KEY (set)\n",
       "* openai-chat:gpt-3.5-turbo\n",
       "* openai-chat:gpt-3.5-turbo-0125\n",
       "* openai-chat:gpt-3.5-turbo-0301\n",
       "* openai-chat:gpt-3.5-turbo-0613\n",
       "* openai-chat:gpt-3.5-turbo-1106\n",
       "* openai-chat:gpt-3.5-turbo-16k\n",
       "* openai-chat:gpt-3.5-turbo-16k-0613\n",
       "* openai-chat:gpt-4\n",
       "* openai-chat:gpt-4-turbo\n",
       "* openai-chat:gpt-4-turbo-preview\n",
       "* openai-chat:gpt-4-0613\n",
       "* openai-chat:gpt-4-32k\n",
       "* openai-chat:gpt-4-32k-0613\n",
       "* openai-chat:gpt-4-0125-preview\n",
       "* openai-chat:gpt-4-1106-preview\n",
       "* openai-chat:gpt-4o\n",
       "* openai-chat:gpt-4o-mini\n",
       "\n",
       "openrouter\n",
       "Requires environment variable: OPENROUTER_API_KEY (not set)\n",
       "* This provider does not define a list of models.\n",
       "\n",
       "qianfan\n",
       "Requires environment variables: QIANFAN_AK (not set), QIANFAN_SK (not set)\n",
       "* qianfan:ERNIE-Bot\n",
       "* qianfan:ERNIE-Bot-4\n",
       "\n",
       "sagemaker-endpoint\n",
       "* Specify an endpoint name as the model ID. In addition, you must specify a region name, request schema, and response path. For more information, see the documentation about [SageMaker endpoints deployment](https://docs.aws.amazon.com/sagemaker/latest/dg/realtime-endpoints-deploy-models.html) and about [using magic commands with SageMaker endpoints](https://jupyter-ai.readthedocs.io/en/latest/users/index.html#using-magic-commands-with-sagemaker-endpoints).\n",
       "\n",
       "togetherai\n",
       "Requires environment variable: TOGETHER_API_KEY (not set)\n",
       "* togetherai:Austism/chronos-hermes-13b\n",
       "* togetherai:DiscoResearch/DiscoLM-mixtral-8x7b-v2\n",
       "* togetherai:EleutherAI/llemma_7b\n",
       "* togetherai:Gryphe/MythoMax-L2-13b\n",
       "* togetherai:Meta-Llama/Llama-Guard-7b\n",
       "* togetherai:Nexusflow/NexusRaven-V2-13B\n",
       "* togetherai:NousResearch/Nous-Capybara-7B-V1p9\n",
       "* togetherai:NousResearch/Nous-Hermes-2-Yi-34B\n",
       "* togetherai:NousResearch/Nous-Hermes-Llama2-13b\n",
       "* togetherai:NousResearch/Nous-Hermes-Llama2-70b\n",
       "\n",
       "\n",
       "Aliases and custom commands:\n",
       "gpt2 - huggingface_hub:gpt2\n",
       "gpt3 - openai:davinci-002\n",
       "chatgpt - openai-chat:gpt-3.5-turbo\n",
       "gpt4 - openai-chat:gpt-4\n",
       "ernie-bot - qianfan:ERNIE-Bot\n",
       "ernie-bot-4 - qianfan:ERNIE-Bot-4\n",
       "titan - bedrock:amazon.titan-tg1-large\n",
       "openrouter-claude - openrouter:anthropic/claude-3.5-sonnet:beta\n"
      ]
     },
     "execution_count": 56,
     "metadata": {},
     "output_type": "execute_result"
    }
   ],
   "source": [
    "%ai list"
   ]
  },
  {
   "cell_type": "markdown",
   "id": "6dc8921a-3df9-42dc-9507-6f6287089bd9",
   "metadata": {},
   "source": [
    "Filter the Tweets you are interested in. You can use MongoDB Compass to help you write the queries."
   ]
  },
  {
   "cell_type": "code",
   "execution_count": 57,
   "id": "4e03cd55-54b9-4593-a51c-018c26417f7d",
   "metadata": {
    "tags": []
   },
   "outputs": [
    {
     "data": {
      "text/html": [
       "AI generated code inserted below &#11015;&#65039;"
      ],
      "text/plain": [
       "<IPython.core.display.HTML object>"
      ]
     },
     "execution_count": 57,
     "metadata": {
      "text/html": {
       "jupyter_ai": {
        "model_id": "gpt-4",
        "provider_id": "openai-chat"
       }
      }
     },
     "output_type": "execute_result"
    }
   ],
   "source": [
    "%%ai gpt4 -f code\n",
    "write a python function to search jobs from usajobs,\n",
    "retrive the maximal results per page and maximal pages,\n",
    "extract the key informaiton in the search result,\n",
    "store each job in a seperate mongodb document,\n",
    "a mongodb database and collection is already set up,\n",
    "do not set up the mongodb client and collection, use the collection  direclty.\n",
    "user proivdes the agent, authorization key, job location, job keywords,  collection "
   ]
  },
  {
   "cell_type": "code",
   "execution_count": 63,
   "id": "fc0d2a5e-8d50-49c4-87df-fcfd07ea03d9",
   "metadata": {
    "tags": []
   },
   "outputs": [],
   "source": [
    "import requests\n",
    "\n",
    "def search_jobs(agent, auth_key, job_location, job_keywords, collection):\n",
    "    base_url = 'https://data.usajobs.gov/api/search'\n",
    "    headers = {'User-Agent': agent, 'Authorization-Key': auth_key}\n",
    "    params = {'LocationName': job_location, 'Keyword': job_keywords, 'ResultsPerPage': 500}\n",
    "\n",
    "    page = 1\n",
    "    while page <= 10:\n",
    "        params['Page'] = page\n",
    "        response = requests.get(base_url, headers=headers, params=params)\n",
    "        if response.status_code != 200:\n",
    "            break\n",
    "\n",
    "        job_data = response.json()\n",
    "        for job in job_data['SearchResult']['SearchResultItems']:\n",
    "            job_info = job['MatchedObjectDescriptor']\n",
    "            collection.insert_one(job_info)\n",
    "\n",
    "        page += 1"
   ]
  },
  {
   "cell_type": "code",
   "execution_count": 64,
   "id": "a6993cfc-fcda-40ff-b328-680425df89de",
   "metadata": {
    "tags": []
   },
   "outputs": [],
   "source": [
    "search_jobs(collection= job_collection,\n",
    "            auth_key=usa_jobs_key, \n",
    "            agent= email, \n",
    "            job_keywords= 'ai',\n",
    "            job_location= 'fairfax, va')"
   ]
  },
  {
   "cell_type": "code",
   "execution_count": 65,
   "id": "2654b929-de20-4a2b-9a85-edce2177f817",
   "metadata": {
    "tags": []
   },
   "outputs": [
    {
     "data": {
      "text/plain": [
       "161"
      ]
     },
     "execution_count": 65,
     "metadata": {},
     "output_type": "execute_result"
    }
   ],
   "source": [
    "job_collection.estimated_document_count()"
   ]
  },
  {
   "cell_type": "code",
   "execution_count": 66,
   "id": "a4a47a1f-143f-41c5-87b3-9b2b520b9376",
   "metadata": {
    "tags": []
   },
   "outputs": [],
   "source": [
    "filter={\n",
    "\n",
    "    \n",
    "}\n",
    "project={\n",
    "    'QualificationSummary': 1, \n",
    "    'PositionID': 1\n",
    "}\n",
    "#rename the client to mongo_client\n",
    "result = mongo_client['demo']['job_collection'].find(\n",
    "  filter=filter,\n",
    "  projection=project\n",
    ")"
   ]
  },
  {
   "cell_type": "markdown",
   "id": "2a43ed0e-f23a-4a7e-8dfc-88443b137bc1",
   "metadata": {},
   "source": [
    "Save the extracted Tweets into the ```tweet_data``` list. Remove URLs and new lines to save the tokens."
   ]
  },
  {
   "cell_type": "code",
   "execution_count": 67,
   "id": "9fef848c-0352-42cc-9bfa-462508601102",
   "metadata": {
    "tags": []
   },
   "outputs": [],
   "source": [
    "job_data = []\n",
    "#url_pattern = r'http[s]?://(?:[a-zA-Z]|[0-9]|[$-_@.&+]|[!*\\\\(\\\\),]|(?:%[0-9a-fA-F][0-9a-fA-F]))+'\n",
    "for job in result:\n",
    "   # text_without_urls = re.sub(url_pattern, '', tweet['tweet']['text'])\n",
    "    job_data.append({'position_id':job['PositionID'],'summary':job['QualificationSummary']})"
   ]
  },
  {
   "cell_type": "code",
   "execution_count": 68,
   "id": "2655f42e-81f6-428a-a79c-1e9c9be3aa3e",
   "metadata": {
    "tags": []
   },
   "outputs": [
    {
     "name": "stdout",
     "output_type": "stream",
     "text": [
      "Number of jobs:  161\n"
     ]
    }
   ],
   "source": [
    "print('Number of jobs: ',len(job_data))"
   ]
  },
  {
   "cell_type": "markdown",
   "id": "c288dace-226b-47f1-a153-60f6044e21d4",
   "metadata": {},
   "source": [
    "## Set up OpenAI API"
   ]
  },
  {
   "cell_type": "markdown",
   "id": "2e425649-b944-476b-b051-10e386a37031",
   "metadata": {},
   "source": [
    "Load the OpenAI API key and set the API parameters.\n",
    "\n",
    "- Model type: usegpt-4o by default, and you choose any [availabel models](https://platform.openai.com/docs/models).\n",
    "- Token estimate: 100 tokens ~= 75 words in English. Total token usage = tokens in the prompt + tokens in the completion. You can get a more accurate estimate at [Tokenier](https://platform.openai.com/tokenizer).\n",
    "- Temperature: Lower temperatures produce more consistent outputs, while higher values generate more diverse and creative results. "
   ]
  },
  {
   "cell_type": "markdown",
   "id": "996910ad-0ac9-4e7f-b20a-1c45f0a3c57f",
   "metadata": {},
   "source": [
    "A help function, ```openai_help```, is created to pass the prompt."
   ]
  },
  {
   "cell_type": "code",
   "execution_count": 69,
   "id": "c24a56f1-d729-4d61-9344-441b126a86b3",
   "metadata": {
    "tags": []
   },
   "outputs": [],
   "source": [
    "from openai import OpenAI\n",
    "client = OpenAI(api_key=openai_api_key)\n",
    "model=\"gpt-4o\"\n",
    "temperature=0\n",
    "\n",
    "def openai_help(prompt, model=model, temperature =temperature ):\n",
    "    messages = [{\"role\": \"user\", \"content\": prompt}]\n",
    "    response = client.chat.completions.create(\n",
    "        model=model,\n",
    "        messages=messages,\n",
    "        temperature=temperature\n",
    "\n",
    "    )\n",
    "    return response.choices[0].message.content"
   ]
  },
  {
   "cell_type": "markdown",
   "id": "5808bba1-785c-4ccf-abdd-170ea861280a",
   "metadata": {},
   "source": [
    "## Sentiment analysis"
   ]
  },
  {
   "cell_type": "markdown",
   "id": "bf5f403a-716e-4c06-a8d1-6098dfe48e41",
   "metadata": {},
   "source": [
    "Analyze the sentiment of each tweet and save the result to the MongoDB database."
   ]
  },
  {
   "cell_type": "markdown",
   "id": "735f2c52-38a5-4ae2-b185-0a1f81763f50",
   "metadata": {
    "tags": []
   },
   "source": [
    "## Language translation"
   ]
  },
  {
   "cell_type": "markdown",
   "id": "48b69cff-e278-4613-a5c0-58aa042a9a87",
   "metadata": {},
   "source": [
    "Translate each tweet into a different language and save the result to the MongoDB database."
   ]
  },
  {
   "cell_type": "markdown",
   "id": "96f49995-c37d-47da-94f9-6600b4af83c5",
   "metadata": {},
   "source": [
    "## Identify emotions"
   ]
  },
  {
   "cell_type": "markdown",
   "id": "d90a76ee-a860-45bd-9b46-125313a53bfd",
   "metadata": {},
   "source": [
    "Identify whether a tweet expresses anger, and save the result to the MongoDB database."
   ]
  },
  {
   "cell_type": "markdown",
   "id": "d9297c56-9faf-4d5b-ac07-e1ad670ae78b",
   "metadata": {},
   "source": [
    "## Extract entities"
   ]
  },
  {
   "cell_type": "markdown",
   "id": "8e1f09e0-2ddd-4fe7-973a-c238067761c4",
   "metadata": {},
   "source": [
    "Extract person and organization names from each tweet and save the result to the MongoDB database."
   ]
  },
  {
   "cell_type": "code",
   "execution_count": 70,
   "id": "918a668f-3e48-40aa-a7fa-cd150254bd87",
   "metadata": {
    "scrolled": true,
    "tags": []
   },
   "outputs": [
    {
     "data": {
      "application/vnd.jupyter.widget-view+json": {
       "model_id": "19277e0c7b364da2bcd37ca5ac95cacc",
       "version_major": 2,
       "version_minor": 0
      },
      "text/plain": [
       "  0%|          | 0/161 [00:00<?, ?it/s]"
      ]
     },
     "metadata": {},
     "output_type": "display_data"
    }
   ],
   "source": [
    "for job in tqdm(job_data):\n",
    "  \n",
    "    prompt = f\"\"\"\n",
    "    extract common tech skills from the job summary,\n",
    "    summary text: {job['summary']},\n",
    "    format the response as a JSON object in the list.\n",
    "    if no skills is presented, use \"unknown\" in the list.\n",
    "    Do not wrap the JSON codes in JSON markers\n",
    "   \n",
    "    \"\"\"\n",
    "#     print(prompt)\n",
    "    try:\n",
    "        extract_result =openai_help(prompt)\n",
    "#        print(extract_result)\n",
    "\n",
    "        job_collection.update_one(\n",
    "                {'PositionID':job['position_id']},\n",
    "                {\"$set\":{'skills':json.loads(extract_result)}}\n",
    "                )\n",
    "    except:\n",
    "        pass"
   ]
  },
  {
   "cell_type": "markdown",
   "id": "6cdb16b3-6186-4eed-b134-3f585f099981",
   "metadata": {},
   "source": [
    "## Summarize"
   ]
  },
  {
   "cell_type": "markdown",
   "id": "02ebf1b1-10f2-48e0-ade6-a3bf1d8437e6",
   "metadata": {},
   "source": [
    "Summarize the tweet texts with a specific focus and save the result to the MongoDB database. By default, 500 tweets are analyzed in each batch. You can change the batch size based on the model you use."
   ]
  },
  {
   "cell_type": "markdown",
   "id": "20e84860-fd13-4751-a272-dadb5a327fa5",
   "metadata": {},
   "source": [
    "## Close Database Connection"
   ]
  },
  {
   "cell_type": "code",
   "execution_count": 71,
   "id": "7a69c341-fb79-45bb-bbd0-0864df2e3cde",
   "metadata": {
    "tags": []
   },
   "outputs": [],
   "source": [
    "mongo_client.close()"
   ]
  },
  {
   "cell_type": "code",
   "execution_count": null,
   "id": "2ac96105-7e0f-4f3b-b43c-69e34a6b2a5c",
   "metadata": {},
   "outputs": [],
   "source": []
  },
  {
   "cell_type": "code",
   "execution_count": null,
   "id": "323b654f-0d2d-4b3d-b298-6c40cae83fc3",
   "metadata": {},
   "outputs": [],
   "source": []
  }
 ],
 "metadata": {
  "kernelspec": {
   "display_name": "conda_python3",
   "language": "python",
   "name": "conda_python3"
  },
  "language_info": {
   "codemirror_mode": {
    "name": "ipython",
    "version": 3
   },
   "file_extension": ".py",
   "mimetype": "text/x-python",
   "name": "python",
   "nbconvert_exporter": "python",
   "pygments_lexer": "ipython3",
   "version": "3.10.15"
  }
 },
 "nbformat": 4,
 "nbformat_minor": 5
}
